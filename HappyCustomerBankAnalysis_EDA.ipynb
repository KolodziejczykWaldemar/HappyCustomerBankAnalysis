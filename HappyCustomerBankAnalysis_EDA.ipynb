{
 "cells": [
  {
   "cell_type": "markdown",
   "metadata": {},
   "source": [
    "# Case study - HappyCustomerBank\n",
    "\n",
    "### Opis problemu i danych:\n",
    "\n",
    "About Company\n",
    "\n",
    "Happy Customer Bank is a mid-sized private bank which deals in all kinds of loans. They have presence across all major cities in India and focus on lending products. They have a digital arm which sources customers from the internet.\n",
    "\n",
    "\n",
    "Problem\n",
    "\n",
    "Digital arms of banks today face challenges with lead conversion, they source leads through mediums like search, display, email campaigns and via affiliate partners. Here Happy Customer Bank faces same challenge of low conversion ratio. They have given a problem to identify the customers segments having higher conversion ratio for a specific loan product so that they can specifically target these customers, here they have provided a partial data set for salaried customers only from the last 3 months. They also capture basic details about customers like gender, DOB, existing EMI, employer Name, Loan Amount Required, Monthly Income, City, Interaction data and many others. Let’s look at the process at Happy Customer Bank.\n",
    "\n",
    "In above process, customer applications can drop majorly at two stages, at login and approval/ rejection by bank. Here we need to identify the segment of customers having higher disbursal rate in next 30 days.\n",
    "\n",
    "Data Set\n",
    "\n",
    "We have train and test data set, train data set has both input and output variable(s). Need to predict probability of disbursal for test data set.\n",
    "\n",
    "\n",
    "Input variables:\n",
    "\n",
    "- ID - Unique ID (can not be used for predictions)\n",
    "- Gender- Sex\n",
    "- City - Current City\n",
    "- Monthly_Income - Monthly Income in rupees\n",
    "- DOB - Date of Birth\n",
    "- Lead_Creation_Date - Lead Created on date\n",
    "- Loan_Amount_Applied - Loan Amount Requested (INR)\n",
    "- Loan_Tenure_Applied - Loan Tenure Requested (in years)\n",
    "- Existing_EMI - EMI of Existing Loans (INR)\n",
    "- Employer_Name - Employer Name\n",
    "- Salary_Account- Salary account with Bank\n",
    "- Mobile_Verified - Mobile Verified (Y/N)\n",
    "- Var5- Continuous classified variable\n",
    "- Var1- Categorical variable with multiple levels\n",
    "- Loan_Amount_Submitted- Loan Amount Revised and Selected after seeing Eligibility\n",
    "- Loan_Tenure_Submitted- Loan Tenure Revised and Selected after seeing Eligibility (Years)\n",
    "- Interest_Rate- Interest Rate of Submitted Loan Amount\n",
    "- Processing_Fee- Processing Fee of Submitted Loan Amount (INR)\n",
    "- EMI_Loan_Submitted- EMI of Submitted Loan Amount (INR)\n",
    "- Filled_Form- Filled Application form post quote\n",
    "- Device_Type- Device from which application was made (Browser/ Mobile)\n",
    "- Var2- Categorical Variable with multiple Levels\n",
    "- Source- Categorical Variable with multiple Levels\n",
    "- Var4- Categorical Variable with multiple Levels\n",
    "\n",
    "Outcomes:\n",
    "\n",
    "- LoggedIn- Application Logged (Variable for understanding the problem – cannot be used in prediction)\n",
    "- Disbursed- Loan Disbursed (Target Variable)\n",
    "\n",
    "Źródło:\n",
    "\n",
    "https://discuss.analyticsvidhya.com/t/hackathon-3-x-predict-customer-worth-for-happy-customer-bank/3802\n",
    "\n",
    "### Interesują nas dwie miary jakości rozwiązania: \n",
    "- AUC\n",
    "- Zysk, liczony w następujący sposób:\n",
    "\n",
    "  - zaklasyfikowanie obserwacji jako 1 kosztuje nas 100 zł (tzn. nasz model przypisuje obserwacji klasę 1),\n",
    "  - trafienie predykcją w klasę 1 przynosi nam 1000 zł zarobku.\n",
    "\n",
    "Cel: osiągnąć jak największy zysk."
   ]
  },
  {
   "cell_type": "code",
   "execution_count": 1,
   "metadata": {},
   "outputs": [],
   "source": [
    "import numpy as np\n",
    "import pandas as pd\n",
    "import matplotlib.pyplot as plt\n",
    "%matplotlib inline\n",
    "import seaborn as sns"
   ]
  },
  {
   "cell_type": "markdown",
   "metadata": {},
   "source": [
    "# 1. Data preparation"
   ]
  },
  {
   "cell_type": "code",
   "execution_count": 2,
   "metadata": {},
   "outputs": [],
   "source": [
    "data_train = pd.read_csv('Dane/HappyCustomerBank/Train_nyOWmfK.csv', encoding=\"latin1\")\n",
    "data_test = pd.read_csv('Dane/HappyCustomerBank/Test_bCtAN1w.csv', encoding=\"latin1\")"
   ]
  },
  {
   "cell_type": "code",
   "execution_count": 3,
   "metadata": {},
   "outputs": [
    {
     "data": {
      "text/plain": [
       "(87020, 26)"
      ]
     },
     "execution_count": 3,
     "metadata": {},
     "output_type": "execute_result"
    }
   ],
   "source": [
    "data_train.shape"
   ]
  },
  {
   "cell_type": "code",
   "execution_count": 4,
   "metadata": {},
   "outputs": [
    {
     "data": {
      "text/plain": [
       "(37717, 24)"
      ]
     },
     "execution_count": 4,
     "metadata": {},
     "output_type": "execute_result"
    }
   ],
   "source": [
    "data_test.shape"
   ]
  },
  {
   "cell_type": "markdown",
   "metadata": {},
   "source": [
    "Concat train set and test set for further analysis. "
   ]
  },
  {
   "cell_type": "code",
   "execution_count": 5,
   "metadata": {},
   "outputs": [],
   "source": [
    "data_test['Disbursed'] = np.nan"
   ]
  },
  {
   "cell_type": "code",
   "execution_count": 6,
   "metadata": {},
   "outputs": [],
   "source": [
    "data = pd.concat([data_train, data_test], axis=0, sort=False)"
   ]
  },
  {
   "cell_type": "code",
   "execution_count": 7,
   "metadata": {},
   "outputs": [],
   "source": [
    "data.drop('ID', inplace=True, axis=1)"
   ]
  },
  {
   "cell_type": "code",
   "execution_count": 8,
   "metadata": {},
   "outputs": [],
   "source": [
    "data.drop('LoggedIn', inplace=True, axis=1)"
   ]
  },
  {
   "cell_type": "code",
   "execution_count": 9,
   "metadata": {},
   "outputs": [
    {
     "data": {
      "text/plain": [
       "(124737, 24)"
      ]
     },
     "execution_count": 9,
     "metadata": {},
     "output_type": "execute_result"
    }
   ],
   "source": [
    "data.shape"
   ]
  },
  {
   "cell_type": "code",
   "execution_count": 10,
   "metadata": {
    "scrolled": true
   },
   "outputs": [
    {
     "data": {
      "text/html": [
       "<div>\n",
       "<style scoped>\n",
       "    .dataframe tbody tr th:only-of-type {\n",
       "        vertical-align: middle;\n",
       "    }\n",
       "\n",
       "    .dataframe tbody tr th {\n",
       "        vertical-align: top;\n",
       "    }\n",
       "\n",
       "    .dataframe thead th {\n",
       "        text-align: right;\n",
       "    }\n",
       "</style>\n",
       "<table border=\"1\" class=\"dataframe\">\n",
       "  <thead>\n",
       "    <tr style=\"text-align: right;\">\n",
       "      <th></th>\n",
       "      <th>0</th>\n",
       "      <th>1</th>\n",
       "    </tr>\n",
       "  </thead>\n",
       "  <tbody>\n",
       "    <tr>\n",
       "      <td>Gender</td>\n",
       "      <td>Female</td>\n",
       "      <td>Male</td>\n",
       "    </tr>\n",
       "    <tr>\n",
       "      <td>City</td>\n",
       "      <td>Delhi</td>\n",
       "      <td>Mumbai</td>\n",
       "    </tr>\n",
       "    <tr>\n",
       "      <td>Monthly_Income</td>\n",
       "      <td>20000</td>\n",
       "      <td>35000</td>\n",
       "    </tr>\n",
       "    <tr>\n",
       "      <td>DOB</td>\n",
       "      <td>23-May-78</td>\n",
       "      <td>07-Oct-85</td>\n",
       "    </tr>\n",
       "    <tr>\n",
       "      <td>Lead_Creation_Date</td>\n",
       "      <td>15-May-15</td>\n",
       "      <td>04-May-15</td>\n",
       "    </tr>\n",
       "    <tr>\n",
       "      <td>Loan_Amount_Applied</td>\n",
       "      <td>300000</td>\n",
       "      <td>200000</td>\n",
       "    </tr>\n",
       "    <tr>\n",
       "      <td>Loan_Tenure_Applied</td>\n",
       "      <td>5</td>\n",
       "      <td>2</td>\n",
       "    </tr>\n",
       "    <tr>\n",
       "      <td>Existing_EMI</td>\n",
       "      <td>0</td>\n",
       "      <td>0</td>\n",
       "    </tr>\n",
       "    <tr>\n",
       "      <td>Employer_Name</td>\n",
       "      <td>CYBOSOL</td>\n",
       "      <td>TATA CONSULTANCY SERVICES LTD (TCS)</td>\n",
       "    </tr>\n",
       "    <tr>\n",
       "      <td>Salary_Account</td>\n",
       "      <td>HDFC Bank</td>\n",
       "      <td>ICICI Bank</td>\n",
       "    </tr>\n",
       "    <tr>\n",
       "      <td>Mobile_Verified</td>\n",
       "      <td>N</td>\n",
       "      <td>Y</td>\n",
       "    </tr>\n",
       "    <tr>\n",
       "      <td>Var5</td>\n",
       "      <td>0</td>\n",
       "      <td>13</td>\n",
       "    </tr>\n",
       "    <tr>\n",
       "      <td>Var1</td>\n",
       "      <td>HBXX</td>\n",
       "      <td>HBXA</td>\n",
       "    </tr>\n",
       "    <tr>\n",
       "      <td>Loan_Amount_Submitted</td>\n",
       "      <td>NaN</td>\n",
       "      <td>200000</td>\n",
       "    </tr>\n",
       "    <tr>\n",
       "      <td>Loan_Tenure_Submitted</td>\n",
       "      <td>NaN</td>\n",
       "      <td>2</td>\n",
       "    </tr>\n",
       "    <tr>\n",
       "      <td>Interest_Rate</td>\n",
       "      <td>NaN</td>\n",
       "      <td>13.25</td>\n",
       "    </tr>\n",
       "    <tr>\n",
       "      <td>Processing_Fee</td>\n",
       "      <td>NaN</td>\n",
       "      <td>NaN</td>\n",
       "    </tr>\n",
       "    <tr>\n",
       "      <td>EMI_Loan_Submitted</td>\n",
       "      <td>NaN</td>\n",
       "      <td>6762.9</td>\n",
       "    </tr>\n",
       "    <tr>\n",
       "      <td>Filled_Form</td>\n",
       "      <td>N</td>\n",
       "      <td>N</td>\n",
       "    </tr>\n",
       "    <tr>\n",
       "      <td>Device_Type</td>\n",
       "      <td>Web-browser</td>\n",
       "      <td>Web-browser</td>\n",
       "    </tr>\n",
       "    <tr>\n",
       "      <td>Var2</td>\n",
       "      <td>G</td>\n",
       "      <td>G</td>\n",
       "    </tr>\n",
       "    <tr>\n",
       "      <td>Source</td>\n",
       "      <td>S122</td>\n",
       "      <td>S122</td>\n",
       "    </tr>\n",
       "    <tr>\n",
       "      <td>Var4</td>\n",
       "      <td>1</td>\n",
       "      <td>3</td>\n",
       "    </tr>\n",
       "    <tr>\n",
       "      <td>Disbursed</td>\n",
       "      <td>0</td>\n",
       "      <td>0</td>\n",
       "    </tr>\n",
       "  </tbody>\n",
       "</table>\n",
       "</div>"
      ],
      "text/plain": [
       "                                 0                                    1\n",
       "Gender                      Female                                 Male\n",
       "City                         Delhi                               Mumbai\n",
       "Monthly_Income               20000                                35000\n",
       "DOB                      23-May-78                            07-Oct-85\n",
       "Lead_Creation_Date       15-May-15                            04-May-15\n",
       "Loan_Amount_Applied         300000                               200000\n",
       "Loan_Tenure_Applied              5                                    2\n",
       "Existing_EMI                     0                                    0\n",
       "Employer_Name              CYBOSOL  TATA CONSULTANCY SERVICES LTD (TCS)\n",
       "Salary_Account           HDFC Bank                           ICICI Bank\n",
       "Mobile_Verified                  N                                    Y\n",
       "Var5                             0                                   13\n",
       "Var1                          HBXX                                 HBXA\n",
       "Loan_Amount_Submitted          NaN                               200000\n",
       "Loan_Tenure_Submitted          NaN                                    2\n",
       "Interest_Rate                  NaN                                13.25\n",
       "Processing_Fee                 NaN                                  NaN\n",
       "EMI_Loan_Submitted             NaN                               6762.9\n",
       "Filled_Form                      N                                    N\n",
       "Device_Type            Web-browser                          Web-browser\n",
       "Var2                             G                                    G\n",
       "Source                        S122                                 S122\n",
       "Var4                             1                                    3\n",
       "Disbursed                        0                                    0"
      ]
     },
     "execution_count": 10,
     "metadata": {},
     "output_type": "execute_result"
    }
   ],
   "source": [
    "data.head(2).T"
   ]
  },
  {
   "cell_type": "markdown",
   "metadata": {},
   "source": [
    "## 2. Exploratory Data Analysis"
   ]
  },
  {
   "cell_type": "code",
   "execution_count": 11,
   "metadata": {},
   "outputs": [
    {
     "name": "stdout",
     "output_type": "stream",
     "text": [
      "<class 'pandas.core.frame.DataFrame'>\n",
      "Int64Index: 124737 entries, 0 to 37716\n",
      "Data columns (total 24 columns):\n",
      "Gender                   124737 non-null object\n",
      "City                     123336 non-null object\n",
      "Monthly_Income           124737 non-null int64\n",
      "DOB                      124737 non-null object\n",
      "Lead_Creation_Date       124737 non-null object\n",
      "Loan_Amount_Applied      124626 non-null float64\n",
      "Loan_Tenure_Applied      124626 non-null float64\n",
      "Existing_EMI             124626 non-null float64\n",
      "Employer_Name            124624 non-null object\n",
      "Salary_Account           107936 non-null object\n",
      "Mobile_Verified          124737 non-null object\n",
      "Var5                     124737 non-null int64\n",
      "Var1                     124737 non-null object\n",
      "Loan_Amount_Submitted    75202 non-null float64\n",
      "Loan_Tenure_Submitted    75202 non-null float64\n",
      "Interest_Rate            39836 non-null float64\n",
      "Processing_Fee           39391 non-null float64\n",
      "EMI_Loan_Submitted       39836 non-null float64\n",
      "Filled_Form              124737 non-null object\n",
      "Device_Type              124737 non-null object\n",
      "Var2                     124737 non-null object\n",
      "Source                   124737 non-null object\n",
      "Var4                     124737 non-null int64\n",
      "Disbursed                87020 non-null float64\n",
      "dtypes: float64(9), int64(3), object(12)\n",
      "memory usage: 23.8+ MB\n"
     ]
    }
   ],
   "source": [
    "data.info()"
   ]
  },
  {
   "cell_type": "code",
   "execution_count": 12,
   "metadata": {},
   "outputs": [
    {
     "data": {
      "text/plain": [
       "Gender                       0\n",
       "City                      1401\n",
       "Monthly_Income               0\n",
       "DOB                          0\n",
       "Lead_Creation_Date           0\n",
       "Loan_Amount_Applied        111\n",
       "Loan_Tenure_Applied        111\n",
       "Existing_EMI               111\n",
       "Employer_Name              113\n",
       "Salary_Account           16801\n",
       "Mobile_Verified              0\n",
       "Var5                         0\n",
       "Var1                         0\n",
       "Loan_Amount_Submitted    49535\n",
       "Loan_Tenure_Submitted    49535\n",
       "Interest_Rate            84901\n",
       "Processing_Fee           85346\n",
       "EMI_Loan_Submitted       84901\n",
       "Filled_Form                  0\n",
       "Device_Type                  0\n",
       "Var2                         0\n",
       "Source                       0\n",
       "Var4                         0\n",
       "Disbursed                37717\n",
       "dtype: int64"
      ]
     },
     "execution_count": 12,
     "metadata": {},
     "output_type": "execute_result"
    }
   ],
   "source": [
    "data.isna().sum()"
   ]
  },
  {
   "cell_type": "markdown",
   "metadata": {},
   "source": [
    "Target variable: **Disbursed**"
   ]
  },
  {
   "cell_type": "code",
   "execution_count": 13,
   "metadata": {},
   "outputs": [],
   "source": [
    "disbursed_counts = data['Disbursed'].value_counts()"
   ]
  },
  {
   "cell_type": "code",
   "execution_count": 14,
   "metadata": {},
   "outputs": [
    {
     "data": {
      "text/plain": [
       "0.0    85747\n",
       "1.0     1273\n",
       "Name: Disbursed, dtype: int64"
      ]
     },
     "execution_count": 14,
     "metadata": {},
     "output_type": "execute_result"
    }
   ],
   "source": [
    "disbursed_counts"
   ]
  },
  {
   "cell_type": "code",
   "execution_count": 15,
   "metadata": {},
   "outputs": [
    {
     "data": {
      "text/plain": [
       "67.35820895522389"
      ]
     },
     "execution_count": 15,
     "metadata": {},
     "output_type": "execute_result"
    }
   ],
   "source": [
    "disbursed_counts[0] / disbursed_counts[1]"
   ]
  },
  {
   "cell_type": "markdown",
   "metadata": {},
   "source": [
    "Target classes are highly imbalanced (label [0] is about 67 times more frequent than label [1])."
   ]
  },
  {
   "cell_type": "code",
   "execution_count": 16,
   "metadata": {},
   "outputs": [],
   "source": [
    "# The list below will store concecutive feature names treated as categorical ones during analysis\n",
    "CATEGORICAL_FEATURES = []"
   ]
  },
  {
   "cell_type": "markdown",
   "metadata": {},
   "source": [
    "Variable: **Gender**"
   ]
  },
  {
   "cell_type": "code",
   "execution_count": 17,
   "metadata": {},
   "outputs": [
    {
     "data": {
      "text/plain": [
       "0"
      ]
     },
     "execution_count": 17,
     "metadata": {},
     "output_type": "execute_result"
    }
   ],
   "source": [
    "data['Gender'].isna().sum()"
   ]
  },
  {
   "cell_type": "code",
   "execution_count": 18,
   "metadata": {},
   "outputs": [
    {
     "data": {
      "text/plain": [
       "Male      71398\n",
       "Female    53339\n",
       "Name: Gender, dtype: int64"
      ]
     },
     "execution_count": 18,
     "metadata": {},
     "output_type": "execute_result"
    }
   ],
   "source": [
    "data['Gender'].value_counts()"
   ]
  },
  {
   "cell_type": "code",
   "execution_count": 19,
   "metadata": {},
   "outputs": [
    {
     "data": {
      "image/png": "[encoded data removed]",
      "text/plain": [
       "<Figure size 432x288 with 1 Axes>"
      ]
     },
     "metadata": {
      "needs_background": "light"
     },
     "output_type": "display_data"
    }
   ],
   "source": [
    "sns.countplot(x=\"Disbursed\", hue=\"Gender\", data=data, palette='BrBG')\n",
    "plt.yscale('log')"
   ]
  },
  {
   "cell_type": "code",
   "execution_count": 20,
   "metadata": {},
   "outputs": [],
   "source": [
    "CATEGORICAL_FEATURES.append('Gender')"
   ]
  },
  {
   "cell_type": "markdown",
   "metadata": {},
   "source": [
    "Variable:  **City**"
   ]
  },
  {
   "cell_type": "code",
   "execution_count": 21,
   "metadata": {},
   "outputs": [
    {
     "data": {
      "text/plain": [
       "1401"
      ]
     },
     "execution_count": 21,
     "metadata": {},
     "output_type": "execute_result"
    }
   ],
   "source": [
    "data['City'].isna().sum()"
   ]
  },
  {
   "cell_type": "markdown",
   "metadata": {},
   "source": [
    "We can fill misssing values with \"NotGiven\" category. "
   ]
  },
  {
   "cell_type": "code",
   "execution_count": 22,
   "metadata": {},
   "outputs": [],
   "source": [
    "data['City'].fillna('NotGiven', inplace=True)"
   ]
  },
  {
   "cell_type": "code",
   "execution_count": 23,
   "metadata": {},
   "outputs": [
    {
     "data": {
      "text/plain": [
       "Delhi          17936\n",
       "Bengaluru      15522\n",
       "Mumbai         15425\n",
       "Hyderabad      10410\n",
       "Chennai         9895\n",
       "               ...  \n",
       "Lohit              1\n",
       "Mainpuri           1\n",
       "GANDEVI            1\n",
       "Bandipore          1\n",
       "Lakshadweep        1\n",
       "Name: City, Length: 724, dtype: int64"
      ]
     },
     "execution_count": 23,
     "metadata": {},
     "output_type": "execute_result"
    }
   ],
   "source": [
    "data.City.value_counts()"
   ]
  },
  {
   "cell_type": "markdown",
   "metadata": {},
   "source": [
    "One of possible approaches is to create separate categories for most popular cities, putting the rest of samples into \"Other\" category."
   ]
  },
  {
   "cell_type": "code",
   "execution_count": 24,
   "metadata": {},
   "outputs": [
    {
     "data": {
      "text/plain": [
       "Delhi         17936\n",
       "Bengaluru     15522\n",
       "Mumbai        15425\n",
       "Hyderabad     10410\n",
       "Chennai        9895\n",
       "Pune           7427\n",
       "Kolkata        4282\n",
       "Ahmedabad      2528\n",
       "Jaipur         1892\n",
       "Gurgaon        1743\n",
       "Coimbatore     1659\n",
       "NotGiven       1401\n",
       "Thane          1306\n",
       "Chandigarh     1266\n",
       "Surat          1149\n",
       "Name: City, dtype: int64"
      ]
     },
     "execution_count": 24,
     "metadata": {},
     "output_type": "execute_result"
    }
   ],
   "source": [
    "data.City.value_counts().iloc[:15]"
   ]
  },
  {
   "cell_type": "code",
   "execution_count": 25,
   "metadata": {},
   "outputs": [],
   "source": [
    "frequent_cities = data.City.value_counts().index[:15]"
   ]
  },
  {
   "cell_type": "code",
   "execution_count": 26,
   "metadata": {},
   "outputs": [
    {
     "data": {
      "text/plain": [
       "Index(['Delhi', 'Bengaluru', 'Mumbai', 'Hyderabad', 'Chennai', 'Pune',\n",
       "       'Kolkata', 'Ahmedabad', 'Jaipur', 'Gurgaon', 'Coimbatore', 'NotGiven',\n",
       "       'Thane', 'Chandigarh', 'Surat'],\n",
       "      dtype='object')"
      ]
     },
     "execution_count": 26,
     "metadata": {},
     "output_type": "execute_result"
    }
   ],
   "source": [
    "frequent_cities"
   ]
  },
  {
   "cell_type": "code",
   "execution_count": 27,
   "metadata": {},
   "outputs": [],
   "source": [
    "def convert_city(city):\n",
    "    if city in frequent_cities:\n",
    "        return city\n",
    "    else:\n",
    "        return \"Other\"\n",
    "    \n",
    "data[\"City\"] = data.City.apply(convert_city)"
   ]
  },
  {
   "cell_type": "code",
   "execution_count": 28,
   "metadata": {},
   "outputs": [],
   "source": [
    "CATEGORICAL_FEATURES.append('City')"
   ]
  },
  {
   "cell_type": "markdown",
   "metadata": {},
   "source": [
    "Variable: **Monthly_Income**"
   ]
  },
  {
   "cell_type": "code",
   "execution_count": 29,
   "metadata": {},
   "outputs": [
    {
     "data": {
      "text/plain": [
       "0"
      ]
     },
     "execution_count": 29,
     "metadata": {},
     "output_type": "execute_result"
    }
   ],
   "source": [
    "data['Monthly_Income'].isna().sum()"
   ]
  },
  {
   "cell_type": "code",
   "execution_count": 30,
   "metadata": {},
   "outputs": [
    {
     "data": {
      "text/plain": [
       "count    1.247370e+05\n",
       "mean     5.309073e+04\n",
       "std      1.823394e+06\n",
       "min      0.000000e+00\n",
       "25%      1.650000e+04\n",
       "50%      2.500000e+04\n",
       "75%      4.000000e+04\n",
       "max      4.445544e+08\n",
       "Name: Monthly_Income, dtype: float64"
      ]
     },
     "execution_count": 30,
     "metadata": {},
     "output_type": "execute_result"
    }
   ],
   "source": [
    "data['Monthly_Income'].describe()"
   ]
  },
  {
   "cell_type": "code",
   "execution_count": 31,
   "metadata": {},
   "outputs": [
    {
     "data": {
      "text/plain": [
       "<matplotlib.axes._subplots.AxesSubplot at 0x2800d598188>"
      ]
     },
     "execution_count": 31,
     "metadata": {},
     "output_type": "execute_result"
    },
    {
     "data": {
      "image/png": "[encoded data removed]",
      "text/plain": [
       "<Figure size 432x288 with 1 Axes>"
      ]
     },
     "metadata": {
      "needs_background": "light"
     },
     "output_type": "display_data"
    }
   ],
   "source": [
    "data['Monthly_Income'].plot.hist(bins=100)"
   ]
  },
  {
   "cell_type": "code",
   "execution_count": 32,
   "metadata": {},
   "outputs": [
    {
     "data": {
      "text/plain": [
       "<matplotlib.axes._subplots.AxesSubplot at 0x2800da8da08>"
      ]
     },
     "execution_count": 32,
     "metadata": {},
     "output_type": "execute_result"
    },
    {
     "data": {
      "image/png": "[encoded data removed]",
      "text/plain": [
       "<Figure size 432x288 with 1 Axes>"
      ]
     },
     "metadata": {
      "needs_background": "light"
     },
     "output_type": "display_data"
    }
   ],
   "source": [
    "data[data['Monthly_Income'] < 10e4]['Monthly_Income'].plot.hist(bins=100)"
   ]
  },
  {
   "cell_type": "markdown",
   "metadata": {},
   "source": [
    "This variable has a skewed distribution. In order to handle such a big range of skewed values, we can introduce logarithmic transformation as additional feature for classifictaion. "
   ]
  },
  {
   "cell_type": "code",
   "execution_count": 33,
   "metadata": {},
   "outputs": [],
   "source": [
    "data['Monthly_Income_Log'] = np.log10(data['Monthly_Income'] + 1)"
   ]
  },
  {
   "cell_type": "code",
   "execution_count": 34,
   "metadata": {},
   "outputs": [
    {
     "data": {
      "text/plain": [
       "<matplotlib.axes._subplots.AxesSubplot at 0x2800ea9ec08>"
      ]
     },
     "execution_count": 34,
     "metadata": {},
     "output_type": "execute_result"
    },
    {
     "data": {
      "image/png": "[encoded data removed]",
      "text/plain": [
       "<Figure size 432x288 with 1 Axes>"
      ]
     },
     "metadata": {
      "needs_background": "light"
     },
     "output_type": "display_data"
    }
   ],
   "source": [
    "data['Monthly_Income_Log'].plot.hist(bins=100)"
   ]
  },
  {
   "cell_type": "code",
   "execution_count": 35,
   "metadata": {},
   "outputs": [
    {
     "data": {
      "text/plain": [
       "<matplotlib.legend.Legend at 0x2800eabd8c8>"
      ]
     },
     "execution_count": 35,
     "metadata": {},
     "output_type": "execute_result"
    },
    {
     "data": {
      "image/png": "[encoded data removed]",
      "text/plain": [
       "<Figure size 432x288 with 1 Axes>"
      ]
     },
     "metadata": {
      "needs_background": "light"
     },
     "output_type": "display_data"
    }
   ],
   "source": [
    "sns.distplot(data[data['Disbursed'] == 0]['Monthly_Income_Log'], hist=True, color=\"r\", kde_kws={\"shade\": True}, label='Not disbursed')\n",
    "sns.distplot(data[data['Disbursed'] == 1]['Monthly_Income_Log'], hist=True, color=\"g\", kde_kws={\"shade\": True}, label='Disbursed')\n",
    "plt.legend()"
   ]
  },
  {
   "cell_type": "markdown",
   "metadata": {},
   "source": [
    "Variable: **DOB**"
   ]
  },
  {
   "cell_type": "code",
   "execution_count": 36,
   "metadata": {},
   "outputs": [
    {
     "data": {
      "text/plain": [
       "0"
      ]
     },
     "execution_count": 36,
     "metadata": {},
     "output_type": "execute_result"
    }
   ],
   "source": [
    "data['DOB'].isna().sum()"
   ]
  },
  {
   "cell_type": "markdown",
   "metadata": {},
   "source": [
    "Assuming that dataset was composed in 2015, we can estimate age of the client. The rest of information stored in this variable can be dropped."
   ]
  },
  {
   "cell_type": "code",
   "execution_count": 37,
   "metadata": {},
   "outputs": [],
   "source": [
    "data['Age'] = data.DOB.apply(lambda dt: 2015 - (1900 + int(dt[-2:])))"
   ]
  },
  {
   "cell_type": "code",
   "execution_count": 38,
   "metadata": {},
   "outputs": [
    {
     "data": {
      "text/plain": [
       "<matplotlib.legend.Legend at 0x2800d181648>"
      ]
     },
     "execution_count": 38,
     "metadata": {},
     "output_type": "execute_result"
    },
    {
     "data": {
      "image/png": "[encoded data removed]",
      "text/plain": [
       "<Figure size 432x288 with 1 Axes>"
      ]
     },
     "metadata": {
      "needs_background": "light"
     },
     "output_type": "display_data"
    }
   ],
   "source": [
    "sns.distplot(data[data['Disbursed'] == 0]['Age'], hist=True, color=\"r\", kde_kws={\"shade\": True}, label='Not disbursed')\n",
    "sns.distplot(data[data['Disbursed'] == 1]['Age'], hist=True, color=\"g\", kde_kws={\"shade\": True}, label='Disbursed')\n",
    "plt.legend()"
   ]
  },
  {
   "cell_type": "code",
   "execution_count": 39,
   "metadata": {},
   "outputs": [],
   "source": [
    "data.drop('DOB', inplace=True, axis=1)"
   ]
  },
  {
   "cell_type": "markdown",
   "metadata": {},
   "source": [
    "Variable: **Lead_Creation_Date**"
   ]
  },
  {
   "cell_type": "code",
   "execution_count": 40,
   "metadata": {},
   "outputs": [
    {
     "data": {
      "text/plain": [
       "0"
      ]
     },
     "execution_count": 40,
     "metadata": {},
     "output_type": "execute_result"
    }
   ],
   "source": [
    "data['Lead_Creation_Date'].isna().sum()"
   ]
  },
  {
   "cell_type": "code",
   "execution_count": 41,
   "metadata": {},
   "outputs": [
    {
     "data": {
      "text/plain": [
       "array(['15'], dtype=object)"
      ]
     },
     "execution_count": 41,
     "metadata": {},
     "output_type": "execute_result"
    }
   ],
   "source": [
    "data.Lead_Creation_Date.apply(lambda dt: dt[-2:]).unique()"
   ]
  },
  {
   "cell_type": "markdown",
   "metadata": {},
   "source": [
    "All operations were made in 2015, therefore year won't help predict target value. We can decide to store information about month of lead creation date."
   ]
  },
  {
   "cell_type": "code",
   "execution_count": 42,
   "metadata": {},
   "outputs": [],
   "source": [
    "data['Lead_Creation_Month'] = data.Lead_Creation_Date.apply(lambda dt: dt[3:-3])"
   ]
  },
  {
   "cell_type": "code",
   "execution_count": 43,
   "metadata": {},
   "outputs": [
    {
     "data": {
      "text/plain": [
       "array(['May', 'Jun', 'Jul'], dtype=object)"
      ]
     },
     "execution_count": 43,
     "metadata": {},
     "output_type": "execute_result"
    }
   ],
   "source": [
    "data['Lead_Creation_Month'].unique()"
   ]
  },
  {
   "cell_type": "code",
   "execution_count": 44,
   "metadata": {},
   "outputs": [
    {
     "data": {
      "image/png": "[encoded data removed]",
      "text/plain": [
       "<Figure size 432x288 with 1 Axes>"
      ]
     },
     "metadata": {
      "needs_background": "light"
     },
     "output_type": "display_data"
    }
   ],
   "source": [
    "sns.countplot(x=\"Disbursed\", hue=\"Lead_Creation_Month\", data=data)\n",
    "plt.yscale('log')"
   ]
  },
  {
   "cell_type": "code",
   "execution_count": 45,
   "metadata": {},
   "outputs": [],
   "source": [
    "data.drop('Lead_Creation_Date', inplace=True, axis=1)"
   ]
  },
  {
   "cell_type": "code",
   "execution_count": 46,
   "metadata": {},
   "outputs": [],
   "source": [
    "CATEGORICAL_FEATURES.append('Lead_Creation_Month')"
   ]
  },
  {
   "cell_type": "markdown",
   "metadata": {},
   "source": [
    "Variable: **Loan_Amount_Applied**"
   ]
  },
  {
   "cell_type": "code",
   "execution_count": 47,
   "metadata": {},
   "outputs": [
    {
     "data": {
      "text/plain": [
       "111"
      ]
     },
     "execution_count": 47,
     "metadata": {},
     "output_type": "execute_result"
    }
   ],
   "source": [
    "data['Loan_Amount_Applied'].isna().sum()"
   ]
  },
  {
   "cell_type": "code",
   "execution_count": 48,
   "metadata": {},
   "outputs": [
    {
     "data": {
      "text/plain": [
       "0.0         41314\n",
       "100000.0    20627\n",
       "200000.0    18705\n",
       "300000.0    14334\n",
       "500000.0    13905\n",
       "            ...  \n",
       "89000.0         1\n",
       "486287.0        1\n",
       "223241.0        1\n",
       "243000.0        1\n",
       "33000.0         1\n",
       "Name: Loan_Amount_Applied, Length: 320, dtype: int64"
      ]
     },
     "execution_count": 48,
     "metadata": {},
     "output_type": "execute_result"
    }
   ],
   "source": [
    "data.Loan_Amount_Applied.value_counts()"
   ]
  },
  {
   "cell_type": "markdown",
   "metadata": {},
   "source": [
    "We can aggregate 41314 zeros and 111 missing values into one feature called \"Missing_Loan_Amount_Applied\"."
   ]
  },
  {
   "cell_type": "code",
   "execution_count": 49,
   "metadata": {},
   "outputs": [],
   "source": [
    "data['Missing_Loan_Amount_Applied'] = data.Loan_Amount_Applied.isna() | (data.Loan_Amount_Applied == 0.0)"
   ]
  },
  {
   "cell_type": "markdown",
   "metadata": {},
   "source": [
    "Missing values can be raplaced either by zeros (as most frequent value) or more sophisticated staticsics (like median sampling from distribution). In this case they will be replaced by zeros."
   ]
  },
  {
   "cell_type": "code",
   "execution_count": 50,
   "metadata": {},
   "outputs": [],
   "source": [
    "data.loc[data.Loan_Amount_Applied.isna(), 'Loan_Amount_Applied'] = 0.0"
   ]
  },
  {
   "cell_type": "code",
   "execution_count": 51,
   "metadata": {},
   "outputs": [],
   "source": [
    "CATEGORICAL_FEATURES.append('Missing_Loan_Amount_Applied')"
   ]
  },
  {
   "cell_type": "markdown",
   "metadata": {},
   "source": [
    "Variable: **Loan_Tenure_Applied**"
   ]
  },
  {
   "cell_type": "code",
   "execution_count": 52,
   "metadata": {},
   "outputs": [
    {
     "data": {
      "text/plain": [
       "111"
      ]
     },
     "execution_count": 52,
     "metadata": {},
     "output_type": "execute_result"
    }
   ],
   "source": [
    "data['Loan_Tenure_Applied'].isna().sum()"
   ]
  },
  {
   "cell_type": "code",
   "execution_count": 53,
   "metadata": {},
   "outputs": [
    {
     "data": {
      "text/plain": [
       "0.0     48380\n",
       "5.0     27464\n",
       "3.0     18800\n",
       "2.0     13490\n",
       "4.0      9556\n",
       "1.0      6864\n",
       "10.0       61\n",
       "7.0         6\n",
       "6.0         3\n",
       "9.0         1\n",
       "8.0         1\n",
       "Name: Loan_Tenure_Applied, dtype: int64"
      ]
     },
     "execution_count": 53,
     "metadata": {},
     "output_type": "execute_result"
    }
   ],
   "source": [
    "data.Loan_Tenure_Applied.value_counts()"
   ]
  },
  {
   "cell_type": "markdown",
   "metadata": {},
   "source": [
    "The same strategy as with Loan_Amount_Applied."
   ]
  },
  {
   "cell_type": "code",
   "execution_count": 54,
   "metadata": {},
   "outputs": [],
   "source": [
    "data['Missing_Loan_Tenure_Applied'] = data.Loan_Tenure_Applied.isna() | (data.Loan_Tenure_Applied == 0.0)"
   ]
  },
  {
   "cell_type": "code",
   "execution_count": 55,
   "metadata": {},
   "outputs": [],
   "source": [
    "data.loc[data.Loan_Tenure_Applied.isna(), 'Loan_Tenure_Applied'] = 0.0"
   ]
  },
  {
   "cell_type": "code",
   "execution_count": 56,
   "metadata": {},
   "outputs": [],
   "source": [
    "CATEGORICAL_FEATURES.append('Missing_Loan_Tenure_Applied')"
   ]
  },
  {
   "cell_type": "code",
   "execution_count": 57,
   "metadata": {},
   "outputs": [
    {
     "data": {
      "text/plain": [
       "<matplotlib.legend.Legend at 0x2800f94d8c8>"
      ]
     },
     "execution_count": 57,
     "metadata": {},
     "output_type": "execute_result"
    },
    {
     "data": {
      "image/png": "[encoded data removed]",
      "text/plain": [
       "<Figure size 720x360 with 1 Axes>"
      ]
     },
     "metadata": {
      "needs_background": "light"
     },
     "output_type": "display_data"
    }
   ],
   "source": [
    "plt.figure(figsize=(10, 5))\n",
    "sns.countplot(x=\"Disbursed\", hue=\"Loan_Tenure_Applied\", data=data, palette='coolwarm')\n",
    "plt.yscale('log')\n",
    "plt.legend(loc='upper right')"
   ]
  },
  {
   "cell_type": "markdown",
   "metadata": {},
   "source": [
    "Variable: **Existing_EMI**"
   ]
  },
  {
   "cell_type": "code",
   "execution_count": 58,
   "metadata": {},
   "outputs": [
    {
     "data": {
      "text/plain": [
       "111"
      ]
     },
     "execution_count": 58,
     "metadata": {},
     "output_type": "execute_result"
    }
   ],
   "source": [
    "data['Existing_EMI'].isna().sum()"
   ]
  },
  {
   "cell_type": "code",
   "execution_count": 59,
   "metadata": {},
   "outputs": [
    {
     "data": {
      "text/plain": [
       "0.0        83452\n",
       "5000.0      3806\n",
       "10000.0     2516\n",
       "3000.0      2195\n",
       "4000.0      1780\n",
       "           ...  \n",
       "9387.0         1\n",
       "11434.0        1\n",
       "13481.0        1\n",
       "27250.0        1\n",
       "3005.0         1\n",
       "Name: Existing_EMI, Length: 4704, dtype: int64"
      ]
     },
     "execution_count": 59,
     "metadata": {},
     "output_type": "execute_result"
    }
   ],
   "source": [
    "data.Existing_EMI.value_counts()"
   ]
  },
  {
   "cell_type": "markdown",
   "metadata": {},
   "source": [
    "The same strategy as with Loan_Amount_Applied and Loan_Tenure_Applied."
   ]
  },
  {
   "cell_type": "code",
   "execution_count": 60,
   "metadata": {},
   "outputs": [],
   "source": [
    "data['Missing_Existing_EMI'] = data.Loan_Tenure_Applied.isna() | (data.Loan_Tenure_Applied == 0.0)"
   ]
  },
  {
   "cell_type": "code",
   "execution_count": 61,
   "metadata": {},
   "outputs": [],
   "source": [
    "data.loc[data.Existing_EMI.isna(), 'Existing_EMI'] = 0.0"
   ]
  },
  {
   "cell_type": "code",
   "execution_count": 62,
   "metadata": {},
   "outputs": [],
   "source": [
    "CATEGORICAL_FEATURES.append('Missing_Existing_EMI')"
   ]
  },
  {
   "cell_type": "markdown",
   "metadata": {},
   "source": [
    "Variable: **Employer_Name**"
   ]
  },
  {
   "cell_type": "code",
   "execution_count": 63,
   "metadata": {},
   "outputs": [
    {
     "data": {
      "text/plain": [
       "113"
      ]
     },
     "execution_count": 63,
     "metadata": {},
     "output_type": "execute_result"
    }
   ],
   "source": [
    "data['Employer_Name'].isna().sum()"
   ]
  },
  {
   "cell_type": "code",
   "execution_count": 64,
   "metadata": {},
   "outputs": [
    {
     "data": {
      "text/plain": [
       "0                                               6900\n",
       "TATA CONSULTANCY SERVICES LTD (TCS)              754\n",
       "COGNIZANT TECHNOLOGY SOLUTIONS INDIA PVT LTD     558\n",
       "ACCENTURE SERVICES PVT LTD                       476\n",
       "GOOGLE                                           408\n",
       "                                                ... \n",
       "ARVIND LIFESTYLE BRANDS PVT LTD                    1\n",
       "EMPLOYEES STATE INS CORPORATION                    1\n",
       "UP HEALTH                                          1\n",
       "RELIANACE GENERAL INSURANACE                       1\n",
       "ANNARITA COUTO                                     1\n",
       "Name: Employer_Name, Length: 57193, dtype: int64"
      ]
     },
     "execution_count": 64,
     "metadata": {},
     "output_type": "execute_result"
    }
   ],
   "source": [
    "data['Employer_Name'].value_counts()"
   ]
  },
  {
   "cell_type": "markdown",
   "metadata": {},
   "source": [
    "We can replace missing values and zeros with \"Other\" field. "
   ]
  },
  {
   "cell_type": "code",
   "execution_count": 65,
   "metadata": {},
   "outputs": [],
   "source": [
    "data.loc[data.Employer_Name.isna() | (data.Employer_Name == '0'), 'Employer_Name'] = 'NotGiven'"
   ]
  },
  {
   "cell_type": "code",
   "execution_count": 66,
   "metadata": {},
   "outputs": [
    {
     "data": {
      "text/plain": [
       "NotGiven                                        7013\n",
       "TATA CONSULTANCY SERVICES LTD (TCS)              754\n",
       "COGNIZANT TECHNOLOGY SOLUTIONS INDIA PVT LTD     558\n",
       "ACCENTURE SERVICES PVT LTD                       476\n",
       "GOOGLE                                           408\n",
       "                                                ... \n",
       "ARVIND LIFESTYLE BRANDS PVT LTD                    1\n",
       "EMPLOYEES STATE INS CORPORATION                    1\n",
       "UP HEALTH                                          1\n",
       "RELIANACE GENERAL INSURANACE                       1\n",
       "ANNARITA COUTO                                     1\n",
       "Name: Employer_Name, Length: 57193, dtype: int64"
      ]
     },
     "execution_count": 66,
     "metadata": {},
     "output_type": "execute_result"
    }
   ],
   "source": [
    "data['Employer_Name'].value_counts()"
   ]
  },
  {
   "cell_type": "markdown",
   "metadata": {},
   "source": [
    "We are still left with over 57k unique values. One of possible options is to group values by their mean **Disbursed** score and split them into few buckets."
   ]
  },
  {
   "cell_type": "code",
   "execution_count": 67,
   "metadata": {},
   "outputs": [],
   "source": [
    "employer_means = data_train.groupby('Employer_Name')['Disbursed'].mean()"
   ]
  },
  {
   "cell_type": "code",
   "execution_count": 68,
   "metadata": {},
   "outputs": [
    {
     "data": {
      "text/plain": [
       "nan"
      ]
     },
     "execution_count": 68,
     "metadata": {},
     "output_type": "execute_result"
    }
   ],
   "source": [
    "np.mean(np.array([1, 2, 3, np.nan]))"
   ]
  },
  {
   "cell_type": "code",
   "execution_count": 69,
   "metadata": {},
   "outputs": [
    {
     "data": {
      "text/plain": [
       "Employer_Name\n",
       "                                                                                                           0.0\n",
       "                                                                                                           0.0\n",
       "                                                                                                           0.0\n",
       "  ADLER MEDIEQUIP PVT LTD                                                                                  0.0\n",
       "  MN&C SUPPLY LINKS RETAIL PVT. LTD                                                                        0.0\n",
       "                                                                                                          ... \n",
       "burger king india pvt ltd                                                                                  0.0\n",
       "ordnante factory                                                                                           0.0\n",
       "other                                                                                                      0.0\n",
       "À¤¸À¥À¤µÀ¤¾ À¤¸À¤¹À¤À¤¾À¤°À¥ À¤¸À¤À¤¸À¥À¤¥À¤¾ À¤®À¤°À¥À¤¯À¤¾À¤¦À¤¿À¤¤ À¤ªÀ¤¿À¤À¥À¤¦À¤®À¥À¤¬À¤°    0.0\n",
       "ÂKESHAVCONSULTING                                                                                        0.0\n",
       "Name: Disbursed, Length: 43567, dtype: float64"
      ]
     },
     "execution_count": 69,
     "metadata": {},
     "output_type": "execute_result"
    }
   ],
   "source": [
    "employer_means"
   ]
  },
  {
   "cell_type": "code",
   "execution_count": 70,
   "metadata": {},
   "outputs": [
    {
     "data": {
      "image/png": "[encoded data removed]",
      "text/plain": [
       "<Figure size 432x288 with 1 Axes>"
      ]
     },
     "metadata": {
      "needs_background": "light"
     },
     "output_type": "display_data"
    }
   ],
   "source": [
    "plt.hist(employer_means.values, bins=100)\n",
    "plt.yscale('log')"
   ]
  },
  {
   "cell_type": "code",
   "execution_count": 71,
   "metadata": {},
   "outputs": [],
   "source": [
    "mapping_dict = dict(pd.cut(employer_means[employer_means.index != 'NotGiven'], 5, labels=range(5)))"
   ]
  },
  {
   "cell_type": "code",
   "execution_count": 72,
   "metadata": {
    "scrolled": true
   },
   "outputs": [
    {
     "data": {
      "text/plain": [
       "{' ': 0,\n",
       " '  ': 0,\n",
       " '    ': 0,\n",
       " '  ADLER MEDIEQUIP PVT LTD': 0,\n",
       " '  MN&C SUPPLY LINKS RETAIL PVT. LTD': 0,\n",
       " '  RAJSHREE SUGARS CHEMICALS LTD': 0,\n",
       " ' 6 IR BATTALION': 0,\n",
       " ' A O SMITH': 0,\n",
       " ' AASHISH SURENDRA SHUKLA ': 0,\n",
       " ' AMAZON DEVELOPMENT CENTER INDIA PVT LTD': 0,\n",
       " ' ANI TECHNOLOGIES': 0,\n",
       " ' APPU STEEL  FURNICHER': 0,\n",
       " ' ASCENT STAFFING SOLUTIONS PRIVATE LIMITED': 0,\n",
       " ' BASE INFORMATION MANAGEMENT PVT LTD': 0,\n",
       " ' C G MARKETING ': 0,\n",
       " ' C INDRA SENA REDDY': 0,\n",
       " ' CAPITAL GROUP MIDLAND CREDIT MANAGEMENT INDIA PVT LTD': 0,\n",
       " ' CHARKU SAHU': 0,\n",
       " ' CTA APPARELS PVT LTD': 0,\n",
       " ' DELHI DISASTER MANAGEMENT AUTHORITY': 0,\n",
       " ' DINESH YADAV': 0,\n",
       " ' DIVYA NEXTGEN ENGICON PVT LTD': 0,\n",
       " ' EDUCATION DEPARTMENT': 0,\n",
       " ' EDUCATION DEPT.': 0,\n",
       " ' G H RAISONI POLYTECHNC': 0,\n",
       " ' GEETA DAS': 0,\n",
       " ' GKFSPL': 0,\n",
       " ' GOVERNMENT JOB': 0,\n",
       " ' GOVT CONTRACT': 0,\n",
       " ' GOVT OF INDIA': 0,\n",
       " ' GOVT. OF ODISHA': 0,\n",
       " ' GRANTEBAL HIGHSCHOOL KOLHAPUR': 0,\n",
       " ' HANUMAN MAHADEV GAURAV': 0,\n",
       " ' HARISH H K ': 0,\n",
       " ' INDIAN ARMY': 0,\n",
       " ' INDIAN RAILWAY': 0,\n",
       " ' INGRAM MICRO': 0,\n",
       " ' INTERARCH BUILDING PRODUCTS PVT. LTD.': 0,\n",
       " ' ITC LTD': 0,\n",
       " ' JENOME BIOPHAR PVT LTD': 0,\n",
       " ' KRISHNA REALTY ': 0,\n",
       " ' L & CO.': 0,\n",
       " ' LDC (PROBATION PERIOD)': 0,\n",
       " ' M GURU PRASAD': 0,\n",
       " ' MAHARAJA SAWAI MAN SINGH VIDYALAYA': 0,\n",
       " ' MALLA REDDY ENGINEERING COLLEGE': 0,\n",
       " ' MANGESH RAMCHANDRA MANJE': 0,\n",
       " ' MANICKYAM SELVARAJ SUDHAKARA RAO': 0,\n",
       " ' MEDICAL AND HEALTH': 0,\n",
       " ' N R AGRAWAL': 0,\n",
       " ' NAGARJUNA': 0,\n",
       " ' NAVNEET SINGH': 0,\n",
       " ' NEON MOTORS PVT LTD': 0,\n",
       " ' NIKHATHYASIN': 0,\n",
       " ' P V T': 0,\n",
       " ' PANKAJ NEMAJI SHENDE ': 0,\n",
       " ' PRADEEP RANGNATH MALIK': 0,\n",
       " ' PRATIK DEEPAK DEORE ': 0,\n",
       " ' PREM  RAJ': 0,\n",
       " ' PRIME FACILITIES SOLUTION PVT.LTD ': 0,\n",
       " ' R E INFRA PVT LTD': 0,\n",
       " ' RAVINDRA': 0,\n",
       " ' RIGHT TO INFORMATION COMMISSION': 0,\n",
       " ' S GOMES': 0,\n",
       " ' S M AUTO ENGG PVT LTD': 0,\n",
       " ' S R CORPORATE SERVICES PVT LTD': 0,\n",
       " ' S RAMA KRISHNA REDDY': 0,\n",
       " ' S.D.E.T BRAINWARE GROUP OF INSTITUTIONS ': 0,\n",
       " ' SAI ADVERTISERS': 0,\n",
       " ' SAMIR RAGHUNATH GAVIT ': 0,\n",
       " ' SANJEEV VITHOBHA CHAUHAN ': 0,\n",
       " ' SAURABH': 0,\n",
       " ' SHAILESH RAGHUNATH PATIL ': 0,\n",
       " ' STEEL AUTHORITY OF INDIA LIMITED': 0,\n",
       " ' SUNIL RAMCHANDRA FADALE': 0,\n",
       " ' SURENDRA JADHAV': 0,\n",
       " ' SURVEY AND LAND RECORDS DEPARTNENT': 0,\n",
       " ' TATA': 0,\n",
       " ' TATA STEEL LTD.': 0,\n",
       " ' TEJASVI DALVI': 0,\n",
       " ' TELARS': 0,\n",
       " ' TV SUNDARAM IYENGAR & SONS LTD': 0,\n",
       " ' VALUELABS  ': 0,\n",
       " ' VKC': 0,\n",
       " ' VODAFONE ': 0,\n",
       " ' YUVRAJ RAJU KUMAR ': 0,\n",
       " ' ZILLHA PARISHD': 0,\n",
       " '(SUPERMARKET GROCERY SUPPLIES PVT. LTD. MUMBAI': 0,\n",
       " '(UAE) ABU DHABI NATIONAL HOTEL': 0,\n",
       " '(UAE) ABU DHABI NATIONAL HOTEL (SEMI GOVERNMENT)': 0,\n",
       " ',JMHVBKL;': 0,\n",
       " ',MB': 0,\n",
       " '-': 0,\n",
       " '.': 0,\n",
       " '. ': 0,\n",
       " '.............': 0,\n",
       " '..A,R FISHRIES PVT LMITED': 0,\n",
       " '.VIKHE PATIL SCHOOL': 0,\n",
       " '0': 0,\n",
       " '09 SOLUTIONS MANAGEMENT ...': 0,\n",
       " '09 SOLUTIONS MANAGEMENT INDIA PVT LTD': 0,\n",
       " '1': 0,\n",
       " '1 FB SUPPORT SERVICES P LTD': 0,\n",
       " '10': 0,\n",
       " '10000': 0,\n",
       " '100000': 0,\n",
       " '10K INFO DATE SOLUTIONS PVT LTD': 0,\n",
       " '11 GORKHA RIFLES': 0,\n",
       " '11 MAHARAJA AGRASEN HOSPITAL.': 0,\n",
       " '11ND AMERICAN BRIAN AND SPINE CENTRE': 0,\n",
       " '12': 0,\n",
       " '120 MEDIA COLLECTIVE P LTD': 0,\n",
       " '12K2 NETWORKS PVT LTD': 0,\n",
       " '13297': 0,\n",
       " '15': 0,\n",
       " '15HDFC ASSET MANAGEMENT COMPANY LTD (MUTUAL FUND)': 0,\n",
       " '16000': 0,\n",
       " '178 BN CRPF': 0,\n",
       " '18 DELHI HEART AND LUNG ...': 0,\n",
       " '18000': 0,\n",
       " '19000': 0,\n",
       " '1953': 0,\n",
       " '1FB SUPPORT SERVICES PVT LTD': 0,\n",
       " '1FB SUPPORT SERVICES PVT...': 0,\n",
       " '1MG TECHNOLOGIES PVT. LTD. ': 0,\n",
       " '1SPOT ADS MEDIA': 0,\n",
       " '1TAKEMEDIA': 0,\n",
       " '2 SIGNAL BN CRPF': 0,\n",
       " '20 MICRONS LTD': 0,\n",
       " '2000': 0,\n",
       " '20000': 0,\n",
       " '202002020': 0,\n",
       " '20CUBE LOGISTICS AND DISTRIBUTION PVT LTD': 0,\n",
       " '20CUBE WAREHOUSING AND DISTRIBUTION PVT LTD': 0,\n",
       " '2155': 0,\n",
       " '21800': 0,\n",
       " '218000': 0,\n",
       " '22 FEET COMMUNICATIONS PVT LTD': 0,\n",
       " '2233': 0,\n",
       " '22BY7 SOLUTION PVT LTD': 0,\n",
       " '23800': 0,\n",
       " '24 7': 0,\n",
       " '24-Jul': 0,\n",
       " '24/7 CUATOMER': 0,\n",
       " '24/7 CUSTOMER': 0,\n",
       " '24/7 CUSTOMER PVT LTD': 0,\n",
       " '24/7 FACILITY SERVICE CONNECT PVT LTD': 0,\n",
       " '244800': 0,\n",
       " '247 CUSTOMER': 0,\n",
       " '247 CUSTOMER PVT LTD': 0,\n",
       " '247 CUSTOMER SERVICE': 0,\n",
       " '247 CUSTOMER SERVICE ': 0,\n",
       " '247 HEADHUNTING': 0,\n",
       " '25000': 0,\n",
       " '250000': 0,\n",
       " '2579': 0,\n",
       " '26400': 0,\n",
       " '29AD ': 0,\n",
       " '2ADPRO': 0,\n",
       " '2ADPROMEDIASOLUTION': 0,\n",
       " '2BY7 SOLUTION PVT LTD': 0,\n",
       " '2COMS CONSULTING PVT LTD': 0,\n",
       " '2M UPVC DOOR AND WINDOW': 0,\n",
       " '3': 0,\n",
       " '3 AG NETWORK SOLUTIONS PVT. LTD.': 0,\n",
       " '3 D TECHNOPACK LTD': 0,\n",
       " '3 GLOBAL SERVICES PVT LTD': 0,\n",
       " '3000': 0,\n",
       " '30000': 0,\n",
       " '300000': 0,\n",
       " '302924': 0,\n",
       " '360 DEGREE CLOUD PVT. LTD.': 0,\n",
       " '360 REALATORS': 4,\n",
       " '360 REALATORS LLP': 0,\n",
       " '360 REALTORS': 0,\n",
       " '360 REALTORS LLP': 1,\n",
       " '361 DEGREE MINDS': 0,\n",
       " '3A COMPOSITES INDIA PVT LTD': 4,\n",
       " '3AG NETWORK SOLUTIONS PVT LTD': 0,\n",
       " '3CORE SYSTEMS ': 0,\n",
       " '3D IMPRESSIONS': 0,\n",
       " '3D NETWORK PTE LTD': 0,\n",
       " '3D PLM SOFTWARE SOLUTIONS LTD': 0,\n",
       " '3D SYSTEMS': 0,\n",
       " '3DI': 0,\n",
       " '3DPLM': 0,\n",
       " '3DPLM SOFTWARE SOLUTIONS': 0,\n",
       " '3DPLM SOFTWARE SOLUTIONS LTD': 0,\n",
       " '3DPLM SOFTWARE SOLUTIONS LTD.': 0,\n",
       " '3DPLMSOFTWARE SOLUTIONS': 0,\n",
       " '3F FUJI FOODS PVT LTD': 0,\n",
       " '3FIVE8 TECHNOLOGY PVT LTD.': 4,\n",
       " '3I INFOTECH': 0,\n",
       " '3I INFOTECH CONSULTANCY SERVICES': 0,\n",
       " '3I INFOTECH LTD': 0,\n",
       " '3I INFOTECH TRUSTEESHIP SERVICES LTD': 0,\n",
       " '3I-INFOTECH': 0,\n",
       " '3IINFOTECH LTD': 0,\n",
       " '3IN': 0,\n",
       " '3K IT SERVICES PVT LTD': 0,\n",
       " '3KITSERVICEPVTLTD': 0,\n",
       " '3M CREATION': 0,\n",
       " '3M EXIM PVT LTD': 0,\n",
       " '3M INDIA LTD': 0,\n",
       " '3M INDIA LTD.': 0,\n",
       " '3PILLAR GLOBAL TPG': 0,\n",
       " '3SEGMENT TECHNOLOGIES PVT LTD': 0,\n",
       " '3SG INFORMATION TECHNOLOGY PVT LTD': 0,\n",
       " '3TEL NETWORKS LTD': 0,\n",
       " '4 QUADRANT SOLUTIONS PVT LTD': 0,\n",
       " '400701': 0,\n",
       " '4023': 0,\n",
       " '43000': 0,\n",
       " '47000': 0,\n",
       " '48 FITNESS': 0,\n",
       " '4D GLOBAL SERVICES': 0,\n",
       " '4GI SALES AND TRAVEL PVT. LTD.,': 0,\n",
       " '4IAPPS SOLUTIONS PVT LTD': 0,\n",
       " '4S LOGISTICS': 0,\n",
       " '4TH DIMENSION INFRATECH PVT.LTD': 0,\n",
       " '4W WEALTH MANAGEMENT PVT LTD': 0,\n",
       " '505 ARMY BASE WKSP DELHI': 0,\n",
       " '512 ARMY BASE WORKSHOP, KIRKEE': 4,\n",
       " '512ARMY BASE WORKSHOP KHADKI': 0,\n",
       " '514949848': 0,\n",
       " '52000': 0,\n",
       " '53': 0,\n",
       " '54543543535': 0,\n",
       " '55555': 0,\n",
       " '58000': 0,\n",
       " '5P GROUP': 0,\n",
       " '60000': 0,\n",
       " '646702': 0,\n",
       " '6BN PAC': 0,\n",
       " '6TH ENERGY TECHNOLOGIES PVT LTD ': 0,\n",
       " '7CON': 0,\n",
       " '7HILLS CONSTRUCTION COMPANY': 0,\n",
       " '7JP MORGAN CHASE BANK': 0,\n",
       " '7N CONSULTING PVT LTD': 4,\n",
       " '7S BANKING MANEGMENT CONSULTANCY PVT LTD': 0,\n",
       " '7S BANKING P LTD': 0,\n",
       " '7STAR COMPANY ': 0,\n",
       " '7TH BN.TSSP': 0,\n",
       " '8000': 0,\n",
       " '9 MECH INF C/O56 APO': 0,\n",
       " '9 STEPS SOLUTIONS PV LMT': 0,\n",
       " '91 WEB DIGITAL PVT LTD': 0,\n",
       " '91DEGRE': 0,\n",
       " '9769590001': 0,\n",
       " '9FLIGHTS SERVICES PRIVATE LIMITED': 0,\n",
       " '9FLIGHTS SERVICES PVT LTD': 0,\n",
       " '9G TELESOLUTIONS': 0,\n",
       " '9PLANETS PRODUCTS PVT LTD': 0,\n",
       " '9X MEDIA PVT LTD': 0,\n",
       " 'A': 0,\n",
       " 'A & A ASSOCIATES': 0,\n",
       " 'A & A DUKAAN FINANCIAL SERVICES PRIVATE LIMITED': 0,\n",
       " 'A & ASSOCIATES': 0,\n",
       " 'A & O ENGINEERING AND CONSULTANCY LLP': 0,\n",
       " 'A & S ADVISORS PVT LTD': 0,\n",
       " 'A & V ZIPPER PVT LMT ': 0,\n",
       " 'A .J HOSPITAL AND RESEAR...': 0,\n",
       " 'A 2 Z INFOTECH PVT LTD': 0,\n",
       " 'A 2 Z MAINTENANCE SERVIC...': 0,\n",
       " 'A 2 Z MAINTENANCE SERVICES P LTD': 0,\n",
       " 'A 5 HEALTH SOLUTIONS P LTD': 0,\n",
       " 'A AND A DUKAAN FINANCIAL SERVICES PVT LTD': 0,\n",
       " 'A ANIL NAIDU': 0,\n",
       " 'A ANTONY': 0,\n",
       " 'A ARAVINTHAN': 0,\n",
       " 'A B COOL': 0,\n",
       " 'A B GRAIN SPIRITS PVT LTD': 0,\n",
       " 'A B INDUSTRIES': 0,\n",
       " 'A BALA SUBRAHMANYAM': 0,\n",
       " 'A BALRAJ': 0,\n",
       " 'A C PATIL COLLEGE OF ENGN': 0,\n",
       " 'A CLASS MARBLES': 0,\n",
       " 'A D ENTERPRISES': 0,\n",
       " 'A D EXPORTS': 0,\n",
       " 'A DIET EXPRESS HOSPITALITY SERVICE LTD': 0,\n",
       " 'A H HALLMNARKING CENTRE': 0,\n",
       " 'A HIMAGIRI': 0,\n",
       " 'A INFORMATION SYSTEM PRIVATE LIMITED': 0,\n",
       " 'A K MANAGEMENT SERVICES PVT LTD': 0,\n",
       " 'A K MEDICO': 0,\n",
       " 'A K VIVEK': 0,\n",
       " 'A KARTHIKEYAN': 0,\n",
       " 'A L KAPANI & CO': 0,\n",
       " 'A LAKSHMANKUMAR': 0,\n",
       " 'A M MARKET PLACES INDIA PVT LTD': 0,\n",
       " 'A M MARKET PLACES PVT LTD': 0,\n",
       " 'A M PATEL & CO ': 0,\n",
       " 'A MAGICAL CONCERN': 0,\n",
       " 'A MENARINI INDIA PVT LTD': 0,\n",
       " 'A MOSES': 0,\n",
       " 'A MOULA JAN': 0,\n",
       " 'A NAGAMUNI REDDY': 0,\n",
       " 'A NAMPALLY': 0,\n",
       " 'A P SUPER SPECIALITY DENTAL HOSPITAL': 0,\n",
       " 'A PLUS A IT SOLUTIONS PVT LIMITED': 0,\n",
       " 'A PLUS EXPORT PVT LTD': 0,\n",
       " 'A R PARIKH & CO.': 0,\n",
       " 'A RAMAKRISHNAN': 0,\n",
       " 'A S IRON & STEEL INDIA PVT LTD': 0,\n",
       " 'A S IRON AND STEELS IND PVT LTD': 0,\n",
       " 'A S K M ASSOCIATED': 0,\n",
       " 'A S MOLOOBHOY': 0,\n",
       " 'A SRINIVAS REDDY': 0,\n",
       " 'A SURESH': 0,\n",
       " 'A SWARUPA': 0,\n",
       " 'A TO Z ': 0,\n",
       " 'A TO Z FORKLIFT AND CRANE SERVICES PVT LTD': 0,\n",
       " 'A TO Z ONLINE SERVICES PVT LTD ': 0,\n",
       " 'A U MARKETING AGENCIES': 0,\n",
       " 'A V COLLECTION & ELECTRICALS': 0,\n",
       " 'A V JEWELLERS': 0,\n",
       " 'A V SERVCIES PVT LTD': 0,\n",
       " 'A VELMURUGAN': 0,\n",
       " 'A&B ASSOCIATES ': 0,\n",
       " 'A&S': 0,\n",
       " 'A-1 FENCE PRODUCT COMPANY PCT LTD ': 0,\n",
       " 'A-1 FENCE PRODUCT COMPANY PVT LTD': 0,\n",
       " 'A-1 MOTORS': 0,\n",
       " 'A-ONE INVESTIGATION SERVICES': 0,\n",
       " 'A. A. NAYAK CONSTRUCTIONS PVT. LTD.': 0,\n",
       " 'A. JAMES ANTHONY': 0,\n",
       " 'A. KONSHAKSALI': 0,\n",
       " 'A. KURSHITH BEGAM': 0,\n",
       " 'A. MANOHAR REDDY': 0,\n",
       " 'A. NAGARAJ': 0,\n",
       " 'A. NARESH BABU GOUD': 0,\n",
       " 'A. SRIRAM': 0,\n",
       " 'A. W. FABER-CASTELL(INDIA ) PVT. LTD.': 0,\n",
       " 'A.A PRECISION': 0,\n",
       " 'A.A. PRECISION': 0,\n",
       " 'A.A.NAYAK CONSTRUCTIONS PVT. LTD': 0,\n",
       " 'A.BHUVANESHWARI': 0,\n",
       " 'A.CHINNASAMY': 0,\n",
       " 'A.DEVADAS': 0,\n",
       " 'A.E.ASLAMULLA': 0,\n",
       " 'A.EDWIN RAJ': 0,\n",
       " 'A.G OFFICE': 0,\n",
       " 'A.G.OFICE': 0,\n",
       " 'A.IMRAN KHAN': 0,\n",
       " 'A.J.INTERNATIONAL': 0,\n",
       " 'A.JERSON': 0,\n",
       " 'A.JOHN MORIS & C': 0,\n",
       " 'A.K CLINICS': 0,\n",
       " 'A.K. CAPITAL SERVICES LTD.': 0,\n",
       " 'A.K. ENTERPRISES': 0,\n",
       " 'A.M. MARKET PLACES PVT LTD.': 0,\n",
       " 'A.MANIKANDAN': 0,\n",
       " 'A.MENARINI INDIA PVT LTD': 0,\n",
       " 'A.MENARINI INDIA PVT LTD ': 0,\n",
       " 'A.N.PHARMACIA LABORATORIES PVT LTD': 0,\n",
       " 'A.N.V. MARKETING CO': 0,\n",
       " 'A.NAVEEN KUAMR': 0,\n",
       " 'A.O SMITH INDIA WATER HEATING PVT LTD': 0,\n",
       " 'A.O.C.A BANGALORE': 0,\n",
       " 'A.O.SMITH INDIA WATER PRODUCTS PRIVATE LIMITED': 0,\n",
       " 'A.P FOODS': 0,\n",
       " 'A.P ORGANICS PVT LTD': 0,\n",
       " 'A.P.S.R.T.C.': 0,\n",
       " 'A.P.STATE HOUSING CORPORATION LTD': 0,\n",
       " 'A.R. TRADERS': 0,\n",
       " 'A.R.ELECTRICALS': 0,\n",
       " 'A.R.SIGNATURE INFRA PVT LTD': 0,\n",
       " 'A.RAGUNATHAN': 0,\n",
       " 'A.RAJASEKAR': 0,\n",
       " 'A.RAJASHEKARAN': 0,\n",
       " 'A.RAJENDRAN': 0,\n",
       " 'A.RAMANJANEYAREDDY': 0,\n",
       " 'A.REDDEPPA': 0,\n",
       " 'A.S.IRON': 0,\n",
       " 'A.S.M. SR SEC SCHOOL': 0,\n",
       " 'A.S.O': 0,\n",
       " 'A.S.RETAIL &HOSPITALITY TECHNICAL SOLUTION PVT LTD': 0,\n",
       " 'A.S.SALES CORPROTION': 0,\n",
       " 'A.S.SHOES ACCESSORIES PVT LTD': 0,\n",
       " 'A.SAMPATH KUMAR': 0,\n",
       " 'A.SANGEETHA': 0,\n",
       " 'A.SARAVANAKUMAR': 0,\n",
       " 'A.SARAVANAN': 0,\n",
       " 'A.SETHURAMAN': 0,\n",
       " 'A.SUBRAMANIYAN': 0,\n",
       " 'A.SUBRAMANYAM': 0,\n",
       " 'A.SUMATHI': 0,\n",
       " 'A.T.JAIN & CO.': 0,\n",
       " 'A.V.GOPICHAND': 0,\n",
       " 'A.V.S.P.HANUMANTHA RAO': 0,\n",
       " 'A.VENKYATESWARLU': 0,\n",
       " 'A1 TECHNOLOGIES PVT LTD': 0,\n",
       " 'A1 WEBTECH SOLUTIONS': 0,\n",
       " 'A13TJRLM': 0,\n",
       " 'A2Z GLASS STORE': 0,\n",
       " 'A2Z INFRA ENGINEERING LTD': 0,\n",
       " 'A2Z INFRARED': 0,\n",
       " 'A2Z INFRASERVICES LTD': 0,\n",
       " 'A2Z INFRASRIVCES LTD': 0,\n",
       " 'A2Z INFRASTRUCTURE LTD': 0,\n",
       " 'A2Z LIMINTED': 0,\n",
       " 'A2Z ONLINE SERVICES PRIVATE LIMITED': 0,\n",
       " 'A2Z ONLINE SERVICES PVT LTD': 0,\n",
       " 'A2Z SHOPPING LTD': 0,\n",
       " 'A2Z TECHNOLOGIES': 0,\n",
       " 'A3LOGICS INDIA LTD': 0,\n",
       " 'AA': 0,\n",
       " 'AAA': 0,\n",
       " 'AAA DIGITAL IMAGING PVT LTD': 0,\n",
       " 'AAA DIGITAL-X SOLUTIONS PVT LTD': 0,\n",
       " 'AAA HOLDING TRUST': 0,\n",
       " 'AAA RISK MANAGEMENT SERVICE PVT LTD': 0,\n",
       " 'AAA ROLLER FLOUR MILLS PVT LTD': 0,\n",
       " 'AAA TELESHOPING PVT LTD': 0,\n",
       " 'AAA TRADERS': 0,\n",
       " 'AAA VEHICLEADES PVT LTD': 0,\n",
       " 'AAA VEHICLEADES PVT. LTD': 0,\n",
       " 'AAAA': 0,\n",
       " 'AAAA KKKKK': 0,\n",
       " 'AAAAA': 0,\n",
       " 'AAAAA KKKKK': 0,\n",
       " 'AAATRADERS': 0,\n",
       " 'AABASOFT ': 0,\n",
       " 'AACHI MASALA FOODS PVT LTD': 0,\n",
       " 'AACHRAN ENTERPRISES PVT LTD': 0,\n",
       " 'AADARSH PVT LTD': 0,\n",
       " 'AADHAAR RETAILING LTD': 0,\n",
       " 'AADHAAR VENTURES INDIA LTD': 0,\n",
       " 'AADHAR HOUSING FINANCE PVT LTD': 0,\n",
       " 'AADHI GLOBAL TECHENOLOGIES PVT LTD.': 0,\n",
       " 'AADI INDUSTRIES LTD': 0,\n",
       " 'AADI SALES CORPORATIONS': 0,\n",
       " 'AADIT AUTO COMPANY PVT LTD': 0,\n",
       " 'AADITYA PHARAM DISTIBUTERS': 0,\n",
       " 'AADYA MOTOR COMPANY PVT LTD': 0,\n",
       " 'AADYA MOTOR PVT LTD': 0,\n",
       " 'AAGNA GLOBAL SOLUTIONS': 0,\n",
       " 'AAI NAD AIRPORT': 0,\n",
       " 'AAINA': 0,\n",
       " 'AAK ASSOCIATES': 0,\n",
       " 'AAKAAR MEDICAL TECHNOLOGIES PVT LTD': 0,\n",
       " 'AAKASH EDUCATIONAL SERVICES LTD': 0,\n",
       " 'AAKASH INDUSTRIES LTD': 0,\n",
       " 'AAKASH INNOVATIONS & DESIGN PVT.LTD': 0,\n",
       " 'AAKASH INSTITUTE': 0,\n",
       " 'AAKIT TECHNOLOGIES PVT LTD': 0,\n",
       " 'AAKRITI FURNISHERS PVT LTD': 0,\n",
       " 'AAKRITI INFO MEDIA PVT LTD': 0,\n",
       " 'AAKRTI PACKAGING': 0,\n",
       " 'AAKSAH INSTITUTE': 0,\n",
       " 'AALIM MUHAMMED SALEGH COLLEGE OF ENGG': 0,\n",
       " 'AAM FOUNDATION': 0,\n",
       " 'AAM INDIA MANUFACTURING COP PVT LTD': 0,\n",
       " 'AAM SKY GEOSPATIAL SOLUTIONS PRIVATE LIMITED': 0,\n",
       " 'AAMAYA IMPEX': 0,\n",
       " 'AAMBY VALLEY LTD': 0,\n",
       " 'AAMEENA BEE': 0,\n",
       " 'AAMIL HUSAIN': 0,\n",
       " 'AAMIR BEADING AND EMBROIDERIES PVT LTD': 0,\n",
       " 'AAMIR MALIK': 0,\n",
       " 'AAMODA PUBLICATIONS PVT LTD': 0,\n",
       " 'AAMRO FREIGHT SERVICES PVT LTD': 0,\n",
       " 'AANANDA AUDIO VIDEO': 0,\n",
       " 'AANCHAL APPARELS PVT LTD': 0,\n",
       " 'AANCHAL ISPAT LTD': 0,\n",
       " 'AAPT OUTSOURCING SOLUTIONS PVT LTD': 0,\n",
       " 'AAR EM ELECTRONICS PVT LTD': 0,\n",
       " 'AARAMBH UNIVERSAL MARKETING LTD': 0,\n",
       " 'AARAV CONSTRUCTIONS': 0,\n",
       " 'AARAV DIAMOND': 0,\n",
       " 'AARCO ENGINEERING PROJECTS PVT LTDÂ\\xa0': 0,\n",
       " 'AARDING INDIA PVT LTD': 0,\n",
       " 'AARGEE EQUIPMENTS PRIVATE LIMITED': 0,\n",
       " 'AARIX INFOTECH': 0,\n",
       " 'AARKAY MARINE AGENCIES': 0,\n",
       " 'AAROGYA SRI HEALTH CARE TRUST': 0,\n",
       " 'AARONE DEVELOPERS PVT. LTD.': 0,\n",
       " 'AARPEE ENTERPRISES': 0,\n",
       " 'AARTI DRUGS LTD': 0,\n",
       " 'AARTI INDUSTRIES LTD': 0,\n",
       " 'AARTI JEWELLERS PVT LTD': 0,\n",
       " 'AARTI PLASTIC': 0,\n",
       " 'AARTI SINGH': 0,\n",
       " 'AARTI STEELS LTD': 0,\n",
       " 'AARU': 0,\n",
       " 'AARUPADAI VEEDU INSTITUTE OF TECH': 0,\n",
       " 'AARUSHI AANAD PATIL': 0,\n",
       " 'AARVANSS INFRASTRUCTURE PVT LTD': 0,\n",
       " 'AARVEE ASSOCIATE ENGINEERING AND CONSULTANTS PVT LTD': 0,\n",
       " 'AARVEE ASSOCIATES ARCHITECTS ENGINEERS AND CONSULTANTS PVT LTD': 0,\n",
       " 'AARVI ENCON PRIVATE LIMITEAD': 0,\n",
       " 'AARVI ENCON PVT LTD': 0,\n",
       " 'AARYA AND ASSOCIATES ': 0,\n",
       " 'AARYAN ENTERPRISES PVT.LTD.': 0,\n",
       " 'AARYAN PROPTECH PVT. LTD.': 0,\n",
       " 'AASAANJOBS PVT LTD': 0,\n",
       " 'AASHA LEVIN LIGHTING SYSTEMS PVT. LTD.': 0,\n",
       " 'AASHAPURI ENG': 0,\n",
       " 'AASHIK BASHA': 0,\n",
       " 'AASHIRWAD GARMENTS': 0,\n",
       " 'AASHISH PHARMA': 0,\n",
       " 'AASHISHYADAV': 0,\n",
       " 'AASHIYANA DECOR': 0,\n",
       " 'AASIF': 0,\n",
       " 'AASIF SHAIKH': 0,\n",
       " 'AASIFE BIRIYANI PVT LTD': 0,\n",
       " 'AASPAS MULTIMEDIA LTD': 0,\n",
       " 'AASTHA JASROTIA': 0,\n",
       " 'AASTIK SUBHASH GAWARE': 0,\n",
       " 'AASTPL': 0,\n",
       " 'AATASH NORCONTROL LTD': 0,\n",
       " 'AATISH': 0,\n",
       " 'AATMIYA': 0,\n",
       " 'AAVIN': 1,\n",
       " 'AAVISHKAR GROUP': 0,\n",
       " 'AAWISHKAR INFO ': 0,\n",
       " 'AAYSHA COLACTION ASHTA': 0,\n",
       " 'AAYUR TECHNOLOGY SOLUTIONS PVT LTD': 0,\n",
       " 'AAYUSH RETREATS PVT LTD': 0,\n",
       " 'AAYUSH SPINTEX PVT LTD': 0,\n",
       " 'AAYUSHI FAB': 0,\n",
       " 'AAYUSHI FASHION': 0,\n",
       " 'AB': 0,\n",
       " 'AB CARTRIDGE PVT LTD': 0,\n",
       " 'AB GROUPS': 0,\n",
       " 'AB INNOVATIVE SOFTWARE PVT LTD': 0,\n",
       " 'AB INSURANCE BROKERS': 0,\n",
       " 'AB MAURI INDIA PVT LTD': 0,\n",
       " 'AB RESORTS AND RESTAURANTS PVT LTD': 0,\n",
       " 'AB TECHNO PVT LTD': 0,\n",
       " 'ABACUS': 0,\n",
       " 'ABACUS CONSULTANTS': 0,\n",
       " 'ABACUS PERIPHERALS PVT LTD': 0,\n",
       " 'ABAD HOTELS & RESORTS INDIA PVT LTD': 0,\n",
       " 'ABAD MOTELS AND RESOERS PVT LTD': 0,\n",
       " 'ABAN INFRASTRUCTURE PVT LTD': 0,\n",
       " 'ABAN OFFSHORE': 0,\n",
       " 'ABAN OFFSHORE LTD': 0,\n",
       " 'ABANI BALLAV SWAIN': 0,\n",
       " 'ABANS COMMODITIES (I) PVT. LTD.': 0,\n",
       " 'ABANS SECURITIES PVT  LTD': 0,\n",
       " 'ABAQUS INC': 0,\n",
       " 'ABASAHED GARWARE COLLEGE OF ARTS SCIENCES': 0,\n",
       " 'ABAY POWER SOLLUTION': 0,\n",
       " 'ABB ABL PROJECTS LTD': 0,\n",
       " 'ABB ABL PROJECTS LTDABBOTT HEALTHCARE PVT LT': 0,\n",
       " 'ABB GLOBAL INDUSTRIAL AND SERVICES LTD': 0,\n",
       " 'ABB INITIO ': 0,\n",
       " 'ABB LTD': 0,\n",
       " 'ABBOTT HEALTH CARE PGLOBAL COAL AND MINING PVT LTD': 0,\n",
       " 'ABBOTT HEALTH CARE PVT LTD': 0,\n",
       " 'ABBOTT HEALTH CARE PVT LTD LTD': 0,\n",
       " 'ABBOTT HEALTHCARE P LTD': 0,\n",
       " 'ABBOTT HEALTHCARE PVT LTD': 0,\n",
       " 'ABBOTT HEALTHCARE PVT. LTD ': 0,\n",
       " 'ABBOTT INDIA LTD': 0,\n",
       " 'ABBOTT PHARMACEUTICALS LTD': 0,\n",
       " 'ABBOTT TRUECARE PHARMA PVT LTD': 2,\n",
       " 'ABBSCISSA HR CONSULTING PVT LTD': 0,\n",
       " 'ABC': 0,\n",
       " 'ABC - CAFE COFFEE DAY': 0,\n",
       " 'ABC ADVERTISING AND MARKETING': 0,\n",
       " 'ABC AND SONS LTD': 1,\n",
       " 'ABC BEARINGS LTD': 0,\n",
       " 'ABC BROADCASTING PVT LTD': 0,\n",
       " 'ABC CAFE COFEE DAY': 0,\n",
       " 'ABC CONSULTANTS PVT LTD': 0,\n",
       " 'ABC HOSPITAL': 0,\n",
       " 'ABC INFOSYSTEMS PVT LTD': 0,\n",
       " 'ABC LTD': 1,\n",
       " 'ABC MOTORS': 0,\n",
       " 'ABC PVT LTD': 1,\n",
       " 'ABC TRADING CO': 0,\n",
       " 'ABCD': 0,\n",
       " 'ABCD AND CO': 0,\n",
       " 'ABCDE AERT': 0,\n",
       " 'ABCDEFGHI': 0,\n",
       " 'ABCDFGHC': 0,\n",
       " 'ABCI INFRASTRUCTURES PVT LTD': 0,\n",
       " 'ABCPVT LTD': 0,\n",
       " 'ABCSKJF': 0,\n",
       " 'ABD': 0,\n",
       " 'ABDAN PHARMACARE PVT LIMETED': 0,\n",
       " 'ABDHESH KUMAR SHARMA': 0,\n",
       " 'ABDOS POLYMERS LTD': 0,\n",
       " 'ABDUL': 0,\n",
       " 'ABDUL AZIM': 0,\n",
       " 'ABDUL HARIF': 0,\n",
       " 'ABDUL IMTIYAZ KHAN': 0,\n",
       " 'ABDUL JALEEL': 0,\n",
       " 'ABDUL MAGBHUL BASHA': 0,\n",
       " 'ABDUL REHMAN': 0,\n",
       " 'ABDUL SAHEER': 0,\n",
       " 'ABDUL SHAIK SHABBIR': 0,\n",
       " 'ABDUL SHAIKH': 0,\n",
       " 'ABDUL WASHID': 0,\n",
       " 'ABDULBASITH KT': 0,\n",
       " 'ABDULLAH': 0,\n",
       " 'ABDULLAH TANNERY PVT. LTD': 0,\n",
       " 'ABEC EXHIBITIONS AND CONFERENCES PVT LTD ': 0,\n",
       " 'ABEDA BEGUM': 0,\n",
       " 'ABEESH': 0,\n",
       " 'ABELLON CLEAN ENERGY LTD': 0,\n",
       " 'ABERCROMBIE AND KENT INDIA LTD': 0,\n",
       " 'ABG APPAREL PVT LTD': 0,\n",
       " 'ABG CEMENT LTD': 0,\n",
       " 'ABG SHIPYARD LTD': 0,\n",
       " 'ABHA JOHN': 0,\n",
       " 'ABHAY APPARELS': 0,\n",
       " 'ABHAY APPARELS PVT LMTD': 0,\n",
       " 'ABHAY APPARELS PVT LTD': 0,\n",
       " 'ABHAY COTEX PVT LTD': 0,\n",
       " 'ABHAY ENTERPRISES ': 0,\n",
       " 'ABHAY KUMAR': 0,\n",
       " 'ABHAY PRATAP SINGH': 4,\n",
       " 'ABHAY SINGH': 0,\n",
       " 'ABHAY SINGH RAJPUT': 0,\n",
       " 'ABHAYSINGH RAJPUT': 0,\n",
       " 'ABHAYTECHNOLOGIES': 0,\n",
       " 'ABHI SHARMA': 0,\n",
       " 'ABHIANNI GROUP': 0,\n",
       " 'ABHIBUS SERVICES': 0,\n",
       " 'ABHIGYAN': 0,\n",
       " 'ABHIJEET': 0,\n",
       " 'ABHIJEET CHATTARAJ': 0,\n",
       " 'ABHIJEET DIES AND TOOLS PVT LTD': 0,\n",
       " 'ABHIJEET DUTTA': 0,\n",
       " 'ABHIJEET JAIN': 0,\n",
       " 'ABHIJEET KESARKAR': 0,\n",
       " 'ABHIJEET MANDAL': 0,\n",
       " 'ABHIJEET SHARMA': 0,\n",
       " 'ABHIJIT': 0,\n",
       " 'ABHIJIT B DAHALE': 0,\n",
       " 'ABHIJIT DALVI': 0,\n",
       " 'ABHIJIT GHOSH': 0,\n",
       " 'ABHIJIT GILBILE': 0,\n",
       " 'ABHIJIT JAWALE': 0,\n",
       " 'ABHIJIT KULKARNI.': 0,\n",
       " 'ABHIJIT MITRA': 0,\n",
       " 'ABHIJIT ONEKAR': 0,\n",
       " 'ABHIJIT ROY': 0,\n",
       " 'ABHIKUMAR HB': 0,\n",
       " 'ABHILASH.K P': 0,\n",
       " 'ABHILASHA JEWELLERS PVT LTD': 0,\n",
       " 'ABHILLASH': 0,\n",
       " 'ABHIMANYU SINGH': 0,\n",
       " 'ABHINAV COLLEGE BHAYANDER': 0,\n",
       " 'ABHINAV HI-TECH COLL OF ENGINEERING ': 0,\n",
       " 'ABHINAV HITECH COLLEGE OF ENGINEERING': 0,\n",
       " 'ABHINAV INSTITUTE OF TECHNOLOGY & MANAGEMENT ': 0,\n",
       " 'ABHINAV MRI AND DIAGNOSTICS PVT LTD ': 0,\n",
       " 'ABHINAV PRIYADARSHI': 0,\n",
       " 'ABHINAV VERMA': 0,\n",
       " 'ABHINAVA': 0,\n",
       " 'ABHINAY CHAK': 0,\n",
       " 'ABHISHEK GAWAD': 0,\n",
       " 'ABHISHEK GUPTA': 0,\n",
       " 'ABHISHEK INDUSTRIES LTD (TRIDENT GROUP)': 0,\n",
       " 'ABHISHEK SAGAR': 0,\n",
       " 'ABHISHEK VOHRA': 0,\n",
       " 'ABHISHEKSRIVASTAV': 0,\n",
       " 'ABHIYAAN BUILDCON PVT LTD': 0,\n",
       " 'ABHYUDAYA CO-OP BANK': 0,\n",
       " 'ABHYUDAYA CO-OP BANK LTD': 0,\n",
       " 'ABI TOURS AND TRAVELS': 0,\n",
       " 'ABIBPL': 0,\n",
       " 'ABID HUSAIN CONSULTANTS': 0,\n",
       " 'ABIL INFRAPROJECTS LTD': 0,\n",
       " 'ABINBEV INDIA PVT LTD': 0,\n",
       " 'ABIR INFRASTRUCTURE PVT LTD': 0,\n",
       " 'ABIRAMI': 0,\n",
       " 'ABIS EXPORTS INDIA PVT LTD': 0,\n",
       " 'ABL INFRASTRUCTURE PVT LTD': 0,\n",
       " 'ABL INFRASTRUCTUTE PVT LTD': 0,\n",
       " 'ABM BUILDTECH PVT LTD': 0,\n",
       " 'ABM KNOWLEDGE WARE LTD': 0,\n",
       " 'ABM KNOWLEDGEWARE LTD': 0,\n",
       " 'ABM TECHNOCRATZ PVT LTD': 0,\n",
       " 'ABM TRAVELS AND TOUR PVT LTD': 0,\n",
       " 'ABOTT HEALTH CARE PVT LTD': 0,\n",
       " 'ABOVE SOLUTIONS INDIA PVT LTD': 0,\n",
       " 'ABOVE-INC': 0,\n",
       " 'ABP NEWS MEDIA CONTENTANDCOMMUNICATION SERVICES INDIA P LTD': 0,\n",
       " 'ABP PVT LTD': 4,\n",
       " 'ABRAHAM VARGHESE': 0,\n",
       " 'ABRAR HUSAIN': 0,\n",
       " 'ABRL': 0,\n",
       " 'ABRL ': 0,\n",
       " 'ABRO': 0,\n",
       " 'ABRO PVT LTD': 0,\n",
       " 'ABRO TECHNOLOGIES PVT LTD': 0,\n",
       " 'ABS': 0,\n",
       " 'ABS AIRCON ENGINEERS PVT LTD': 0,\n",
       " 'ABS FITNESS': 0,\n",
       " 'ABS FITNESS & WELLNESS CLUB': 0,\n",
       " 'ABS INDIA PVT LTD': 0,\n",
       " 'ABS INDUSTRIAL VERIFICATION INDIA PVT LTD': 0,\n",
       " 'ABS MARINE SERVICE PVT LTD': 0,\n",
       " 'ABS MERCANTILED PVT LTD': 0,\n",
       " 'ABS TECH PVT LTD': 0,\n",
       " 'ABSOLUT DATA RESEARCH AND ANALYTICS SOLUTIONS PVT LTD': 0,\n",
       " 'ABSOLUTE FACILITY MANAGEMENT SERVICES PVT LTD': 0,\n",
       " 'ABSOLUTE INFORMATION SYSTEMS': 0,\n",
       " 'ABSOLUTE SECURITY SERVICES PVT LTD': 0,\n",
       " 'ABSOTHERM FACILITY MANAG...': 0,\n",
       " 'ABSOTHERM FACILITY MANAGEMENT PVT LTD': 0,\n",
       " 'ABSULKHADAR': 0,\n",
       " 'ABT CORPORATION': 0,\n",
       " 'ABT LTD': 0,\n",
       " 'ABT MARUTHI LIMITED': 0,\n",
       " 'ABT MARUTI LTD': 0,\n",
       " 'ABT PARCEL SERVICE': 0,\n",
       " 'ABU DHABI DRIVER': 0,\n",
       " 'ABU DHABI NATIONAL HOTELS (SEMI GOVERNMENT)': 0,\n",
       " 'ABUTHAHIR': 0,\n",
       " 'ABVH': 0,\n",
       " 'ABY JOSEPH': 0,\n",
       " 'AC': 0,\n",
       " 'AC ECP HOUSING INDIA PVT LTD': 0,\n",
       " 'AC NIELSEN': 0,\n",
       " 'AC SPORTS': 0,\n",
       " 'ACADAMY OF MANAGEMENT STUDIES': 0,\n",
       " 'ACADEMY FOR INTEGRATED SYSTEMS & SOLUTIONS': 0,\n",
       " 'ACADEMY OF  MANAGEMENT STUDIES': 0,\n",
       " 'ACADEMY OF BUSINESS MANAGEMENT STUDIES': 0,\n",
       " 'ACADEMY OF MARITIME EDUCTION AND TRAINING': 0,\n",
       " 'ACAST PVT LTD': 0,\n",
       " 'ACC': 0,\n",
       " 'ACC BRIDGESTONE': 0,\n",
       " 'ACC CEMENT': 0,\n",
       " 'ACC CEMENTS': 0,\n",
       " 'ACC CONCRETE LTD': 0,\n",
       " 'ACC FIN BUSINESS SOLUTIONS PVT LTD': 0,\n",
       " 'ACC LIMITED': 0,\n",
       " 'ACC LTD': 0,\n",
       " 'ACC MACHINERY CO LTD': 0,\n",
       " 'ACC NIHON CASTING': 0,\n",
       " 'ACC SIMPLEX INFRASTRUCTURES LTD': 0,\n",
       " 'ACCEL AUTOMATION LTD': 0,\n",
       " 'ACCEL FRONTLINE LTD': 0,\n",
       " 'ACCEL FRONTLINE SERVICES LTD': 0,\n",
       " 'ACCEL ICIM FRONTLINE LTD': 0,\n",
       " 'ACCELCIA BUSINESS SERVICES PVT LTD': 0,\n",
       " 'ACCELERANT INDIA': 0,\n",
       " 'ACCELFRONTLINE LTD': 0,\n",
       " 'ACCELYA KALE SOLUTIONS LTD': 0,\n",
       " 'ACCELYAKALE LTD': 0,\n",
       " 'ACCELYST SOLUTIONS PVT LTD': 0,\n",
       " 'ACCELYST SOLUTIONS PVT LTD13': 0,\n",
       " 'ACCENT HOTELS PVT LTD': 0,\n",
       " 'ACCENT OVERSEAS': 0,\n",
       " 'ACCENTURE': 0,\n",
       " 'ACCENTURE ': 0,\n",
       " 'ACCENTURE  ': 0,\n",
       " 'ACCENTURE SERVICE LTD': 0,\n",
       " 'ACCENTURE SERVICE PRIVATE LTD': 0,\n",
       " 'ACCENTURE SERVICES': 0,\n",
       " 'ACCENTURE SERVICES INDIA PVT LTD': 0,\n",
       " 'ACCENTURE SERVICES PRIVATE LIMITED': 0,\n",
       " 'ACCENTURE SERVICES PVT LTD': 0,\n",
       " 'ACCEROV PVT LTD ': 0,\n",
       " 'ACCESS ATLANTECH EDUTAINMENT': 0,\n",
       " 'ACCESS AUTOMATION PVT LTD': 0,\n",
       " 'ACCESS CONSTRUCTIONS PRIVATE LIMITED': 0,\n",
       " 'ACCESS HEALTH CARE': 0,\n",
       " 'ACCESS HEALTHCARE': 0,\n",
       " 'ACCESS HEALTHCARE PVT.LTD': 0,\n",
       " 'ACCESS HEALTHCARE SERVICED': 0,\n",
       " 'ACCESS HEALTHCARE SERVICES': 0,\n",
       " 'ACCESS HEALTHCARE SERVICES PVT LTD': 0,\n",
       " 'ACCESS HEALTHCARE SERVICES PVT.LTD': 0,\n",
       " 'ACCION LABS INDIA PVT LTD': 0,\n",
       " 'ACCLARIS BUSINESS SOLUTIONS PVT LTD': 0,\n",
       " 'ACCOLADE ATELIER PVT.LTD. KHARABWADI,CHAKAN': 0,\n",
       " 'ACCOLITE SOFTWARE INDIA PVT LTD': 0,\n",
       " 'ACCOR HOTELS': 0,\n",
       " 'ACCORD AUTOMATION': 0,\n",
       " 'ACCORD CHEMICAL CORPORATION': 0,\n",
       " 'ACCORD GROUP INDIA PVT LTD': 0,\n",
       " 'ACCORD INDUSTRIES LTD': 0,\n",
       " 'ACCORD SYNERGY PVT.LTD': 0,\n",
       " 'ACCOUNT SOLUATION': 0,\n",
       " 'ACCOUNTANT': 0,\n",
       " 'ACCOUNTANT ': 0,\n",
       " 'ACCOUNTANT COME MANAGER': 0,\n",
       " 'ACCOUNTANT GENERAL OFFICE': 0,\n",
       " 'ACCOUNTANT GENERALS OFFICE': 0,\n",
       " 'ACCOUNTED': 0,\n",
       " 'ACCOUNTENENT': 0,\n",
       " 'ACCOUNTENT': 0,\n",
       " 'ACCOUNTS & CONSULTANT': 0,\n",
       " 'ACCOUNTS ASSISTANT': 0,\n",
       " 'ACCOUNTS OPENED ON THE BASIS OF LDS': 0,\n",
       " 'ACCOUTANT': 0,\n",
       " 'ACCRETE ENGINEERING PVT LTD ': 0,\n",
       " 'ACCRETIVE HEALTH': 0,\n",
       " 'ACCRETIVE HEALTH PVT LTD': 0,\n",
       " 'ACCSL INDIA PVT LTD': 0,\n",
       " 'ACCSOURCE KNOWLEDGE PROCESS OUTSOURCING PVT LTD': 0,\n",
       " 'ACCT': 0,\n",
       " 'ACCU PACK ENGINEERING PVT LTD': 0,\n",
       " 'ACCUDOT CONSULTING PVT LTD': 0,\n",
       " 'ACCUMAC MACHINE TOOLS PVT LTD': 0,\n",
       " 'ACCURA NETWORK MARKETING PVT LTD': 0,\n",
       " 'ACCURA VALVES PVT': 0,\n",
       " 'ACCURATE BILLING SERVICE PVT LTD': 0,\n",
       " 'ACCURATE CALIBRATION': 0,\n",
       " 'ACCURATE ENGINEERING PVT LTD': 0,\n",
       " 'ACCURATE LOGISTICS': 0,\n",
       " 'ACCUREX MARKETING & PVT. LTD.': 0,\n",
       " 'ACCUSPEED ENGINEERING DESIGN SERVICES LTD': 0,\n",
       " 'ACCUSTER TECHNOLOGY PVT LTD.': 0,\n",
       " 'ACCUTECH INFO SYSTEMS PVT LTD': 0,\n",
       " 'ACCUTECH POWER SOLUTIONS': 0,\n",
       " 'ACCUTEK SERVICES PVT.LTD.': 0,\n",
       " 'ACCUTEST': 0,\n",
       " 'ACCUTEST RESEARCH LABORATORIES INDIA PVT LTD': 0,\n",
       " 'ACDC': 0,\n",
       " 'ACE ACCOUNTING SOLUTIONS PVT LTD': 4,\n",
       " 'ACE AGENCIES': 0,\n",
       " 'ACE ARMOR PVT': 0,\n",
       " 'ACE BPO SERVICES PVT LTD': 0,\n",
       " 'ACE COMPUTER SERVICES': 0,\n",
       " 'ACE CREATIVE LEARNING PVT LTD': 0,\n",
       " 'ACE CUNSSOLATING ENGEENERS': 0,\n",
       " 'ACE DECOR PVT.LTD': 0,\n",
       " 'ACE FACILITY INDIA PVT LTD': 0,\n",
       " 'ACE FACILITY MANAGEMENT': 0,\n",
       " 'ACE HOSPITAL ': 0,\n",
       " 'ACE INDUSTRIES': 0,\n",
       " 'ACE INFRALINE PVT LTD': 0,\n",
       " 'ACE KUDALE CAR PVT LTD': 0,\n",
       " 'ACE MANAGEMENT SERVICES': 0,\n",
       " 'ACE MANUFACTURING SYSTEMS LTD': 0,\n",
       " 'ACE SECURITY PROCTION PVT LTD': 0,\n",
       " 'ACE SECURITY SERVICES': 0,\n",
       " 'ACE TECHNOLOGIES': 0,\n",
       " 'ACE TECHNOLOGIES PVT LTD': 0,\n",
       " 'ACE TRADING CO': 0,\n",
       " 'ACEAST TECHNOLOGY PVT LTD': 0,\n",
       " 'ACEBRIGHT (INDIA)PHARMA PVT LTD': 0,\n",
       " 'ACELIFESTYLES': 0,\n",
       " 'ACEMICRCOMATIC': 0,\n",
       " 'ACER INDIA PVT LTD': 0,\n",
       " 'ACER MOTORS': 0,\n",
       " 'ACERHEALTH ONESOURCE PVT LTD': 0,\n",
       " 'ACES TECH HUB PVT. LTD.': 0,\n",
       " 'ACETECH TECHNOLOGIES (P)  LTD': 0,\n",
       " 'ACETO CHEM. P.LTD.': 0,\n",
       " 'ACG INSPECTION SYSTEMS PVT LTD': 0,\n",
       " 'ACG METALCRAFT PVT.LTD': 0,\n",
       " 'ACG PAM PHARMA TECHNOLOGIES LTD': 0,\n",
       " 'ACHARIYA GROUP OF INSTITUTIONS': 0,\n",
       " 'ACHARYA DENTAL CLINIC': 0,\n",
       " 'ACHARYA DENTAL CLINIC ': 0,\n",
       " 'ACHARYA INSTITUTE OF TECHNOLOGY': 0,\n",
       " 'ACHARYA PRAFULLA CHANDRA COLLEGE': 0,\n",
       " 'ACHEAR CLEAN ROOM PRESENTATION': 0,\n",
       " 'ACHI HOSPITAL PVT. LTD.': 0,\n",
       " 'ACHIEVE ENGINEER': 0,\n",
       " 'ACHIEVERS ZONE INDIA PVT LTD': 0,\n",
       " 'ACHILLES INFORMATION INDIA PVT LTD': 0,\n",
       " 'ACHIVERS': 0,\n",
       " 'ACHME COMMUNICATION': 0,\n",
       " 'ACHUS': 0,\n",
       " 'ACHUTA SOFTWARE TECHNOLOGIES': 0,\n",
       " 'ACI WORLDWIDE': 0,\n",
       " 'ACI WORLDWIDE SOLUTIONS PVT LTD': 0,\n",
       " 'ACID INDIA PVT LTD': 0,\n",
       " 'ACIDAES SOLUTIONS PVT LTD': 0,\n",
       " 'ACKERMANN INSTRUMENTE': 0,\n",
       " 'ACKTRON SECURITIES': 0,\n",
       " 'ACLIV TECHNOLOGIES PVT LTD': 0,\n",
       " 'ACMA': 0,\n",
       " 'ACMA COMPUTERS LTD': 0,\n",
       " 'ACME AUTOMATION(P) LTD': 0,\n",
       " 'ACME BUILDERS PVT LTD': 0,\n",
       " 'ACME ENGINEERS PVT LTD': 0,\n",
       " 'ACME FINANCIAL SERVICES ': 0,\n",
       " 'ACME INDIA MICROSYS PVT LTD': 0,\n",
       " 'ACME INSTITUTE OF INFORMATION TECHNOLOGY PATNA': 0,\n",
       " 'ACME INTERIORS PRIVATE LIMITED': 0,\n",
       " 'ACME INTERIORS PVT LTD': 0,\n",
       " 'ACME INTERNATIONAL SCHOOL ': 0,\n",
       " 'ACME MACHINERY COMPANY PVT LTD': 0,\n",
       " 'ACME SYNTHETIC CHEMICALS': 0,\n",
       " 'ACMEVAC SALES PVT LTD': 0,\n",
       " 'ACN CONSTRUCTIONS PVT LTD': 0,\n",
       " 'ACO SYSTEMS AND SOLUTIONS PVT LTD': 0,\n",
       " 'ACOLYTES': 0,\n",
       " 'ACONNEXION': 0,\n",
       " 'ACONNEXION BPO SERVICES PVT LTD': 0,\n",
       " 'ACOUNT': 0,\n",
       " 'ACOUNTS': 0,\n",
       " 'ACQUEST ESTATES PVT LTD': 0,\n",
       " 'ACREATY MANAGEMENT CONSULTANT PVT LTD': 0,\n",
       " 'ACRIFAB PVT. LTD.': 0,\n",
       " 'ACRO HR SOLUTIONS INDIA PVT LTD': 0,\n",
       " 'ACRO TECHNOLOGY PVT LTD': 0,\n",
       " 'ACROPETAL TECHNOLOGIES LTD': 0,\n",
       " 'ACS , A XEROX COMPANY': 0,\n",
       " 'ACS ADVISORY SERVICES LTD': 0,\n",
       " 'ACS GLOBAL TECH SOLUTION PVT LTD': 0,\n",
       " 'ACS TECHNOLOGIES': 0,\n",
       " 'ACS XEROX': 0,\n",
       " 'ACS XEROX ': 0,\n",
       " 'ACS, A XEROX COMPANY': 0,\n",
       " 'ACSAAA': 0,\n",
       " 'ACSM': 0,\n",
       " 'ACSYS SOFTWARE': 0,\n",
       " 'ACT BROADBAND': 0,\n",
       " 'ACT FIBERNET': 0,\n",
       " 'ACT INDIA LTD': 0,\n",
       " 'ACT- ON SOFTWARE INDIA PVT LTD': 0,\n",
       " 'ACTAVIS PHARMA DEVELOPMENT CENTER PVT LTD': 0,\n",
       " 'ACTECH INFORMATION SYSTEM LTD': 0,\n",
       " 'ACTIA INDIA PVT. LTD': 0,\n",
       " 'ACTIFIO TECHNOLOGIES PVT LTD': 0,\n",
       " 'ACTION AID ASSOCIATION': 0,\n",
       " 'ACTION AND PROTECTION SECURITY FORCE': 0,\n",
       " 'ACTION AUTOMOTIVES PVT LTD': 0,\n",
       " 'ACTION EDGE KNOWLEDGE SERVICES PRIVATE LIMITED': 0,\n",
       " 'ACTION INDUSTRIAL CORPORATION': 0,\n",
       " 'ACTION ISPAT AND POWER PVT LTD': 0,\n",
       " 'ACTIONAID ASSOCIATION': 0,\n",
       " 'ACTIV DOCTORS ONLINE INDIA ': 0,\n",
       " 'ACTIV DOCTORS ONLINE INDIA PVT. LTD.': 0,\n",
       " 'ACTIVATE INFOCOM PVT LTD': 0,\n",
       " 'ACTIVE BRAIN': 0,\n",
       " 'ACTIVE CLOTHING CO.': 0,\n",
       " 'ACTIVE MOTORS PRIVATE LIMITED': 0,\n",
       " 'ACTOLAP SOLUTIONS INDIA': 0,\n",
       " 'ACTSINFO': 0,\n",
       " 'ACUBETECH SOLUTIONS PVT LTD': 0,\n",
       " 'ACUITY SOFTWARE TECHNOLOGIES PVT LTD': 0,\n",
       " 'ACUMEN SERVICES': 0,\n",
       " 'ACUMEN TECHNOLOGIES PVT LTD': 0,\n",
       " 'ACUMINOUS SOFTWARE PVT. LTD.': 0,\n",
       " 'ACURUS SOLUTIONS PRIVATE LIMITED': 0,\n",
       " 'ACUSERVE INTERGRATED FACILITY': 0,\n",
       " 'ACUTE INFORMATICS PVT LTD': 0,\n",
       " 'ACUVATE SOFTWARE PVT LTD': 0,\n",
       " 'ACXIOM TECHNOLOGIES': 0,\n",
       " 'AD': 0,\n",
       " 'AD ENTERPRISES': 0,\n",
       " 'AD INDIA BRAND PROMOTIONS': 0,\n",
       " 'AD TECH STITCH PVT LTD': 0,\n",
       " 'AD-LINE': 0,\n",
       " 'AD2PRO MEDIA SOLUTIONS PVT LTD': 0,\n",
       " 'ADACHI NATURAL POLYMER PRIVATE LIMITED': 0,\n",
       " 'ADACHI NATURAL POLYMER PVT LTD': 0,\n",
       " 'ADAEQUARE INFO PVT LTD': 0,\n",
       " 'ADAEQUARE SOFTWARE ENGINEE P LTD': 0,\n",
       " 'ADALAJA CHIRAG': 0,\n",
       " 'ADAM ASSOCIATES UTILITY ENGINEERS P LTD': 0,\n",
       " 'ADAM COMSOF LTD': 0,\n",
       " 'ADAM FABRIWERK PVT LTD': 0,\n",
       " 'ADAMAS CAREER': 0,\n",
       " 'ADAMS MARKETING PVT LTD': 0,\n",
       " 'ADANI': 0,\n",
       " 'ADANI AGRI FRESH LTD': 0,\n",
       " 'ADANI ENTERPRISES LTD': 0,\n",
       " 'ADANI GAS LTD': 0,\n",
       " 'ADANI GROUP': 0,\n",
       " 'ADANI LOGISTICS LTD': 0,\n",
       " 'ADANI PORT AND SPECIAL ECONOMIC ZONE LTD': 0,\n",
       " 'ADANI PORT AND SPECIAL ECONOMIC ZONE LTDPO': 0,\n",
       " 'ADANI POWER LTD': 0,\n",
       " 'ADANI TOWNSHIP AND REAL ESTATE COMPANY': 0,\n",
       " 'ADANI TRANSMISSION LTD': 0,\n",
       " 'ADANI WEST PORT': 0,\n",
       " 'ADANI WILMAR LTD': 0,\n",
       " 'ADAPA SUDHEER': 0,\n",
       " 'ADAPT SOFTWARE INDIA P LTD': 0,\n",
       " 'ADAPTAVANT TECHNOLOGY SOLU PVT LTD': 0,\n",
       " 'ADAPTAVANT TECHNOLOGY SOLUTIONS': 0,\n",
       " 'ADAPTIVE SOFTECH PVT. LTD.': 0,\n",
       " 'ADAPTY': 0,\n",
       " 'ADARI SANDEEP': 0,\n",
       " 'ADARSH': 0,\n",
       " 'ADARSH CREDIT CO OPERATIVE SOCIETY LTD': 0,\n",
       " 'ADARSH CREDIT CO-OPERATIVE SOCIETY LTD': 0,\n",
       " 'ADARSH CREDIT CO-OPERATIVE SOCIETY LTDCRE': 0,\n",
       " 'ADARSH CREDIT CO-OPERATIVE SOCIETY LTDI': 0,\n",
       " 'ADARSH DEVELOPERS': 0,\n",
       " 'ADARSH DEVELOPETS': 0,\n",
       " 'ADARSH DEVOLOPERS': 0,\n",
       " 'ADARSH ENTERPRISES PROJECTS. PVT. LTD': 0,\n",
       " 'ADARSH ENTERPRISES PVT LTD': 0,\n",
       " 'ADARSH ENTERPRISES PVT, LTD,': 0,\n",
       " 'ADARSH GROUP': 0,\n",
       " 'ADARSH INSTITUTE OF TECHNOLOGY, VITA.': 0,\n",
       " 'ADARSH RAWAT': 0,\n",
       " 'ADARSH REALTY AND HOTELS PVT LTD': 0,\n",
       " 'ADARSH SOLUTIONS': 0,\n",
       " 'ADARSHA COMPREHEN COL OF EDU N RES': 0,\n",
       " 'ADARSHA PACKAGING PVT LTD': 0,\n",
       " 'ADARSHA SPECIALTY CHEMICALS PVT LTD': 0,\n",
       " 'ADBC COMPANY': 0,\n",
       " 'ADC BANK ': 0,\n",
       " ...}"
      ]
     },
     "execution_count": 72,
     "metadata": {},
     "output_type": "execute_result"
    }
   ],
   "source": [
    "mapping_dict"
   ]
  },
  {
   "cell_type": "code",
   "execution_count": 73,
   "metadata": {},
   "outputs": [],
   "source": [
    "def convert_employer(employer):\n",
    "    if employer in mapping_dict.keys():\n",
    "        return mapping_dict[employer]\n",
    "    elif employer == 'NotGiven':\n",
    "        return employer\n",
    "    else:\n",
    "        return \"Other\"\n",
    "    \n",
    "data[\"Employer_Name\"] = data.Employer_Name.apply(convert_employer)"
   ]
  },
  {
   "cell_type": "code",
   "execution_count": 74,
   "metadata": {},
   "outputs": [
    {
     "data": {
      "text/plain": [
       "0           101712\n",
       "Other        14517\n",
       "NotGiven      7013\n",
       "1              649\n",
       "4              454\n",
       "2              389\n",
       "3                3\n",
       "Name: Employer_Name, dtype: int64"
      ]
     },
     "execution_count": 74,
     "metadata": {},
     "output_type": "execute_result"
    }
   ],
   "source": [
    "data['Employer_Name'].value_counts()"
   ]
  },
  {
   "cell_type": "code",
   "execution_count": 75,
   "metadata": {},
   "outputs": [],
   "source": [
    "CATEGORICAL_FEATURES.append('Employer_Name')"
   ]
  },
  {
   "cell_type": "markdown",
   "metadata": {},
   "source": [
    "Variable: **Salary_Account**"
   ]
  },
  {
   "cell_type": "code",
   "execution_count": 76,
   "metadata": {},
   "outputs": [
    {
     "data": {
      "text/plain": [
       "16801"
      ]
     },
     "execution_count": 76,
     "metadata": {},
     "output_type": "execute_result"
    }
   ],
   "source": [
    "data['Salary_Account'].isna().sum()"
   ]
  },
  {
   "cell_type": "code",
   "execution_count": 77,
   "metadata": {
    "scrolled": true
   },
   "outputs": [
    {
     "data": {
      "text/plain": [
       "HDFC Bank                                          25180\n",
       "ICICI Bank                                         19547\n",
       "State Bank of India                                17110\n",
       "Axis Bank                                          12590\n",
       "Citibank                                            3398\n",
       "Kotak Bank                                          2955\n",
       "IDBI Bank                                           2213\n",
       "Punjab National Bank                                1747\n",
       "Bank of India                                       1713\n",
       "Bank of Baroda                                      1675\n",
       "Standard Chartered Bank                             1434\n",
       "Canara Bank                                         1385\n",
       "Union Bank of India                                 1330\n",
       "Yes Bank                                            1120\n",
       "ING Vysya                                            996\n",
       "Corporation bank                                     948\n",
       "Indian Overseas Bank                                 901\n",
       "State Bank of Hyderabad                              854\n",
       "Indian Bank                                          773\n",
       "Oriental Bank of Commerce                            761\n",
       "IndusInd Bank                                        711\n",
       "Andhra Bank                                          706\n",
       "Central Bank of India                                648\n",
       "Syndicate Bank                                       614\n",
       "Bank of Maharasthra                                  576\n",
       "HSBC                                                 474\n",
       "State Bank of Bikaner & Jaipur                       448\n",
       "Karur Vysya Bank                                     435\n",
       "State Bank of Mysore                                 385\n",
       "Federal Bank                                         377\n",
       "Vijaya Bank                                          354\n",
       "Allahabad Bank                                       345\n",
       "UCO Bank                                             344\n",
       "State Bank of Travancore                             333\n",
       "Karnataka Bank                                       279\n",
       "United Bank of India                                 276\n",
       "Dena Bank                                            268\n",
       "Saraswat Bank                                        265\n",
       "State Bank of Patiala                                263\n",
       "South Indian Bank                                    223\n",
       "Deutsche Bank                                        176\n",
       "Abhyuday Co-op Bank Ltd                              161\n",
       "The Ratnakar Bank Ltd                                113\n",
       "Tamil Nadu Mercantile Bank                           103\n",
       "Punjab & Sind bank                                    84\n",
       "J&K Bank                                              78\n",
       "Lakshmi Vilas bank                                    69\n",
       "Dhanalakshmi Bank Ltd                                 66\n",
       "State Bank of Indore                                  32\n",
       "Catholic Syrian Bank                                  27\n",
       "India Bulls                                           21\n",
       "B N P Paribas                                         15\n",
       "Firstrand Bank Limited                                11\n",
       "GIC Housing Finance Ltd                               10\n",
       "Bank of Rajasthan                                      8\n",
       "Kerala Gramin Bank                                     4\n",
       "Industrial And Commercial Bank Of China Limited        3\n",
       "Ahmedabad Mercantile Cooperative Bank                  1\n",
       "Name: Salary_Account, dtype: int64"
      ]
     },
     "execution_count": 77,
     "metadata": {},
     "output_type": "execute_result"
    }
   ],
   "source": [
    "data['Salary_Account'].value_counts()"
   ]
  },
  {
   "cell_type": "markdown",
   "metadata": {},
   "source": [
    "Similiary to the **Employer_Name** variable, we can encapsulate less frequent banks into larger groups by their mean **Disbursed** score.\n",
    "\n",
    "But first, we need to fill missing values, e.g. by random sampling from existing values."
   ]
  },
  {
   "cell_type": "code",
   "execution_count": 78,
   "metadata": {},
   "outputs": [],
   "source": [
    "import random\n",
    "mask = data['Salary_Account'].isnull()\n",
    "samples = random.choices(data['Salary_Account'][~mask].values , k=mask.sum())\n",
    "data.loc[mask, 'Salary_Account'] = samples"
   ]
  },
  {
   "cell_type": "code",
   "execution_count": 79,
   "metadata": {},
   "outputs": [
    {
     "data": {
      "text/plain": [
       "0"
      ]
     },
     "execution_count": 79,
     "metadata": {},
     "output_type": "execute_result"
    }
   ],
   "source": [
    "data['Salary_Account'].isna().sum()"
   ]
  },
  {
   "cell_type": "code",
   "execution_count": 80,
   "metadata": {},
   "outputs": [],
   "source": [
    "account_means = data_train.groupby('Salary_Account')['Disbursed'].mean()"
   ]
  },
  {
   "cell_type": "code",
   "execution_count": 81,
   "metadata": {},
   "outputs": [
    {
     "data": {
      "text/plain": [
       "<matplotlib.axes._subplots.AxesSubplot at 0x2800f877048>"
      ]
     },
     "execution_count": 81,
     "metadata": {},
     "output_type": "execute_result"
    },
    {
     "data": {
      "image/png": "[encoded data removed]",
      "text/plain": [
       "<Figure size 1152x432 with 1 Axes>"
      ]
     },
     "metadata": {
      "needs_background": "light"
     },
     "output_type": "display_data"
    }
   ],
   "source": [
    "account_means.plot.bar(figsize=(16, 6))"
   ]
  },
  {
   "cell_type": "code",
   "execution_count": 82,
   "metadata": {},
   "outputs": [],
   "source": [
    "mapping_dict = dict(pd.cut(account_means[(account_means.index != 'HDFC Bank') & \n",
    "                                         (account_means.index != 'ICICI Bank') &\n",
    "                                         (account_means.index != 'State Bank of India') & \n",
    "                                         (account_means.index != 'Axis Bank')], 5, labels=range(5)))"
   ]
  },
  {
   "cell_type": "code",
   "execution_count": 83,
   "metadata": {},
   "outputs": [],
   "source": [
    "def convert_account(account):\n",
    "    if account in mapping_dict.keys():\n",
    "        return mapping_dict[account]\n",
    "    elif account in ['HDFC Bank', 'ICICI Bank', 'State Bank of India', 'Axis Bank']:\n",
    "        return account\n",
    "    else:\n",
    "        return \"Other\"\n",
    "    \n",
    "data[\"Salary_Account\"] = data.Salary_Account.apply(convert_account)"
   ]
  },
  {
   "cell_type": "code",
   "execution_count": 84,
   "metadata": {},
   "outputs": [],
   "source": [
    "CATEGORICAL_FEATURES.append(\"Salary_Account\")"
   ]
  },
  {
   "cell_type": "markdown",
   "metadata": {},
   "source": [
    "Variable: **Mobile_Verified**"
   ]
  },
  {
   "cell_type": "code",
   "execution_count": 85,
   "metadata": {},
   "outputs": [
    {
     "data": {
      "text/plain": [
       "0"
      ]
     },
     "execution_count": 85,
     "metadata": {},
     "output_type": "execute_result"
    }
   ],
   "source": [
    "data['Mobile_Verified'].isna().sum()"
   ]
  },
  {
   "cell_type": "code",
   "execution_count": 86,
   "metadata": {},
   "outputs": [
    {
     "data": {
      "text/plain": [
       "Y    80928\n",
       "N    43809\n",
       "Name: Mobile_Verified, dtype: int64"
      ]
     },
     "execution_count": 86,
     "metadata": {},
     "output_type": "execute_result"
    }
   ],
   "source": [
    "data['Mobile_Verified'].value_counts()"
   ]
  },
  {
   "cell_type": "code",
   "execution_count": 87,
   "metadata": {},
   "outputs": [
    {
     "data": {
      "text/plain": [
       "<matplotlib.axes._subplots.AxesSubplot at 0x28012e45b48>"
      ]
     },
     "execution_count": 87,
     "metadata": {},
     "output_type": "execute_result"
    },
    {
     "data": {
      "image/png": "[encoded data removed]",
      "text/plain": [
       "<Figure size 432x288 with 1 Axes>"
      ]
     },
     "metadata": {
      "needs_background": "light"
     },
     "output_type": "display_data"
    }
   ],
   "source": [
    "sns.countplot(x=\"Disbursed\", hue=\"Mobile_Verified\", data=data)"
   ]
  },
  {
   "cell_type": "code",
   "execution_count": 88,
   "metadata": {},
   "outputs": [],
   "source": [
    "CATEGORICAL_FEATURES.append(\"Mobile_Verified\")"
   ]
  },
  {
   "cell_type": "markdown",
   "metadata": {},
   "source": [
    "Variable: **Var1**"
   ]
  },
  {
   "cell_type": "code",
   "execution_count": 89,
   "metadata": {},
   "outputs": [
    {
     "data": {
      "text/plain": [
       "0"
      ]
     },
     "execution_count": 89,
     "metadata": {},
     "output_type": "execute_result"
    }
   ],
   "source": [
    "data['Var1'].isna().sum()"
   ]
  },
  {
   "cell_type": "code",
   "execution_count": 90,
   "metadata": {},
   "outputs": [
    {
     "data": {
      "text/plain": [
       "HBXX    84901\n",
       "HBXC    12952\n",
       "HBXB     6502\n",
       "HAXA     4214\n",
       "HBXA     3042\n",
       "HAXB     2879\n",
       "HBXD     2818\n",
       "HAXC     2171\n",
       "HBXH     1387\n",
       "HCXF      990\n",
       "HAYT      710\n",
       "HAVC      570\n",
       "HAXM      386\n",
       "HCXD      348\n",
       "HCYS      318\n",
       "HVYS      252\n",
       "HAZD      161\n",
       "HCXG      114\n",
       "HAXF       22\n",
       "Name: Var1, dtype: int64"
      ]
     },
     "execution_count": 90,
     "metadata": {},
     "output_type": "execute_result"
    }
   ],
   "source": [
    "data['Var1'].value_counts()"
   ]
  },
  {
   "cell_type": "markdown",
   "metadata": {},
   "source": [
    "Similiary to the **Employer_Name** variable, we can encapsulate less frequent categories into larger groups by their mean **Disbursed** score.\n"
   ]
  },
  {
   "cell_type": "code",
   "execution_count": 91,
   "metadata": {},
   "outputs": [
    {
     "data": {
      "text/plain": [
       "<matplotlib.legend.Legend at 0x28012c2ecc8>"
      ]
     },
     "execution_count": 91,
     "metadata": {},
     "output_type": "execute_result"
    },
    {
     "data": {
      "image/png": "[encoded data removed]",
      "text/plain": [
       "<Figure size 1152x432 with 1 Axes>"
      ]
     },
     "metadata": {
      "needs_background": "light"
     },
     "output_type": "display_data"
    }
   ],
   "source": [
    "plt.figure(figsize=(16, 6))\n",
    "sns.countplot(x=\"Var1\", hue=\"Disbursed\", data=data, palette='coolwarm')\n",
    "plt.yscale('log')\n",
    "plt.legend(loc='upper right')"
   ]
  },
  {
   "cell_type": "code",
   "execution_count": 92,
   "metadata": {},
   "outputs": [],
   "source": [
    "var1_means = data_train.groupby('Var1')['Disbursed'].mean()"
   ]
  },
  {
   "cell_type": "code",
   "execution_count": 93,
   "metadata": {},
   "outputs": [],
   "source": [
    "mapping_dict = dict(pd.cut(var1_means[var1_means.index != 'HBXX'], 5, labels=range(5)))"
   ]
  },
  {
   "cell_type": "code",
   "execution_count": 94,
   "metadata": {},
   "outputs": [
    {
     "data": {
      "text/plain": [
       "{'HAVC': 1,\n",
       " 'HAXA': 2,\n",
       " 'HAXB': 4,\n",
       " 'HAXC': 4,\n",
       " 'HAXF': 0,\n",
       " 'HAXM': 3,\n",
       " 'HAYT': 1,\n",
       " 'HAZD': 1,\n",
       " 'HBXA': 4,\n",
       " 'HBXB': 0,\n",
       " 'HBXC': 0,\n",
       " 'HBXD': 2,\n",
       " 'HBXH': 1,\n",
       " 'HCXD': 0,\n",
       " 'HCXF': 2,\n",
       " 'HCXG': 0,\n",
       " 'HCYS': 0,\n",
       " 'HVYS': 0}"
      ]
     },
     "execution_count": 94,
     "metadata": {},
     "output_type": "execute_result"
    }
   ],
   "source": [
    "mapping_dict"
   ]
  },
  {
   "cell_type": "code",
   "execution_count": 95,
   "metadata": {},
   "outputs": [],
   "source": [
    "def convert_var1(var1):\n",
    "    if var1 in mapping_dict.keys():\n",
    "        return mapping_dict[var1]\n",
    "    else:\n",
    "        return \"Other\"\n",
    "    \n",
    "data[\"Var1\"] = data.Var1.apply(convert_var1)"
   ]
  },
  {
   "cell_type": "code",
   "execution_count": 96,
   "metadata": {},
   "outputs": [],
   "source": [
    "CATEGORICAL_FEATURES.append(\"Var1\")"
   ]
  },
  {
   "cell_type": "markdown",
   "metadata": {},
   "source": [
    "Variable: **Var2**"
   ]
  },
  {
   "cell_type": "code",
   "execution_count": 97,
   "metadata": {},
   "outputs": [
    {
     "data": {
      "text/plain": [
       "0"
      ]
     },
     "execution_count": 97,
     "metadata": {},
     "output_type": "execute_result"
    }
   ],
   "source": [
    "data['Var2'].isna().sum()"
   ]
  },
  {
   "cell_type": "code",
   "execution_count": 98,
   "metadata": {},
   "outputs": [
    {
     "data": {
      "text/plain": [
       "B    53481\n",
       "G    47338\n",
       "C    20366\n",
       "E     1855\n",
       "D      918\n",
       "F      770\n",
       "A        9\n",
       "Name: Var2, dtype: int64"
      ]
     },
     "execution_count": 98,
     "metadata": {},
     "output_type": "execute_result"
    }
   ],
   "source": [
    "data['Var2'].value_counts()"
   ]
  },
  {
   "cell_type": "code",
   "execution_count": 99,
   "metadata": {},
   "outputs": [
    {
     "data": {
      "text/plain": [
       "<matplotlib.legend.Legend at 0x28013140488>"
      ]
     },
     "execution_count": 99,
     "metadata": {},
     "output_type": "execute_result"
    },
    {
     "data": {
      "image/png": "[encoded data removed]",
      "text/plain": [
       "<Figure size 720x432 with 1 Axes>"
      ]
     },
     "metadata": {
      "needs_background": "light"
     },
     "output_type": "display_data"
    }
   ],
   "source": [
    "plt.figure(figsize=(10, 6))\n",
    "sns.countplot(x=\"Var2\", hue=\"Disbursed\", data=data, palette='coolwarm')\n",
    "plt.yscale('log')\n",
    "plt.legend(loc='upper right')"
   ]
  },
  {
   "cell_type": "code",
   "execution_count": 100,
   "metadata": {},
   "outputs": [],
   "source": [
    "CATEGORICAL_FEATURES.append(\"Var2\")"
   ]
  },
  {
   "cell_type": "markdown",
   "metadata": {},
   "source": [
    "Variable: **Var4**"
   ]
  },
  {
   "cell_type": "code",
   "execution_count": 101,
   "metadata": {},
   "outputs": [
    {
     "data": {
      "text/plain": [
       "0"
      ]
     },
     "execution_count": 101,
     "metadata": {},
     "output_type": "execute_result"
    }
   ],
   "source": [
    "data['Var4'].isna().sum()"
   ]
  },
  {
   "cell_type": "code",
   "execution_count": 102,
   "metadata": {},
   "outputs": [
    {
     "data": {
      "text/plain": [
       "3    36280\n",
       "1    34316\n",
       "5    29092\n",
       "4     9411\n",
       "2     8481\n",
       "0     3564\n",
       "7     3264\n",
       "6      329\n",
       "Name: Var4, dtype: int64"
      ]
     },
     "execution_count": 102,
     "metadata": {},
     "output_type": "execute_result"
    }
   ],
   "source": [
    "data['Var4'].value_counts()"
   ]
  },
  {
   "cell_type": "code",
   "execution_count": 103,
   "metadata": {},
   "outputs": [
    {
     "data": {
      "text/plain": [
       "<matplotlib.legend.Legend at 0x2800f942448>"
      ]
     },
     "execution_count": 103,
     "metadata": {},
     "output_type": "execute_result"
    },
    {
     "data": {
      "image/png": "[encoded data removed]",
      "text/plain": [
       "<Figure size 720x432 with 1 Axes>"
      ]
     },
     "metadata": {
      "needs_background": "light"
     },
     "output_type": "display_data"
    }
   ],
   "source": [
    "plt.figure(figsize=(10, 6))\n",
    "sns.countplot(x=\"Var4\", hue=\"Disbursed\", data=data, palette='coolwarm')\n",
    "plt.yscale('log')\n",
    "plt.legend(loc='upper right')"
   ]
  },
  {
   "cell_type": "code",
   "execution_count": 104,
   "metadata": {},
   "outputs": [],
   "source": [
    "CATEGORICAL_FEATURES.append(\"Var4\")"
   ]
  },
  {
   "cell_type": "markdown",
   "metadata": {},
   "source": [
    "Variable: **Var5**"
   ]
  },
  {
   "cell_type": "code",
   "execution_count": 105,
   "metadata": {},
   "outputs": [
    {
     "data": {
      "text/plain": [
       "0"
      ]
     },
     "execution_count": 105,
     "metadata": {},
     "output_type": "execute_result"
    }
   ],
   "source": [
    "data['Var5'].isna().sum()"
   ]
  },
  {
   "cell_type": "code",
   "execution_count": 106,
   "metadata": {},
   "outputs": [
    {
     "data": {
      "text/plain": [
       "0     41584\n",
       "1     17562\n",
       "3      9593\n",
       "11     7427\n",
       "2      6532\n",
       "14     5227\n",
       "15     5023\n",
       "12     4290\n",
       "13     3749\n",
       "8      3629\n",
       "10     3492\n",
       "9      3290\n",
       "16     3096\n",
       "4      2639\n",
       "17     2376\n",
       "7      2115\n",
       "5      1428\n",
       "6      1406\n",
       "18      279\n",
       "Name: Var5, dtype: int64"
      ]
     },
     "execution_count": 106,
     "metadata": {},
     "output_type": "execute_result"
    }
   ],
   "source": [
    "data['Var5'].value_counts()"
   ]
  },
  {
   "cell_type": "code",
   "execution_count": 107,
   "metadata": {},
   "outputs": [
    {
     "data": {
      "text/plain": [
       "<matplotlib.legend.Legend at 0x2800f207d88>"
      ]
     },
     "execution_count": 107,
     "metadata": {},
     "output_type": "execute_result"
    },
    {
     "data": {
      "image/png": "[encoded data removed]",
      "text/plain": [
       "<Figure size 720x432 with 1 Axes>"
      ]
     },
     "metadata": {
      "needs_background": "light"
     },
     "output_type": "display_data"
    }
   ],
   "source": [
    "plt.figure(figsize=(10, 6))\n",
    "sns.countplot(x=\"Var5\", hue=\"Disbursed\", data=data, palette='coolwarm')\n",
    "plt.yscale('log')\n",
    "plt.legend(loc='upper right')"
   ]
  },
  {
   "cell_type": "code",
   "execution_count": 108,
   "metadata": {},
   "outputs": [],
   "source": [
    "CATEGORICAL_FEATURES.append(\"Var5\")"
   ]
  },
  {
   "cell_type": "markdown",
   "metadata": {},
   "source": [
    "Variable: **Loan_Amount_Submitted**"
   ]
  },
  {
   "cell_type": "code",
   "execution_count": 109,
   "metadata": {},
   "outputs": [
    {
     "data": {
      "text/plain": [
       "49535"
      ]
     },
     "execution_count": 109,
     "metadata": {},
     "output_type": "execute_result"
    }
   ],
   "source": [
    "data['Loan_Amount_Submitted'].isna().sum()"
   ]
  },
  {
   "cell_type": "markdown",
   "metadata": {},
   "source": [
    "In case of missing about 40% values, there in necessity for creating new feature informing abount missing data. "
   ]
  },
  {
   "cell_type": "code",
   "execution_count": 110,
   "metadata": {},
   "outputs": [],
   "source": [
    "data['Missing_Loan_Amount_Submitted'] = data.Loan_Amount_Submitted.isna()"
   ]
  },
  {
   "cell_type": "code",
   "execution_count": 111,
   "metadata": {},
   "outputs": [],
   "source": [
    "CATEGORICAL_FEATURES.append('Missing_Loan_Amount_Submitted')"
   ]
  },
  {
   "cell_type": "code",
   "execution_count": 112,
   "metadata": {},
   "outputs": [
    {
     "data": {
      "text/plain": [
       "<matplotlib.axes._subplots.AxesSubplot at 0x2801484bcc8>"
      ]
     },
     "execution_count": 112,
     "metadata": {},
     "output_type": "execute_result"
    },
    {
     "data": {
      "image/png": "[encoded data removed]",
      "text/plain": [
       "<Figure size 432x288 with 1 Axes>"
      ]
     },
     "metadata": {
      "needs_background": "light"
     },
     "output_type": "display_data"
    }
   ],
   "source": [
    "data['Loan_Amount_Submitted'].plot.hist(bins=100)"
   ]
  },
  {
   "cell_type": "markdown",
   "metadata": {},
   "source": [
    "The distribution is skewed, so we can apply log transform in order to normalize data.  "
   ]
  },
  {
   "cell_type": "code",
   "execution_count": 113,
   "metadata": {},
   "outputs": [],
   "source": [
    "data['Loan_Amount_Submitted'] = np.log10(data['Loan_Amount_Submitted'] + 1)"
   ]
  },
  {
   "cell_type": "code",
   "execution_count": 114,
   "metadata": {},
   "outputs": [
    {
     "data": {
      "text/plain": [
       "<matplotlib.axes._subplots.AxesSubplot at 0x280153893c8>"
      ]
     },
     "execution_count": 114,
     "metadata": {},
     "output_type": "execute_result"
    },
    {
     "data": {
      "image/png": "[encoded data removed]",
      "text/plain": [
       "<Figure size 432x288 with 1 Axes>"
      ]
     },
     "metadata": {
      "needs_background": "light"
     },
     "output_type": "display_data"
    }
   ],
   "source": [
    "data['Loan_Amount_Submitted'].plot.hist(bins=50)"
   ]
  },
  {
   "cell_type": "markdown",
   "metadata": {},
   "source": [
    "Next, we may estimate mean and std of created seminormal distribution for filling missing values. "
   ]
  },
  {
   "cell_type": "code",
   "execution_count": 115,
   "metadata": {},
   "outputs": [],
   "source": [
    "data['Loan_Amount_Submitted'].fillna(\n",
    "    pd.Series(\n",
    "        [np.random.normal(loc=data.Loan_Amount_Submitted.mean(), \n",
    "                          scale=data.Loan_Amount_Submitted.std()) \n",
    "         for x in range(len(data))]\n",
    "    ),\n",
    "    inplace=True\n",
    ")"
   ]
  },
  {
   "cell_type": "markdown",
   "metadata": {},
   "source": [
    "Variable: **Loan_Tenure_Submitted**"
   ]
  },
  {
   "cell_type": "code",
   "execution_count": 116,
   "metadata": {},
   "outputs": [
    {
     "data": {
      "text/plain": [
       "49535"
      ]
     },
     "execution_count": 116,
     "metadata": {},
     "output_type": "execute_result"
    }
   ],
   "source": [
    "data['Loan_Tenure_Submitted'].isna().sum()"
   ]
  },
  {
   "cell_type": "markdown",
   "metadata": {},
   "source": [
    "We apply the same strategy as with **Loan_Amount_Submitted**."
   ]
  },
  {
   "cell_type": "code",
   "execution_count": 117,
   "metadata": {},
   "outputs": [
    {
     "data": {
      "text/plain": [
       "5.0    29803\n",
       "4.0    21820\n",
       "3.0    12734\n",
       "2.0     7580\n",
       "1.0     3259\n",
       "6.0        6\n",
       "Name: Loan_Tenure_Submitted, dtype: int64"
      ]
     },
     "execution_count": 117,
     "metadata": {},
     "output_type": "execute_result"
    }
   ],
   "source": [
    "data['Loan_Tenure_Submitted'].value_counts()"
   ]
  },
  {
   "cell_type": "code",
   "execution_count": 118,
   "metadata": {},
   "outputs": [
    {
     "data": {
      "text/plain": [
       "<matplotlib.legend.Legend at 0x2801549d308>"
      ]
     },
     "execution_count": 118,
     "metadata": {},
     "output_type": "execute_result"
    },
    {
     "data": {
      "image/png": "[encoded data removed]",
      "text/plain": [
       "<Figure size 720x432 with 1 Axes>"
      ]
     },
     "metadata": {
      "needs_background": "light"
     },
     "output_type": "display_data"
    }
   ],
   "source": [
    "plt.figure(figsize=(10, 6))\n",
    "sns.countplot(x=\"Loan_Tenure_Submitted\", hue=\"Disbursed\", data=data, palette='coolwarm')\n",
    "plt.yscale('log')\n",
    "plt.legend(loc='upper right')"
   ]
  },
  {
   "cell_type": "code",
   "execution_count": 119,
   "metadata": {},
   "outputs": [],
   "source": [
    "data['Missing_Loan_Tenure_Submitted'] = data.Loan_Tenure_Submitted.isna()"
   ]
  },
  {
   "cell_type": "code",
   "execution_count": 120,
   "metadata": {},
   "outputs": [],
   "source": [
    "CATEGORICAL_FEATURES.append('Missing_Loan_Tenure_Submitted')"
   ]
  },
  {
   "cell_type": "code",
   "execution_count": 121,
   "metadata": {},
   "outputs": [],
   "source": [
    "mask = data['Loan_Tenure_Submitted'].isnull()\n",
    "samples = random.choices(data['Loan_Tenure_Submitted'][~mask].values , k=mask.sum())\n",
    "data.loc[mask, 'Loan_Tenure_Submitted'] = samples"
   ]
  },
  {
   "cell_type": "code",
   "execution_count": 122,
   "metadata": {},
   "outputs": [],
   "source": [
    "CATEGORICAL_FEATURES.append('Loan_Tenure_Submitted')"
   ]
  },
  {
   "cell_type": "markdown",
   "metadata": {},
   "source": [
    "Variable: **Interest_Rate**"
   ]
  },
  {
   "cell_type": "code",
   "execution_count": 123,
   "metadata": {},
   "outputs": [
    {
     "data": {
      "text/plain": [
       "84901"
      ]
     },
     "execution_count": 123,
     "metadata": {},
     "output_type": "execute_result"
    }
   ],
   "source": [
    "data['Interest_Rate'].isna().sum()"
   ]
  },
  {
   "cell_type": "markdown",
   "metadata": {},
   "source": [
    "With such a high missing values ratio (more than a half), we can apply the same strategy as with **Loan_Amount_Submitted**."
   ]
  },
  {
   "cell_type": "code",
   "execution_count": 124,
   "metadata": {},
   "outputs": [],
   "source": [
    "data['Missing_Interest_Rate'] = data.Loan_Amount_Submitted.isna()"
   ]
  },
  {
   "cell_type": "code",
   "execution_count": 125,
   "metadata": {},
   "outputs": [],
   "source": [
    "CATEGORICAL_FEATURES.append('Missing_Interest_Rate')"
   ]
  },
  {
   "cell_type": "code",
   "execution_count": 126,
   "metadata": {},
   "outputs": [
    {
     "data": {
      "text/plain": [
       "<matplotlib.axes._subplots.AxesSubplot at 0x2801485c408>"
      ]
     },
     "execution_count": 126,
     "metadata": {},
     "output_type": "execute_result"
    },
    {
     "data": {
      "image/png": "[encoded data removed]",
      "text/plain": [
       "<Figure size 432x288 with 1 Axes>"
      ]
     },
     "metadata": {
      "needs_background": "light"
     },
     "output_type": "display_data"
    }
   ],
   "source": [
    "data['Interest_Rate'].plot.hist(bins=50)"
   ]
  },
  {
   "cell_type": "code",
   "execution_count": 127,
   "metadata": {},
   "outputs": [],
   "source": [
    "mask = data['Interest_Rate'].isnull()\n",
    "samples = random.choices(data['Interest_Rate'][~mask].values , k=mask.sum())\n",
    "data.loc[mask, 'Interest_Rate'] = samples"
   ]
  },
  {
   "cell_type": "code",
   "execution_count": 128,
   "metadata": {},
   "outputs": [
    {
     "data": {
      "text/plain": [
       "<matplotlib.axes._subplots.AxesSubplot at 0x2801457d948>"
      ]
     },
     "execution_count": 128,
     "metadata": {},
     "output_type": "execute_result"
    },
    {
     "data": {
      "image/png": "[encoded data removed]",
      "text/plain": [
       "<Figure size 432x288 with 1 Axes>"
      ]
     },
     "metadata": {
      "needs_background": "light"
     },
     "output_type": "display_data"
    }
   ],
   "source": [
    "data['Interest_Rate'].plot.hist(bins=50)"
   ]
  },
  {
   "cell_type": "markdown",
   "metadata": {},
   "source": [
    "Variable: **Processing_Fee**"
   ]
  },
  {
   "cell_type": "code",
   "execution_count": 129,
   "metadata": {},
   "outputs": [
    {
     "data": {
      "text/plain": [
       "85346"
      ]
     },
     "execution_count": 129,
     "metadata": {},
     "output_type": "execute_result"
    }
   ],
   "source": [
    "data['Processing_Fee'].isna().sum()"
   ]
  },
  {
   "cell_type": "code",
   "execution_count": 130,
   "metadata": {},
   "outputs": [],
   "source": [
    "data['Missing_Processing_Fee'] = data.Processing_Fee.isna()"
   ]
  },
  {
   "cell_type": "code",
   "execution_count": 131,
   "metadata": {},
   "outputs": [],
   "source": [
    "CATEGORICAL_FEATURES.append('Missing_Processing_Fee')"
   ]
  },
  {
   "cell_type": "code",
   "execution_count": 132,
   "metadata": {},
   "outputs": [
    {
     "data": {
      "text/plain": [
       "<matplotlib.axes._subplots.AxesSubplot at 0x2801418ed48>"
      ]
     },
     "execution_count": 132,
     "metadata": {},
     "output_type": "execute_result"
    },
    {
     "data": {
      "image/png": "[encoded data removed]",
      "text/plain": [
       "<Figure size 432x288 with 1 Axes>"
      ]
     },
     "metadata": {
      "needs_background": "light"
     },
     "output_type": "display_data"
    }
   ],
   "source": [
    "data['Processing_Fee'].plot.hist(bins=50)"
   ]
  },
  {
   "cell_type": "code",
   "execution_count": 133,
   "metadata": {},
   "outputs": [],
   "source": [
    "data['Processing_Fee'] = np.log10(data['Processing_Fee'] + 1)"
   ]
  },
  {
   "cell_type": "code",
   "execution_count": 134,
   "metadata": {},
   "outputs": [
    {
     "data": {
      "text/plain": [
       "<matplotlib.axes._subplots.AxesSubplot at 0x2801425f188>"
      ]
     },
     "execution_count": 134,
     "metadata": {},
     "output_type": "execute_result"
    },
    {
     "data": {
      "image/png": "[encoded data removed]",
      "text/plain": [
       "<Figure size 432x288 with 1 Axes>"
      ]
     },
     "metadata": {
      "needs_background": "light"
     },
     "output_type": "display_data"
    }
   ],
   "source": [
    "data['Processing_Fee'].plot.hist(bins=50)"
   ]
  },
  {
   "cell_type": "markdown",
   "metadata": {},
   "source": [
    "We can estimate mean and std of created seminormal distribution for filling missing values. "
   ]
  },
  {
   "cell_type": "code",
   "execution_count": 135,
   "metadata": {},
   "outputs": [],
   "source": [
    "data['Processing_Fee'].fillna(\n",
    "    pd.Series(\n",
    "        [np.random.normal(loc=data.Processing_Fee.mean(), \n",
    "                          scale=data.Processing_Fee.std()) \n",
    "         for x in range(len(data))]\n",
    "    ),\n",
    "    inplace=True\n",
    ")"
   ]
  },
  {
   "cell_type": "code",
   "execution_count": 136,
   "metadata": {},
   "outputs": [
    {
     "data": {
      "text/plain": [
       "<matplotlib.axes._subplots.AxesSubplot at 0x280168d9e08>"
      ]
     },
     "execution_count": 136,
     "metadata": {},
     "output_type": "execute_result"
    },
    {
     "data": {
      "image/png": "[encoded data removed]",
      "text/plain": [
       "<Figure size 432x288 with 1 Axes>"
      ]
     },
     "metadata": {
      "needs_background": "light"
     },
     "output_type": "display_data"
    }
   ],
   "source": [
    "data['Processing_Fee'].plot.hist(bins=50)"
   ]
  },
  {
   "cell_type": "markdown",
   "metadata": {},
   "source": [
    "Variable: **EMI_Loan_Submitted**"
   ]
  },
  {
   "cell_type": "code",
   "execution_count": 137,
   "metadata": {},
   "outputs": [
    {
     "data": {
      "text/plain": [
       "84901"
      ]
     },
     "execution_count": 137,
     "metadata": {},
     "output_type": "execute_result"
    }
   ],
   "source": [
    "data['EMI_Loan_Submitted'].isna().sum()"
   ]
  },
  {
   "cell_type": "code",
   "execution_count": 138,
   "metadata": {},
   "outputs": [],
   "source": [
    "data['Missing_EMI_Loan_Submitted'] = data.EMI_Loan_Submitted.isna()"
   ]
  },
  {
   "cell_type": "code",
   "execution_count": 139,
   "metadata": {},
   "outputs": [],
   "source": [
    "CATEGORICAL_FEATURES.append('Missing_EMI_Loan_Submitted')"
   ]
  },
  {
   "cell_type": "code",
   "execution_count": 140,
   "metadata": {},
   "outputs": [
    {
     "data": {
      "text/plain": [
       "<matplotlib.axes._subplots.AxesSubplot at 0x2801695e948>"
      ]
     },
     "execution_count": 140,
     "metadata": {},
     "output_type": "execute_result"
    },
    {
     "data": {
      "image/png": "[encoded data removed]",
      "text/plain": [
       "<Figure size 432x288 with 1 Axes>"
      ]
     },
     "metadata": {
      "needs_background": "light"
     },
     "output_type": "display_data"
    }
   ],
   "source": [
    "data['EMI_Loan_Submitted'].plot.hist(bins=50)"
   ]
  },
  {
   "cell_type": "code",
   "execution_count": 141,
   "metadata": {},
   "outputs": [],
   "source": [
    "data['EMI_Loan_Submitted'] = np.log10(data['EMI_Loan_Submitted'] + 1)"
   ]
  },
  {
   "cell_type": "code",
   "execution_count": 142,
   "metadata": {},
   "outputs": [
    {
     "data": {
      "text/plain": [
       "<matplotlib.axes._subplots.AxesSubplot at 0x28016a3ffc8>"
      ]
     },
     "execution_count": 142,
     "metadata": {},
     "output_type": "execute_result"
    },
    {
     "data": {
      "image/png": "[encoded data removed]",
      "text/plain": [
       "<Figure size 432x288 with 1 Axes>"
      ]
     },
     "metadata": {
      "needs_background": "light"
     },
     "output_type": "display_data"
    }
   ],
   "source": [
    "data['EMI_Loan_Submitted'].plot.hist(bins=50)"
   ]
  },
  {
   "cell_type": "code",
   "execution_count": 143,
   "metadata": {},
   "outputs": [],
   "source": [
    "data['EMI_Loan_Submitted'].fillna(\n",
    "    pd.Series(\n",
    "        [np.random.normal(loc=data.EMI_Loan_Submitted.mean(), \n",
    "                          scale=data.EMI_Loan_Submitted.std()) \n",
    "         for x in range(len(data))]\n",
    "    ),\n",
    "    inplace=True\n",
    ")"
   ]
  },
  {
   "cell_type": "code",
   "execution_count": 144,
   "metadata": {},
   "outputs": [
    {
     "data": {
      "text/plain": [
       "<matplotlib.axes._subplots.AxesSubplot at 0x28016b71d48>"
      ]
     },
     "execution_count": 144,
     "metadata": {},
     "output_type": "execute_result"
    },
    {
     "data": {
      "image/png": "[encoded data removed]",
      "text/plain": [
       "<Figure size 432x288 with 1 Axes>"
      ]
     },
     "metadata": {
      "needs_background": "light"
     },
     "output_type": "display_data"
    }
   ],
   "source": [
    "data['EMI_Loan_Submitted'].plot.hist(bins=50)"
   ]
  },
  {
   "cell_type": "markdown",
   "metadata": {},
   "source": [
    "Variable: **Filled_Form**"
   ]
  },
  {
   "cell_type": "code",
   "execution_count": 145,
   "metadata": {},
   "outputs": [
    {
     "data": {
      "text/plain": [
       "0"
      ]
     },
     "execution_count": 145,
     "metadata": {},
     "output_type": "execute_result"
    }
   ],
   "source": [
    "data['Filled_Form'].isna().sum()"
   ]
  },
  {
   "cell_type": "code",
   "execution_count": 146,
   "metadata": {},
   "outputs": [
    {
     "data": {
      "text/plain": [
       "N    96740\n",
       "Y    27997\n",
       "Name: Filled_Form, dtype: int64"
      ]
     },
     "execution_count": 146,
     "metadata": {},
     "output_type": "execute_result"
    }
   ],
   "source": [
    "data['Filled_Form'].value_counts()"
   ]
  },
  {
   "cell_type": "code",
   "execution_count": 147,
   "metadata": {},
   "outputs": [
    {
     "data": {
      "text/plain": [
       "<matplotlib.legend.Legend at 0x28016c187c8>"
      ]
     },
     "execution_count": 147,
     "metadata": {},
     "output_type": "execute_result"
    },
    {
     "data": {
      "image/png": "[encoded data removed]",
      "text/plain": [
       "<Figure size 720x432 with 1 Axes>"
      ]
     },
     "metadata": {
      "needs_background": "light"
     },
     "output_type": "display_data"
    }
   ],
   "source": [
    "plt.figure(figsize=(10, 6))\n",
    "sns.countplot(x=\"Filled_Form\", hue=\"Disbursed\", data=data, palette='coolwarm')\n",
    "plt.yscale('log')\n",
    "plt.legend(loc='upper right')"
   ]
  },
  {
   "cell_type": "code",
   "execution_count": 148,
   "metadata": {},
   "outputs": [],
   "source": [
    "CATEGORICAL_FEATURES.append('Filled_Form')"
   ]
  },
  {
   "cell_type": "markdown",
   "metadata": {},
   "source": [
    "Variable: **Device_Type**"
   ]
  },
  {
   "cell_type": "code",
   "execution_count": 149,
   "metadata": {},
   "outputs": [
    {
     "data": {
      "text/plain": [
       "0"
      ]
     },
     "execution_count": 149,
     "metadata": {},
     "output_type": "execute_result"
    }
   ],
   "source": [
    "data['Device_Type'].isna().sum()"
   ]
  },
  {
   "cell_type": "code",
   "execution_count": 150,
   "metadata": {},
   "outputs": [
    {
     "data": {
      "text/plain": [
       "Web-browser    92105\n",
       "Mobile         32632\n",
       "Name: Device_Type, dtype: int64"
      ]
     },
     "execution_count": 150,
     "metadata": {},
     "output_type": "execute_result"
    }
   ],
   "source": [
    "data['Device_Type'].value_counts()"
   ]
  },
  {
   "cell_type": "code",
   "execution_count": 151,
   "metadata": {},
   "outputs": [
    {
     "data": {
      "text/plain": [
       "<matplotlib.legend.Legend at 0x28016ea8ec8>"
      ]
     },
     "execution_count": 151,
     "metadata": {},
     "output_type": "execute_result"
    },
    {
     "data": {
      "image/png": "[encoded data removed]",
      "text/plain": [
       "<Figure size 720x432 with 1 Axes>"
      ]
     },
     "metadata": {
      "needs_background": "light"
     },
     "output_type": "display_data"
    }
   ],
   "source": [
    "plt.figure(figsize=(10, 6))\n",
    "sns.countplot(x=\"Device_Type\", hue=\"Disbursed\", data=data, palette='coolwarm')\n",
    "plt.yscale('log')\n",
    "plt.legend(loc='upper right')"
   ]
  },
  {
   "cell_type": "code",
   "execution_count": 152,
   "metadata": {},
   "outputs": [],
   "source": [
    "CATEGORICAL_FEATURES.append('Device_Type')"
   ]
  },
  {
   "cell_type": "markdown",
   "metadata": {},
   "source": [
    "Variable: **Source**"
   ]
  },
  {
   "cell_type": "code",
   "execution_count": 153,
   "metadata": {},
   "outputs": [
    {
     "data": {
      "text/plain": [
       "0"
      ]
     },
     "execution_count": 153,
     "metadata": {},
     "output_type": "execute_result"
    }
   ],
   "source": [
    "data['Source'].isna().sum()"
   ]
  },
  {
   "cell_type": "code",
   "execution_count": 154,
   "metadata": {
    "scrolled": true
   },
   "outputs": [
    {
     "data": {
      "text/plain": [
       "S122    55249\n",
       "S133    42900\n",
       "S159     7999\n",
       "S143     6140\n",
       "S127     2804\n",
       "S137     2450\n",
       "S134     1900\n",
       "S161     1109\n",
       "S151     1018\n",
       "S157      929\n",
       "S153      705\n",
       "S144      447\n",
       "S156      432\n",
       "S158      294\n",
       "S123      112\n",
       "S141       83\n",
       "S162       60\n",
       "S124       43\n",
       "S150       19\n",
       "S160       11\n",
       "S155        5\n",
       "S136        5\n",
       "S138        5\n",
       "S139        4\n",
       "S129        4\n",
       "S135        2\n",
       "S126        1\n",
       "S131        1\n",
       "S140        1\n",
       "S132        1\n",
       "S125        1\n",
       "S142        1\n",
       "S154        1\n",
       "S130        1\n",
       "Name: Source, dtype: int64"
      ]
     },
     "execution_count": 154,
     "metadata": {},
     "output_type": "execute_result"
    }
   ],
   "source": [
    "data['Source'].value_counts()"
   ]
  },
  {
   "cell_type": "code",
   "execution_count": 155,
   "metadata": {},
   "outputs": [],
   "source": [
    "source_means = data_train.groupby('Source')['Disbursed'].mean()"
   ]
  },
  {
   "cell_type": "code",
   "execution_count": 156,
   "metadata": {},
   "outputs": [
    {
     "data": {
      "text/plain": [
       "<matplotlib.axes._subplots.AxesSubplot at 0x2800f1ee448>"
      ]
     },
     "execution_count": 156,
     "metadata": {},
     "output_type": "execute_result"
    },
    {
     "data": {
      "image/png": "[encoded data removed]",
      "text/plain": [
       "<Figure size 1152x432 with 1 Axes>"
      ]
     },
     "metadata": {
      "needs_background": "light"
     },
     "output_type": "display_data"
    }
   ],
   "source": [
    "source_means.plot.bar(figsize=(16, 6))"
   ]
  },
  {
   "cell_type": "code",
   "execution_count": 157,
   "metadata": {},
   "outputs": [],
   "source": [
    "mapping_dict = dict(pd.cut(source_means[(source_means.index != 'S122') & \n",
    "                                        (source_means.index != 'S123')], 5, labels=range(5)))"
   ]
  },
  {
   "cell_type": "code",
   "execution_count": 158,
   "metadata": {},
   "outputs": [],
   "source": [
    "def convert_source(source):\n",
    "    if source in mapping_dict.keys():\n",
    "        return mapping_dict[source]\n",
    "    elif source in ['S122', 'S123']:\n",
    "        return source\n",
    "    else:\n",
    "        return \"Other\"\n",
    "    \n",
    "data[\"Source\"] = data.Source.apply(convert_account)"
   ]
  },
  {
   "cell_type": "code",
   "execution_count": 159,
   "metadata": {},
   "outputs": [],
   "source": [
    "CATEGORICAL_FEATURES.append('Source')"
   ]
  },
  {
   "cell_type": "code",
   "execution_count": 160,
   "metadata": {},
   "outputs": [
    {
     "data": {
      "text/plain": [
       "Gender                               0\n",
       "City                                 0\n",
       "Monthly_Income                       0\n",
       "Loan_Amount_Applied                  0\n",
       "Loan_Tenure_Applied                  0\n",
       "Existing_EMI                         0\n",
       "Employer_Name                        0\n",
       "Salary_Account                       0\n",
       "Mobile_Verified                      0\n",
       "Var5                                 0\n",
       "Var1                                 0\n",
       "Loan_Amount_Submitted                0\n",
       "Loan_Tenure_Submitted                0\n",
       "Interest_Rate                        0\n",
       "Processing_Fee                       0\n",
       "EMI_Loan_Submitted                   0\n",
       "Filled_Form                          0\n",
       "Device_Type                          0\n",
       "Var2                                 0\n",
       "Source                               0\n",
       "Var4                                 0\n",
       "Disbursed                        37717\n",
       "Monthly_Income_Log                   0\n",
       "Age                                  0\n",
       "Lead_Creation_Month                  0\n",
       "Missing_Loan_Amount_Applied          0\n",
       "Missing_Loan_Tenure_Applied          0\n",
       "Missing_Existing_EMI                 0\n",
       "Missing_Loan_Amount_Submitted        0\n",
       "Missing_Loan_Tenure_Submitted        0\n",
       "Missing_Interest_Rate                0\n",
       "Missing_Processing_Fee               0\n",
       "Missing_EMI_Loan_Submitted           0\n",
       "dtype: int64"
      ]
     },
     "execution_count": 160,
     "metadata": {},
     "output_type": "execute_result"
    }
   ],
   "source": [
    "data.isna().sum()"
   ]
  },
  {
   "cell_type": "markdown",
   "metadata": {},
   "source": [
    "## 3. Dataset preparation and train-test split"
   ]
  },
  {
   "cell_type": "markdown",
   "metadata": {},
   "source": [
    "Finally, we need to convert all categorical features into dummy variables, scale continous variables and split dataset (with stratified fashion) into train and test subsets. "
   ]
  },
  {
   "cell_type": "code",
   "execution_count": 161,
   "metadata": {},
   "outputs": [],
   "source": [
    "from sklearn.compose import ColumnTransformer\n",
    "from sklearn.preprocessing import StandardScaler\n",
    "\n",
    "continous_features = data.drop(CATEGORICAL_FEATURES, axis=1).columns.tolist()\n",
    "\n",
    "col_transformer = ColumnTransformer([\n",
    "        ('scaler', StandardScaler(), continous_features)\n",
    "    ], remainder='passthrough')"
   ]
  },
  {
   "cell_type": "code",
   "execution_count": 162,
   "metadata": {},
   "outputs": [
    {
     "data": {
      "text/plain": [
       "['Monthly_Income',\n",
       " 'Loan_Amount_Applied',\n",
       " 'Loan_Tenure_Applied',\n",
       " 'Existing_EMI',\n",
       " 'Loan_Amount_Submitted',\n",
       " 'Interest_Rate',\n",
       " 'Processing_Fee',\n",
       " 'EMI_Loan_Submitted',\n",
       " 'Disbursed',\n",
       " 'Monthly_Income_Log',\n",
       " 'Age']"
      ]
     },
     "execution_count": 162,
     "metadata": {},
     "output_type": "execute_result"
    }
   ],
   "source": [
    "continous_features"
   ]
  },
  {
   "cell_type": "code",
   "execution_count": 163,
   "metadata": {},
   "outputs": [],
   "source": [
    "continous_features.remove('Disbursed')"
   ]
  },
  {
   "cell_type": "code",
   "execution_count": 164,
   "metadata": {},
   "outputs": [
    {
     "data": {
      "text/plain": [
       "['Monthly_Income',\n",
       " 'Loan_Amount_Applied',\n",
       " 'Loan_Tenure_Applied',\n",
       " 'Existing_EMI',\n",
       " 'Loan_Amount_Submitted',\n",
       " 'Interest_Rate',\n",
       " 'Processing_Fee',\n",
       " 'EMI_Loan_Submitted',\n",
       " 'Monthly_Income_Log',\n",
       " 'Age']"
      ]
     },
     "execution_count": 164,
     "metadata": {},
     "output_type": "execute_result"
    }
   ],
   "source": [
    "continous_features"
   ]
  },
  {
   "cell_type": "code",
   "execution_count": 165,
   "metadata": {
    "scrolled": true
   },
   "outputs": [],
   "source": [
    "data = pd.get_dummies(data=data, columns=CATEGORICAL_FEATURES, drop_first=True)"
   ]
  },
  {
   "cell_type": "code",
   "execution_count": 166,
   "metadata": {
    "scrolled": true
   },
   "outputs": [
    {
     "name": "stdout",
     "output_type": "stream",
     "text": [
      "<class 'pandas.core.frame.DataFrame'>\n",
      "Int64Index: 124737 entries, 0 to 37716\n",
      "Data columns (total 97 columns):\n",
      "Monthly_Income                        124737 non-null int64\n",
      "Loan_Amount_Applied                   124737 non-null float64\n",
      "Loan_Tenure_Applied                   124737 non-null float64\n",
      "Existing_EMI                          124737 non-null float64\n",
      "Loan_Amount_Submitted                 124737 non-null float64\n",
      "Interest_Rate                         124737 non-null float64\n",
      "Processing_Fee                        124737 non-null float64\n",
      "EMI_Loan_Submitted                    124737 non-null float64\n",
      "Disbursed                             87020 non-null float64\n",
      "Monthly_Income_Log                    124737 non-null float64\n",
      "Age                                   124737 non-null int64\n",
      "Gender_Male                           124737 non-null uint8\n",
      "City_Bengaluru                        124737 non-null uint8\n",
      "City_Chandigarh                       124737 non-null uint8\n",
      "City_Chennai                          124737 non-null uint8\n",
      "City_Coimbatore                       124737 non-null uint8\n",
      "City_Delhi                            124737 non-null uint8\n",
      "City_Gurgaon                          124737 non-null uint8\n",
      "City_Hyderabad                        124737 non-null uint8\n",
      "City_Jaipur                           124737 non-null uint8\n",
      "City_Kolkata                          124737 non-null uint8\n",
      "City_Mumbai                           124737 non-null uint8\n",
      "City_NotGiven                         124737 non-null uint8\n",
      "City_Other                            124737 non-null uint8\n",
      "City_Pune                             124737 non-null uint8\n",
      "City_Surat                            124737 non-null uint8\n",
      "City_Thane                            124737 non-null uint8\n",
      "Lead_Creation_Month_Jun               124737 non-null uint8\n",
      "Lead_Creation_Month_May               124737 non-null uint8\n",
      "Missing_Loan_Amount_Applied_True      124737 non-null uint8\n",
      "Missing_Loan_Tenure_Applied_True      124737 non-null uint8\n",
      "Missing_Existing_EMI_True             124737 non-null uint8\n",
      "Employer_Name_1                       124737 non-null uint8\n",
      "Employer_Name_2                       124737 non-null uint8\n",
      "Employer_Name_3                       124737 non-null uint8\n",
      "Employer_Name_4                       124737 non-null uint8\n",
      "Employer_Name_NotGiven                124737 non-null uint8\n",
      "Employer_Name_Other                   124737 non-null uint8\n",
      "Salary_Account_1                      124737 non-null uint8\n",
      "Salary_Account_2                      124737 non-null uint8\n",
      "Salary_Account_4                      124737 non-null uint8\n",
      "Salary_Account_Axis Bank              124737 non-null uint8\n",
      "Salary_Account_HDFC Bank              124737 non-null uint8\n",
      "Salary_Account_ICICI Bank             124737 non-null uint8\n",
      "Salary_Account_Other                  124737 non-null uint8\n",
      "Salary_Account_State Bank of India    124737 non-null uint8\n",
      "Mobile_Verified_Y                     124737 non-null uint8\n",
      "Var1_1                                124737 non-null uint8\n",
      "Var1_2                                124737 non-null uint8\n",
      "Var1_3                                124737 non-null uint8\n",
      "Var1_4                                124737 non-null uint8\n",
      "Var1_Other                            124737 non-null uint8\n",
      "Var2_B                                124737 non-null uint8\n",
      "Var2_C                                124737 non-null uint8\n",
      "Var2_D                                124737 non-null uint8\n",
      "Var2_E                                124737 non-null uint8\n",
      "Var2_F                                124737 non-null uint8\n",
      "Var2_G                                124737 non-null uint8\n",
      "Var4_1                                124737 non-null uint8\n",
      "Var4_2                                124737 non-null uint8\n",
      "Var4_3                                124737 non-null uint8\n",
      "Var4_4                                124737 non-null uint8\n",
      "Var4_5                                124737 non-null uint8\n",
      "Var4_6                                124737 non-null uint8\n",
      "Var4_7                                124737 non-null uint8\n",
      "Var5_1                                124737 non-null uint8\n",
      "Var5_2                                124737 non-null uint8\n",
      "Var5_3                                124737 non-null uint8\n",
      "Var5_4                                124737 non-null uint8\n",
      "Var5_5                                124737 non-null uint8\n",
      "Var5_6                                124737 non-null uint8\n",
      "Var5_7                                124737 non-null uint8\n",
      "Var5_8                                124737 non-null uint8\n",
      "Var5_9                                124737 non-null uint8\n",
      "Var5_10                               124737 non-null uint8\n",
      "Var5_11                               124737 non-null uint8\n",
      "Var5_12                               124737 non-null uint8\n",
      "Var5_13                               124737 non-null uint8\n",
      "Var5_14                               124737 non-null uint8\n",
      "Var5_15                               124737 non-null uint8\n",
      "Var5_16                               124737 non-null uint8\n",
      "Var5_17                               124737 non-null uint8\n",
      "Var5_18                               124737 non-null uint8\n",
      "Missing_Loan_Amount_Submitted_True    124737 non-null uint8\n",
      "Missing_Loan_Tenure_Submitted_True    124737 non-null uint8\n",
      "Loan_Tenure_Submitted_2.0             124737 non-null uint8\n",
      "Loan_Tenure_Submitted_3.0             124737 non-null uint8\n",
      "Loan_Tenure_Submitted_4.0             124737 non-null uint8\n",
      "Loan_Tenure_Submitted_5.0             124737 non-null uint8\n",
      "Loan_Tenure_Submitted_6.0             124737 non-null uint8\n",
      "Missing_Processing_Fee_True           124737 non-null uint8\n",
      "Missing_EMI_Loan_Submitted_True       124737 non-null uint8\n",
      "Filled_Form_Y                         124737 non-null uint8\n",
      "Device_Type_Web-browser               124737 non-null uint8\n",
      "Source_1                              124737 non-null uint8\n",
      "Source_4                              124737 non-null uint8\n",
      "Source_Other                          124737 non-null uint8\n",
      "dtypes: float64(9), int64(2), uint8(86)\n",
      "memory usage: 24.2 MB\n"
     ]
    }
   ],
   "source": [
    "data.info()"
   ]
  },
  {
   "cell_type": "code",
   "execution_count": 167,
   "metadata": {},
   "outputs": [],
   "source": [
    "X_all = col_transformer.fit_transform(data.drop('Disbursed', inplace=False, axis=1))\n",
    "y_all = data['Disbursed'].values"
   ]
  },
  {
   "cell_type": "code",
   "execution_count": 168,
   "metadata": {},
   "outputs": [],
   "source": [
    "X = X_all[:data_train.shape[0], :]\n",
    "y = y_all[:data_train.shape[0]]\n",
    "\n",
    "X_off = X_all[data_train.shape[0]:, :]"
   ]
  },
  {
   "cell_type": "code",
   "execution_count": 251,
   "metadata": {},
   "outputs": [
    {
     "data": {
      "text/plain": [
       "(87020, 96)"
      ]
     },
     "execution_count": 251,
     "metadata": {},
     "output_type": "execute_result"
    }
   ],
   "source": [
    "X.shape"
   ]
  },
  {
   "cell_type": "code",
   "execution_count": 252,
   "metadata": {},
   "outputs": [
    {
     "data": {
      "text/plain": [
       "(87020,)"
      ]
     },
     "execution_count": 252,
     "metadata": {},
     "output_type": "execute_result"
    }
   ],
   "source": [
    "y.shape"
   ]
  },
  {
   "cell_type": "code",
   "execution_count": 253,
   "metadata": {},
   "outputs": [],
   "source": [
    "np.save('X_hcb.npy', X)"
   ]
  },
  {
   "cell_type": "code",
   "execution_count": 254,
   "metadata": {},
   "outputs": [],
   "source": [
    "np.save('y_hcb.npy', y)"
   ]
  }
 ],
 "metadata": {
  "kernelspec": {
   "display_name": "Python 3",
   "language": "python",
   "name": "python3"
  },
  "language_info": {
   "codemirror_mode": {
    "name": "ipython",
    "version": 3
   },
   "file_extension": ".py",
   "mimetype": "text/x-python",
   "name": "python",
   "nbconvert_exporter": "python",
   "pygments_lexer": "ipython3",
   "version": "3.7.4"
  }
 },
 "nbformat": 4,
 "nbformat_minor": 2
}
