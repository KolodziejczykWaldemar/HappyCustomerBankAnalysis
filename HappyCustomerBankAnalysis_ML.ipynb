{
 "cells": [
  {
   "cell_type": "code",
   "execution_count": 1,
   "metadata": {},
   "outputs": [],
   "source": [
    "import numpy as np\n",
    "import pandas as pd\n",
    "import matplotlib.pyplot as plt\n",
    "%matplotlib inline\n",
    "import seaborn as sns\n",
    "\n",
    "import warnings\n",
    "from sklearn.exceptions import UndefinedMetricWarning, ConvergenceWarning\n",
    "warnings.filterwarnings(action='ignore', category=UndefinedMetricWarning)\n",
    "warnings.filterwarnings(action='ignore', category=ConvergenceWarning)\n",
    "warnings.simplefilter('ignore', FutureWarning)"
   ]
  },
  {
   "cell_type": "code",
   "execution_count": 2,
   "metadata": {},
   "outputs": [],
   "source": [
    "X = np.load('X_hcb.npy')\n",
    "y = np.load('y_hcb.npy')"
   ]
  },
  {
   "cell_type": "code",
   "execution_count": 3,
   "metadata": {},
   "outputs": [],
   "source": [
    "from sklearn.model_selection import train_test_split\n",
    "\n",
    "X_train, X_test, y_train, y_test = train_test_split(X, y, test_size=0.1, random_state=42, stratify=y)"
   ]
  },
  {
   "cell_type": "code",
   "execution_count": 4,
   "metadata": {},
   "outputs": [
    {
     "data": {
      "text/plain": [
       "(8702,)"
      ]
     },
     "execution_count": 4,
     "metadata": {},
     "output_type": "execute_result"
    }
   ],
   "source": [
    "y_test.shape"
   ]
  },
  {
   "cell_type": "markdown",
   "metadata": {},
   "source": [
    "## 4. Cost function"
   ]
  },
  {
   "cell_type": "markdown",
   "metadata": {},
   "source": [
    "Since we have data preprocessed, we need to define financial score, describing profitability of our model."
   ]
  },
  {
   "cell_type": "code",
   "execution_count": 5,
   "metadata": {},
   "outputs": [],
   "source": [
    "def financial_score(y_true, y_pred):\n",
    "    y_true = y_true.ravel().astype(int)\n",
    "    y_pred = y_pred.ravel().astype(int)\n",
    "    prediction_cost = y_pred.sum() * 100\n",
    "    good_prediction_gain = (y_pred & y_true).sum() * 1000    \n",
    "    return good_prediction_gain - prediction_cost"
   ]
  },
  {
   "cell_type": "markdown",
   "metadata": {},
   "source": [
    "## 5. Examinig  baseline models\n",
    "* Logistic Regression with default settings\n",
    "* Logistic Regression with class weights"
   ]
  },
  {
   "cell_type": "code",
   "execution_count": 6,
   "metadata": {},
   "outputs": [],
   "source": [
    "from sklearn.linear_model import LogisticRegression\n",
    "from sklearn.metrics import roc_curve, roc_auc_score, f1_score, accuracy_score, classification_report"
   ]
  },
  {
   "cell_type": "code",
   "execution_count": 7,
   "metadata": {},
   "outputs": [],
   "source": [
    "def plot_roc_curve(y_true, y_pred_proba):\n",
    "    fpr, tpr, thresholds = roc_curve(y_true=y_true,\n",
    "                                     y_score=y_pred_proba)\n",
    "\n",
    "    plt.figure(figsize=(6, 6))\n",
    "    plt.plot(fpr, tpr)\n",
    "    plt.scatter(fpr, tpr)\n",
    "    plt.xlabel('False Positive Rate')\n",
    "    plt.ylabel('True Positive Rate')\n",
    "    plt.plot([0, 1], [0, 1], linestyle='--')\n",
    "    auc = roc_auc_score(y_true=y_true,\n",
    "                        y_score=y_pred_proba)\n",
    "    plt.title('AUC: {:.5f}'.format(auc))\n",
    "    plt.show()"
   ]
  },
  {
   "cell_type": "code",
   "execution_count": 8,
   "metadata": {},
   "outputs": [],
   "source": [
    "def get_best_threshold_for_F1(y_true, y_pred_prob, thresholds_number = 500):\n",
    "    thresholds = np.linspace(start=0, stop=1, num=thresholds_number).tolist()\n",
    "    f1_scores = []\n",
    "\n",
    "    for t in thresholds:\n",
    "        f1_scores.append(f1_score(y_true, (y_pred_prob>t)))\n",
    "\n",
    "    scores_df = pd.DataFrame({'threshold': thresholds, 'F1': f1_scores})\n",
    "    return scores_df[scores_df.F1 == scores_df.F1.max()]['threshold'].iloc[0]"
   ]
  },
  {
   "cell_type": "code",
   "execution_count": 9,
   "metadata": {},
   "outputs": [],
   "source": [
    "def get_best_threshold_for_profit(y_true, y_pred_prob, thresholds_number = 500):\n",
    "    thresholds = np.linspace(start=0, stop=1, num=thresholds_number).tolist()\n",
    "    profit_scores = []\n",
    "\n",
    "    for t in thresholds:\n",
    "        profit_scores.append(financial_score(y_true, (y_pred_prob>t)))\n",
    "\n",
    "    scores_df = pd.DataFrame({'threshold': thresholds, 'profit': profit_scores})\n",
    "    return scores_df[scores_df.profit == scores_df.profit.max()]['threshold'].iloc[0]"
   ]
  },
  {
   "cell_type": "markdown",
   "metadata": {},
   "source": [
    "#### Logistic Regression with default settings"
   ]
  },
  {
   "cell_type": "code",
   "execution_count": 10,
   "metadata": {},
   "outputs": [
    {
     "data": {
      "text/plain": [
       "LogisticRegression(C=1.0, class_weight=None, dual=False, fit_intercept=True,\n",
       "                   intercept_scaling=1, l1_ratio=None, max_iter=100,\n",
       "                   multi_class='warn', n_jobs=None, penalty='l2',\n",
       "                   random_state=None, solver='warn', tol=0.0001, verbose=0,\n",
       "                   warm_start=False)"
      ]
     },
     "execution_count": 10,
     "metadata": {},
     "output_type": "execute_result"
    }
   ],
   "source": [
    "model_bs = LogisticRegression()\n",
    "model_bs.fit(X_train, y_train)"
   ]
  },
  {
   "cell_type": "markdown",
   "metadata": {},
   "source": [
    "Train set results:"
   ]
  },
  {
   "cell_type": "code",
   "execution_count": 11,
   "metadata": {},
   "outputs": [],
   "source": [
    "y_pred_proba_train_bs = model_bs.predict_proba(X_train)[:, 1]"
   ]
  },
  {
   "cell_type": "code",
   "execution_count": 12,
   "metadata": {},
   "outputs": [
    {
     "name": "stdout",
     "output_type": "stream",
     "text": [
      "              precision    recall  f1-score   support\n",
      "\n",
      "         0.0       0.99      1.00      1.00     77172\n",
      "         1.0       0.87      0.41      0.56      1146\n",
      "\n",
      "    accuracy                           0.99     78318\n",
      "   macro avg       0.93      0.71      0.78     78318\n",
      "weighted avg       0.99      0.99      0.99     78318\n",
      "\n"
     ]
    }
   ],
   "source": [
    "print(classification_report(y_train, (y_pred_proba_train_bs > 0.5)))"
   ]
  },
  {
   "cell_type": "markdown",
   "metadata": {},
   "source": [
    "Next, we can find optimal thresholds values from two perspectives - maximizing F1 score and maximizing profit."
   ]
  },
  {
   "cell_type": "code",
   "execution_count": 13,
   "metadata": {},
   "outputs": [
    {
     "name": "stdout",
     "output_type": "stream",
     "text": [
      "Max F1 score: 0.5868 for threshold: 0.2104\n"
     ]
    }
   ],
   "source": [
    "threshold_f1 = get_best_threshold_for_F1(y_train, y_pred_proba_train_bs)\n",
    "f1 = f1_score(y_train, (y_pred_proba_train_bs > threshold_f1))\n",
    "print('Max F1 score: {:.4f} for threshold: {:.4f}'.format(f1, threshold_f1))"
   ]
  },
  {
   "cell_type": "code",
   "execution_count": 14,
   "metadata": {},
   "outputs": [
    {
     "name": "stdout",
     "output_type": "stream",
     "text": [
      "Max profit: 514300 PLN for threshold: 0.0862\n"
     ]
    }
   ],
   "source": [
    "threshold_profit = get_best_threshold_for_profit(y_train, y_pred_proba_train_bs)\n",
    "profit = financial_score(y_train, (y_pred_proba_train_bs > threshold_profit))\n",
    "print('Max profit: {} PLN for threshold: {:.4f}'.format(profit, threshold_profit))"
   ]
  },
  {
   "cell_type": "code",
   "execution_count": 16,
   "metadata": {},
   "outputs": [],
   "source": [
    "def plot_distributions_and_thresholds(y_pred_proba, \n",
    "                                      y_true, \n",
    "                                      threshold_profit, \n",
    "                                      threshold_f1, \n",
    "                                      title):\n",
    "    plt.hist(y_pred_proba[y_true==0], label='0', bins=50, alpha=0.5)\n",
    "    plt.hist(y_pred_proba[y_true==1], label='1', bins=50, alpha=0.5)\n",
    "    plt.vlines(threshold_profit, 0, 100, color='green', linestyle='--',  label='max profit threshold')\n",
    "    plt.vlines(threshold_f1, 0, 100, color='red', linestyle='--', label='max F1 threshold')\n",
    "    plt.yscale('log')\n",
    "    plt.legend()\n",
    "    plt.title(title)"
   ]
  },
  {
   "cell_type": "code",
   "execution_count": 17,
   "metadata": {},
   "outputs": [
    {
     "data": {
      "image/png": "[encoded data removed]",
      "text/plain": [
       "<Figure size 432x288 with 1 Axes>"
      ]
     },
     "metadata": {
      "needs_background": "light"
     },
     "output_type": "display_data"
    }
   ],
   "source": [
    "plot_distributions_and_thresholds(y_pred_proba_train_bs, \n",
    "                                  y_train, \n",
    "                                  threshold_profit, \n",
    "                                  threshold_f1,\n",
    "                                  'Chosen thresholds for train set')"
   ]
  },
  {
   "cell_type": "code",
   "execution_count": null,
   "metadata": {},
   "outputs": [],
   "source": []
  },
  {
   "cell_type": "markdown",
   "metadata": {},
   "source": [
    "Test set results:"
   ]
  },
  {
   "cell_type": "code",
   "execution_count": 18,
   "metadata": {},
   "outputs": [],
   "source": [
    "y_pred_proba_test_bs = model_bs.predict_proba(X_test)[:, 1]"
   ]
  },
  {
   "cell_type": "code",
   "execution_count": 19,
   "metadata": {},
   "outputs": [
    {
     "name": "stdout",
     "output_type": "stream",
     "text": [
      "              precision    recall  f1-score   support\n",
      "\n",
      "         0.0       0.99      1.00      1.00      8575\n",
      "         1.0       0.85      0.44      0.58       127\n",
      "\n",
      "    accuracy                           0.99      8702\n",
      "   macro avg       0.92      0.72      0.79      8702\n",
      "weighted avg       0.99      0.99      0.99      8702\n",
      "\n"
     ]
    }
   ],
   "source": [
    "print(classification_report(y_test, (y_pred_proba_test_bs > 0.5)))"
   ]
  },
  {
   "cell_type": "code",
   "execution_count": 20,
   "metadata": {},
   "outputs": [
    {
     "data": {
      "image/png": "[encoded data removed]",
      "text/plain": [
       "<Figure size 432x432 with 1 Axes>"
      ]
     },
     "metadata": {
      "needs_background": "light"
     },
     "output_type": "display_data"
    }
   ],
   "source": [
    "plot_roc_curve(y_test, y_pred_proba_test_bs)"
   ]
  },
  {
   "cell_type": "code",
   "execution_count": 21,
   "metadata": {},
   "outputs": [
    {
     "name": "stdout",
     "output_type": "stream",
     "text": [
      "Test set F1 score: 0.6018 for threshold: 0.2104\n"
     ]
    }
   ],
   "source": [
    "f1 = f1_score(y_test, (y_pred_proba_test_bs > threshold_f1))\n",
    "print('Test set F1 score: {:.4f} for threshold: {:.4f}'.format(f1, threshold_f1))"
   ]
  },
  {
   "cell_type": "code",
   "execution_count": 22,
   "metadata": {},
   "outputs": [
    {
     "name": "stdout",
     "output_type": "stream",
     "text": [
      "Test set profit: 58400 PLN for threshold: 0.0862\n"
     ]
    }
   ],
   "source": [
    "profit = financial_score(y_test, (y_pred_proba_test_bs > threshold_profit))\n",
    "print('Test set profit: {} PLN for threshold: {:.4f}'.format(profit, threshold_profit))"
   ]
  },
  {
   "cell_type": "code",
   "execution_count": 24,
   "metadata": {},
   "outputs": [
    {
     "data": {
      "image/png": "[encoded data removed]",
      "text/plain": [
       "<Figure size 432x288 with 1 Axes>"
      ]
     },
     "metadata": {
      "needs_background": "light"
     },
     "output_type": "display_data"
    }
   ],
   "source": [
    "plot_distributions_and_thresholds(y_pred_proba_test_bs, \n",
    "                                  y_test, \n",
    "                                  threshold_profit, \n",
    "                                  threshold_f1,\n",
    "                                  'Chosen thresholds for test set')"
   ]
  },
  {
   "cell_type": "markdown",
   "metadata": {},
   "source": [
    "#### Logistic Regression with class weights"
   ]
  },
  {
   "cell_type": "code",
   "execution_count": 25,
   "metadata": {},
   "outputs": [],
   "source": [
    "imbalance_ratio = len(np.where(y_train == 0)[0]) / len(np.where(y_train == 1)[0])"
   ]
  },
  {
   "cell_type": "code",
   "execution_count": 26,
   "metadata": {},
   "outputs": [
    {
     "data": {
      "text/plain": [
       "LogisticRegression(C=1.0, class_weight={0: 1, 1: 67.34031413612566}, dual=False,\n",
       "                   fit_intercept=True, intercept_scaling=1, l1_ratio=None,\n",
       "                   max_iter=100, multi_class='warn', n_jobs=None, penalty='l2',\n",
       "                   random_state=None, solver='warn', tol=0.0001, verbose=0,\n",
       "                   warm_start=False)"
      ]
     },
     "execution_count": 26,
     "metadata": {},
     "output_type": "execute_result"
    }
   ],
   "source": [
    "model_bs = LogisticRegression(class_weight={0: 1, 1: imbalance_ratio})\n",
    "model_bs.fit(X_train, y_train)"
   ]
  },
  {
   "cell_type": "markdown",
   "metadata": {},
   "source": [
    "Train set results:"
   ]
  },
  {
   "cell_type": "code",
   "execution_count": 27,
   "metadata": {},
   "outputs": [],
   "source": [
    "y_pred_proba_train_bs = model_bs.predict_proba(X_train)[:, 1]"
   ]
  },
  {
   "cell_type": "code",
   "execution_count": 28,
   "metadata": {},
   "outputs": [
    {
     "name": "stdout",
     "output_type": "stream",
     "text": [
      "              precision    recall  f1-score   support\n",
      "\n",
      "         0.0       1.00      0.86      0.93     77172\n",
      "         1.0       0.08      0.81      0.15      1146\n",
      "\n",
      "    accuracy                           0.86     78318\n",
      "   macro avg       0.54      0.84      0.54     78318\n",
      "weighted avg       0.98      0.86      0.91     78318\n",
      "\n"
     ]
    }
   ],
   "source": [
    "print(classification_report(y_train, (y_pred_proba_train_bs > 0.5)))"
   ]
  },
  {
   "cell_type": "code",
   "execution_count": 29,
   "metadata": {},
   "outputs": [
    {
     "name": "stdout",
     "output_type": "stream",
     "text": [
      "Max F1 score: 0.5815 for threshold: 0.9719\n"
     ]
    }
   ],
   "source": [
    "threshold_f1 = get_best_threshold_for_F1(y_train, y_pred_proba_train_bs)\n",
    "f1 = f1_score(y_train, (y_pred_proba_train_bs > threshold_f1))\n",
    "print('Max F1 score: {:.4f} for threshold: {:.4f}'.format(f1, threshold_f1))"
   ]
  },
  {
   "cell_type": "code",
   "execution_count": 30,
   "metadata": {},
   "outputs": [
    {
     "name": "stdout",
     "output_type": "stream",
     "text": [
      "Max profit: 512000 PLN for threshold: 0.9058\n"
     ]
    }
   ],
   "source": [
    "threshold_profit = get_best_threshold_for_profit(y_train, y_pred_proba_train_bs)\n",
    "profit = financial_score(y_train, (y_pred_proba_train_bs > threshold_profit))\n",
    "print('Max profit: {} PLN for threshold: {:.4f}'.format(profit, threshold_profit))"
   ]
  },
  {
   "cell_type": "code",
   "execution_count": 32,
   "metadata": {},
   "outputs": [
    {
     "data": {
      "image/png": "[encoded data removed]",
      "text/plain": [
       "<Figure size 432x288 with 1 Axes>"
      ]
     },
     "metadata": {
      "needs_background": "light"
     },
     "output_type": "display_data"
    }
   ],
   "source": [
    "plot_distributions_and_thresholds(y_pred_proba_train_bs, \n",
    "                                  y_train, \n",
    "                                  threshold_profit, \n",
    "                                  threshold_f1,\n",
    "                                  'Chosen thresholds for train set')"
   ]
  },
  {
   "cell_type": "markdown",
   "metadata": {},
   "source": [
    "Test set results:"
   ]
  },
  {
   "cell_type": "code",
   "execution_count": 33,
   "metadata": {},
   "outputs": [],
   "source": [
    "y_pred_proba_test_bs = model_bs.predict_proba(X_test)[:, 1]"
   ]
  },
  {
   "cell_type": "code",
   "execution_count": 34,
   "metadata": {},
   "outputs": [
    {
     "name": "stdout",
     "output_type": "stream",
     "text": [
      "              precision    recall  f1-score   support\n",
      "\n",
      "         0.0       1.00      0.87      0.93      8575\n",
      "         1.0       0.08      0.79      0.15       127\n",
      "\n",
      "    accuracy                           0.87      8702\n",
      "   macro avg       0.54      0.83      0.54      8702\n",
      "weighted avg       0.98      0.87      0.92      8702\n",
      "\n"
     ]
    }
   ],
   "source": [
    "print(classification_report(y_test, (y_pred_proba_test_bs > 0.5)))"
   ]
  },
  {
   "cell_type": "code",
   "execution_count": 35,
   "metadata": {},
   "outputs": [
    {
     "data": {
      "image/png": "[encoded data removed]",
      "text/plain": [
       "<Figure size 432x432 with 1 Axes>"
      ]
     },
     "metadata": {
      "needs_background": "light"
     },
     "output_type": "display_data"
    }
   ],
   "source": [
    "plot_roc_curve(y_test, y_pred_proba_test_bs)"
   ]
  },
  {
   "cell_type": "code",
   "execution_count": 36,
   "metadata": {},
   "outputs": [
    {
     "name": "stdout",
     "output_type": "stream",
     "text": [
      "Test set F1 score: 0.6147 for threshold: 0.9719\n"
     ]
    }
   ],
   "source": [
    "f1 = f1_score(y_test, (y_pred_proba_test_bs > threshold_f1))\n",
    "print('Test set F1 score: {:.4f} for threshold: {:.4f}'.format(f1, threshold_f1))"
   ]
  },
  {
   "cell_type": "code",
   "execution_count": 37,
   "metadata": {},
   "outputs": [
    {
     "name": "stdout",
     "output_type": "stream",
     "text": [
      "Test set profit: 60000 PLN for threshold: 0.9058\n"
     ]
    }
   ],
   "source": [
    "profit = financial_score(y_test, (y_pred_proba_test_bs > threshold_profit))\n",
    "print('Test set profit: {} PLN for threshold: {:.4f}'.format(profit, threshold_profit))"
   ]
  },
  {
   "cell_type": "code",
   "execution_count": 39,
   "metadata": {},
   "outputs": [
    {
     "data": {
      "image/png": "[encoded data removed]",
      "text/plain": [
       "<Figure size 432x288 with 1 Axes>"
      ]
     },
     "metadata": {
      "needs_background": "light"
     },
     "output_type": "display_data"
    }
   ],
   "source": [
    "plot_distributions_and_thresholds(y_pred_proba_test_bs, \n",
    "                                  y_test, \n",
    "                                  threshold_profit, \n",
    "                                  threshold_f1,\n",
    "                                  'Chosen thresholds for test set')"
   ]
  },
  {
   "cell_type": "markdown",
   "metadata": {},
   "source": [
    "## 6. Exploring models with weighting classes techniques."
   ]
  },
  {
   "cell_type": "code",
   "execution_count": 40,
   "metadata": {},
   "outputs": [],
   "source": [
    "import numpy as np\n",
    "import pandas as pd\n",
    "from scipy import stats\n",
    "\n",
    "from sklearn.feature_selection import RFE\n",
    "from sklearn.linear_model import LogisticRegression\n",
    "from sklearn.tree import DecisionTreeClassifier\n",
    "from sklearn.ensemble import RandomForestClassifier, BaggingClassifier\n",
    "from sklearn.svm import SVC\n",
    "from sklearn.naive_bayes import MultinomialNB\n",
    "\n",
    "from sklearn.pipeline import Pipeline\n",
    "from sklearn.model_selection import GridSearchCV, RandomizedSearchCV, train_test_split, StratifiedKFold"
   ]
  },
  {
   "cell_type": "code",
   "execution_count": 41,
   "metadata": {},
   "outputs": [],
   "source": [
    "models = [\n",
    "    [('LogReg', LogisticRegression())],\n",
    "    [('Bagging', BaggingClassifier(DecisionTreeClassifier(),\n",
    "                                   max_samples=0.7,\n",
    "                                   bootstrap=True))]\n",
    "]\n",
    "\n",
    "params_grid = [\n",
    "     {'LogReg__C': [0.001, 0.01, 0.1, 1, 10, 100], \n",
    "     'LogReg__penalty': ['l1', 'l2'],\n",
    "     'LogReg__class_weight': [{0: 1, 1: 1}, {0: 1, 1: 40}, {0: 1, 1: 60}, {0: 1, 1: 80}]\n",
    "    },\n",
    "     {'Bagging__n_estimators': [200], \n",
    "      'Bagging__max_features': [10, 20],\n",
    "      'Bagging__base_estimator__max_depth': [5, 10, 20, 40],\n",
    "      'Bagging__base_estimator__min_samples_leaf': [5, 15, 20, 40],\n",
    "      'Bagging__base_estimator__min_samples_split': [5, 15, 20, 40],\n",
    "      'Bagging__base_estimator__class_weight': [{0: 1, 1: 1}, {0: 1, 1: 40}, {0: 1, 1: 60}, {0: 1, 1: 80}]\n",
    "     }\n",
    "]"
   ]
  },
  {
   "cell_type": "code",
   "execution_count": 42,
   "metadata": {},
   "outputs": [],
   "source": [
    "from sklearn.metrics import make_scorer"
   ]
  },
  {
   "cell_type": "code",
   "execution_count": 43,
   "metadata": {},
   "outputs": [],
   "source": [
    "def financial_score_with_best_threshold(y_true, y_pred_proba):\n",
    "    optimal_threshold = get_best_threshold_for_profit(y_true, y_pred_proba)\n",
    "    profit = financial_score(y_true, (y_pred_proba > optimal_threshold))\n",
    "    return profit"
   ]
  },
  {
   "cell_type": "code",
   "execution_count": 44,
   "metadata": {},
   "outputs": [
    {
     "name": "stdout",
     "output_type": "stream",
     "text": [
      "Fitting 10 folds for each of 48 candidates, totalling 480 fits\n"
     ]
    },
    {
     "name": "stderr",
     "output_type": "stream",
     "text": [
      "[Parallel(n_jobs=-1)]: Using backend LokyBackend with 8 concurrent workers.\n",
      "[Parallel(n_jobs=-1)]: Done  34 tasks      | elapsed:   10.5s\n",
      "[Parallel(n_jobs=-1)]: Done 184 tasks      | elapsed:  3.5min\n",
      "[Parallel(n_jobs=-1)]: Done 434 tasks      | elapsed: 169.6min\n",
      "[Parallel(n_jobs=-1)]: Done 480 out of 480 | elapsed: 220.7min finished\n"
     ]
    },
    {
     "name": "stdout",
     "output_type": "stream",
     "text": [
      "Fitting 10 folds for each of 512 candidates, totalling 5120 fits\n"
     ]
    },
    {
     "name": "stderr",
     "output_type": "stream",
     "text": [
      "[Parallel(n_jobs=-1)]: Using backend LokyBackend with 8 concurrent workers.\n",
      "[Parallel(n_jobs=-1)]: Done  34 tasks      | elapsed:  4.2min\n",
      "[Parallel(n_jobs=-1)]: Done 184 tasks      | elapsed: 20.4min\n",
      "[Parallel(n_jobs=-1)]: Done 434 tasks      | elapsed: 52.0min\n",
      "[Parallel(n_jobs=-1)]: Done 784 tasks      | elapsed: 105.5min\n",
      "[Parallel(n_jobs=-1)]: Done 1234 tasks      | elapsed: 173.6min\n",
      "[Parallel(n_jobs=-1)]: Done 1784 tasks      | elapsed: 229.7min\n",
      "[Parallel(n_jobs=-1)]: Done 2434 tasks      | elapsed: 326.4min\n",
      "[Parallel(n_jobs=-1)]: Done 3184 tasks      | elapsed: 420.7min\n",
      "[Parallel(n_jobs=-1)]: Done 4034 tasks      | elapsed: 540.3min\n",
      "[Parallel(n_jobs=-1)]: Done 4984 tasks      | elapsed: 674.6min\n",
      "[Parallel(n_jobs=-1)]: Done 5120 out of 5120 | elapsed: 695.5min finished\n"
     ]
    }
   ],
   "source": [
    "best_models = []\n",
    "best_results = []\n",
    "for pipe, params in zip(models, params_grid):\n",
    "    pipeline = Pipeline(pipe)\n",
    "    \n",
    "    gs = GridSearchCV(estimator=pipeline,\n",
    "                      param_grid=params,\n",
    "                      cv=StratifiedKFold(10),\n",
    "                      scoring=make_scorer(financial_score_with_best_threshold, needs_proba=True),\n",
    "                      verbose=1,\n",
    "                      n_jobs=-1)\n",
    "    \n",
    "    gs.fit(X_train, y_train)\n",
    "    best_models.append(gs.best_estimator_)\n",
    "    results = gs.cv_results_\n",
    "    y_pred_proba = gs.best_estimator_.predict_proba(X_test)[:, 1]\n",
    "    best_threshold = get_best_threshold_for_profit(y_test, y_pred_proba, thresholds_number=1000)\n",
    "\n",
    "    results['test_set_financial_score'] = financial_score(y_test, (y_pred_proba>best_threshold))\n",
    "    best_results.append(pd.DataFrame(results))"
   ]
  },
  {
   "cell_type": "code",
   "execution_count": 45,
   "metadata": {},
   "outputs": [
    {
     "data": {
      "text/plain": [
       "[Pipeline(memory=None,\n",
       "          steps=[('LogReg',\n",
       "                  LogisticRegression(C=10, class_weight={0: 1, 1: 1}, dual=False,\n",
       "                                     fit_intercept=True, intercept_scaling=1,\n",
       "                                     l1_ratio=None, max_iter=100,\n",
       "                                     multi_class='warn', n_jobs=None,\n",
       "                                     penalty='l1', random_state=None,\n",
       "                                     solver='warn', tol=0.0001, verbose=0,\n",
       "                                     warm_start=False))],\n",
       "          verbose=False), Pipeline(memory=None,\n",
       "          steps=[('Bagging',\n",
       "                  BaggingClassifier(base_estimator=DecisionTreeClassifier(class_weight={0: 1,\n",
       "                                                                                        1: 1},\n",
       "                                                                          criterion='gini',\n",
       "                                                                          max_depth=5,\n",
       "                                                                          max_features=None,\n",
       "                                                                          max_leaf_nodes=None,\n",
       "                                                                          min_impurity_decrease=0.0,\n",
       "                                                                          min_impurity_split=None,\n",
       "                                                                          min_samples_leaf=15,\n",
       "                                                                          min_samples_split=40,\n",
       "                                                                          min_weight_fraction_leaf=0.0,\n",
       "                                                                          presort=False,\n",
       "                                                                          random_state=None,\n",
       "                                                                          splitter='best'),\n",
       "                                    bootstrap=True, bootstrap_features=False,\n",
       "                                    max_features=20, max_samples=0.7,\n",
       "                                    n_estimators=200, n_jobs=None,\n",
       "                                    oob_score=False, random_state=None,\n",
       "                                    verbose=0, warm_start=False))],\n",
       "          verbose=False)]"
      ]
     },
     "execution_count": 45,
     "metadata": {},
     "output_type": "execute_result"
    }
   ],
   "source": [
    "best_models"
   ]
  },
  {
   "cell_type": "code",
   "execution_count": 69,
   "metadata": {
    "scrolled": true
   },
   "outputs": [
    {
     "data": {
      "text/html": [
       "<div>\n",
       "<style scoped>\n",
       "    .dataframe tbody tr th:only-of-type {\n",
       "        vertical-align: middle;\n",
       "    }\n",
       "\n",
       "    .dataframe tbody tr th {\n",
       "        vertical-align: top;\n",
       "    }\n",
       "\n",
       "    .dataframe thead th {\n",
       "        text-align: right;\n",
       "    }\n",
       "</style>\n",
       "<table border=\"1\" class=\"dataframe\">\n",
       "  <thead>\n",
       "    <tr style=\"text-align: right;\">\n",
       "      <th></th>\n",
       "      <th>mean_fit_time</th>\n",
       "      <th>std_fit_time</th>\n",
       "      <th>mean_score_time</th>\n",
       "      <th>std_score_time</th>\n",
       "      <th>param_Bagging__base_estimator__class_weight</th>\n",
       "      <th>param_Bagging__base_estimator__max_depth</th>\n",
       "      <th>param_Bagging__base_estimator__min_samples_leaf</th>\n",
       "      <th>param_Bagging__base_estimator__min_samples_split</th>\n",
       "      <th>param_Bagging__max_features</th>\n",
       "      <th>param_Bagging__n_estimators</th>\n",
       "      <th>...</th>\n",
       "      <th>split4_test_score</th>\n",
       "      <th>split5_test_score</th>\n",
       "      <th>split6_test_score</th>\n",
       "      <th>split7_test_score</th>\n",
       "      <th>split8_test_score</th>\n",
       "      <th>split9_test_score</th>\n",
       "      <th>mean_test_score</th>\n",
       "      <th>std_test_score</th>\n",
       "      <th>rank_test_score</th>\n",
       "      <th>test_set_financial_score</th>\n",
       "    </tr>\n",
       "  </thead>\n",
       "  <tbody>\n",
       "    <tr>\n",
       "      <td>0</td>\n",
       "      <td>39.109182</td>\n",
       "      <td>1.467294</td>\n",
       "      <td>1.039998</td>\n",
       "      <td>0.163826</td>\n",
       "      <td>{0: 1, 1: 1}</td>\n",
       "      <td>5</td>\n",
       "      <td>5</td>\n",
       "      <td>5</td>\n",
       "      <td>10</td>\n",
       "      <td>200</td>\n",
       "      <td>...</td>\n",
       "      <td>49600.0</td>\n",
       "      <td>49100.0</td>\n",
       "      <td>56200.0</td>\n",
       "      <td>52100.0</td>\n",
       "      <td>46600.0</td>\n",
       "      <td>41100.0</td>\n",
       "      <td>50620.218851</td>\n",
       "      <td>4839.989016</td>\n",
       "      <td>55</td>\n",
       "      <td>59700</td>\n",
       "    </tr>\n",
       "    <tr>\n",
       "      <td>1</td>\n",
       "      <td>65.332857</td>\n",
       "      <td>1.847301</td>\n",
       "      <td>1.873972</td>\n",
       "      <td>0.190201</td>\n",
       "      <td>{0: 1, 1: 1}</td>\n",
       "      <td>5</td>\n",
       "      <td>5</td>\n",
       "      <td>5</td>\n",
       "      <td>20</td>\n",
       "      <td>200</td>\n",
       "      <td>...</td>\n",
       "      <td>59100.0</td>\n",
       "      <td>51500.0</td>\n",
       "      <td>56800.0</td>\n",
       "      <td>52200.0</td>\n",
       "      <td>46800.0</td>\n",
       "      <td>43100.0</td>\n",
       "      <td>52290.234684</td>\n",
       "      <td>4885.523173</td>\n",
       "      <td>5</td>\n",
       "      <td>59700</td>\n",
       "    </tr>\n",
       "    <tr>\n",
       "      <td>2</td>\n",
       "      <td>38.887982</td>\n",
       "      <td>1.296656</td>\n",
       "      <td>0.957509</td>\n",
       "      <td>0.075121</td>\n",
       "      <td>{0: 1, 1: 1}</td>\n",
       "      <td>5</td>\n",
       "      <td>5</td>\n",
       "      <td>15</td>\n",
       "      <td>10</td>\n",
       "      <td>200</td>\n",
       "      <td>...</td>\n",
       "      <td>59400.0</td>\n",
       "      <td>49400.0</td>\n",
       "      <td>57900.0</td>\n",
       "      <td>50800.0</td>\n",
       "      <td>48100.0</td>\n",
       "      <td>41000.0</td>\n",
       "      <td>51620.194591</td>\n",
       "      <td>5377.809385</td>\n",
       "      <td>19</td>\n",
       "      <td>59700</td>\n",
       "    </tr>\n",
       "    <tr>\n",
       "      <td>3</td>\n",
       "      <td>64.991095</td>\n",
       "      <td>1.583236</td>\n",
       "      <td>1.865355</td>\n",
       "      <td>0.177216</td>\n",
       "      <td>{0: 1, 1: 1}</td>\n",
       "      <td>5</td>\n",
       "      <td>5</td>\n",
       "      <td>15</td>\n",
       "      <td>20</td>\n",
       "      <td>200</td>\n",
       "      <td>...</td>\n",
       "      <td>59900.0</td>\n",
       "      <td>51300.0</td>\n",
       "      <td>57500.0</td>\n",
       "      <td>52300.0</td>\n",
       "      <td>47600.0</td>\n",
       "      <td>42400.0</td>\n",
       "      <td>52130.196123</td>\n",
       "      <td>4965.402839</td>\n",
       "      <td>13</td>\n",
       "      <td>59700</td>\n",
       "    </tr>\n",
       "    <tr>\n",
       "      <td>4</td>\n",
       "      <td>37.531238</td>\n",
       "      <td>0.944072</td>\n",
       "      <td>1.039709</td>\n",
       "      <td>0.175123</td>\n",
       "      <td>{0: 1, 1: 1}</td>\n",
       "      <td>5</td>\n",
       "      <td>5</td>\n",
       "      <td>20</td>\n",
       "      <td>10</td>\n",
       "      <td>200</td>\n",
       "      <td>...</td>\n",
       "      <td>60200.0</td>\n",
       "      <td>51800.0</td>\n",
       "      <td>55700.0</td>\n",
       "      <td>50900.0</td>\n",
       "      <td>46200.0</td>\n",
       "      <td>44500.0</td>\n",
       "      <td>51620.195868</td>\n",
       "      <td>4615.751411</td>\n",
       "      <td>18</td>\n",
       "      <td>59700</td>\n",
       "    </tr>\n",
       "    <tr>\n",
       "      <td>...</td>\n",
       "      <td>...</td>\n",
       "      <td>...</td>\n",
       "      <td>...</td>\n",
       "      <td>...</td>\n",
       "      <td>...</td>\n",
       "      <td>...</td>\n",
       "      <td>...</td>\n",
       "      <td>...</td>\n",
       "      <td>...</td>\n",
       "      <td>...</td>\n",
       "      <td>...</td>\n",
       "      <td>...</td>\n",
       "      <td>...</td>\n",
       "      <td>...</td>\n",
       "      <td>...</td>\n",
       "      <td>...</td>\n",
       "      <td>...</td>\n",
       "      <td>...</td>\n",
       "      <td>...</td>\n",
       "      <td>...</td>\n",
       "      <td>...</td>\n",
       "    </tr>\n",
       "    <tr>\n",
       "      <td>507</td>\n",
       "      <td>93.988595</td>\n",
       "      <td>1.195558</td>\n",
       "      <td>1.970140</td>\n",
       "      <td>0.148702</td>\n",
       "      <td>{0: 1, 1: 80}</td>\n",
       "      <td>40</td>\n",
       "      <td>40</td>\n",
       "      <td>15</td>\n",
       "      <td>20</td>\n",
       "      <td>200</td>\n",
       "      <td>...</td>\n",
       "      <td>13800.0</td>\n",
       "      <td>17100.0</td>\n",
       "      <td>21400.0</td>\n",
       "      <td>21600.0</td>\n",
       "      <td>15200.0</td>\n",
       "      <td>15500.0</td>\n",
       "      <td>18210.092188</td>\n",
       "      <td>4468.529896</td>\n",
       "      <td>324</td>\n",
       "      <td>59700</td>\n",
       "    </tr>\n",
       "    <tr>\n",
       "      <td>508</td>\n",
       "      <td>48.608417</td>\n",
       "      <td>1.426280</td>\n",
       "      <td>1.111916</td>\n",
       "      <td>0.129600</td>\n",
       "      <td>{0: 1, 1: 80}</td>\n",
       "      <td>40</td>\n",
       "      <td>40</td>\n",
       "      <td>20</td>\n",
       "      <td>10</td>\n",
       "      <td>200</td>\n",
       "      <td>...</td>\n",
       "      <td>14600.0</td>\n",
       "      <td>11800.0</td>\n",
       "      <td>10000.0</td>\n",
       "      <td>8100.0</td>\n",
       "      <td>6300.0</td>\n",
       "      <td>11100.0</td>\n",
       "      <td>9700.089379</td>\n",
       "      <td>3823.746968</td>\n",
       "      <td>485</td>\n",
       "      <td>59700</td>\n",
       "    </tr>\n",
       "    <tr>\n",
       "      <td>509</td>\n",
       "      <td>94.140000</td>\n",
       "      <td>1.319409</td>\n",
       "      <td>2.035762</td>\n",
       "      <td>0.112486</td>\n",
       "      <td>{0: 1, 1: 80}</td>\n",
       "      <td>40</td>\n",
       "      <td>40</td>\n",
       "      <td>20</td>\n",
       "      <td>20</td>\n",
       "      <td>200</td>\n",
       "      <td>...</td>\n",
       "      <td>15700.0</td>\n",
       "      <td>22700.0</td>\n",
       "      <td>18800.0</td>\n",
       "      <td>14200.0</td>\n",
       "      <td>14700.0</td>\n",
       "      <td>13300.0</td>\n",
       "      <td>17270.239281</td>\n",
       "      <td>5354.073519</td>\n",
       "      <td>337</td>\n",
       "      <td>59700</td>\n",
       "    </tr>\n",
       "    <tr>\n",
       "      <td>510</td>\n",
       "      <td>49.424471</td>\n",
       "      <td>1.520018</td>\n",
       "      <td>1.095896</td>\n",
       "      <td>0.059126</td>\n",
       "      <td>{0: 1, 1: 80}</td>\n",
       "      <td>40</td>\n",
       "      <td>40</td>\n",
       "      <td>40</td>\n",
       "      <td>10</td>\n",
       "      <td>200</td>\n",
       "      <td>...</td>\n",
       "      <td>14000.0</td>\n",
       "      <td>8800.0</td>\n",
       "      <td>11500.0</td>\n",
       "      <td>6100.0</td>\n",
       "      <td>7500.0</td>\n",
       "      <td>8400.0</td>\n",
       "      <td>9510.111341</td>\n",
       "      <td>3076.906838</td>\n",
       "      <td>488</td>\n",
       "      <td>59700</td>\n",
       "    </tr>\n",
       "    <tr>\n",
       "      <td>511</td>\n",
       "      <td>85.016059</td>\n",
       "      <td>15.683905</td>\n",
       "      <td>1.422440</td>\n",
       "      <td>0.431097</td>\n",
       "      <td>{0: 1, 1: 80}</td>\n",
       "      <td>40</td>\n",
       "      <td>40</td>\n",
       "      <td>40</td>\n",
       "      <td>20</td>\n",
       "      <td>200</td>\n",
       "      <td>...</td>\n",
       "      <td>26200.0</td>\n",
       "      <td>21500.0</td>\n",
       "      <td>17900.0</td>\n",
       "      <td>16300.0</td>\n",
       "      <td>17800.0</td>\n",
       "      <td>16700.0</td>\n",
       "      <td>19030.068439</td>\n",
       "      <td>3858.088573</td>\n",
       "      <td>309</td>\n",
       "      <td>59700</td>\n",
       "    </tr>\n",
       "  </tbody>\n",
       "</table>\n",
       "<p>512 rows × 25 columns</p>\n",
       "</div>"
      ],
      "text/plain": [
       "     mean_fit_time  std_fit_time  mean_score_time  std_score_time  \\\n",
       "0        39.109182      1.467294         1.039998        0.163826   \n",
       "1        65.332857      1.847301         1.873972        0.190201   \n",
       "2        38.887982      1.296656         0.957509        0.075121   \n",
       "3        64.991095      1.583236         1.865355        0.177216   \n",
       "4        37.531238      0.944072         1.039709        0.175123   \n",
       "..             ...           ...              ...             ...   \n",
       "507      93.988595      1.195558         1.970140        0.148702   \n",
       "508      48.608417      1.426280         1.111916        0.129600   \n",
       "509      94.140000      1.319409         2.035762        0.112486   \n",
       "510      49.424471      1.520018         1.095896        0.059126   \n",
       "511      85.016059     15.683905         1.422440        0.431097   \n",
       "\n",
       "    param_Bagging__base_estimator__class_weight  \\\n",
       "0                                  {0: 1, 1: 1}   \n",
       "1                                  {0: 1, 1: 1}   \n",
       "2                                  {0: 1, 1: 1}   \n",
       "3                                  {0: 1, 1: 1}   \n",
       "4                                  {0: 1, 1: 1}   \n",
       "..                                          ...   \n",
       "507                               {0: 1, 1: 80}   \n",
       "508                               {0: 1, 1: 80}   \n",
       "509                               {0: 1, 1: 80}   \n",
       "510                               {0: 1, 1: 80}   \n",
       "511                               {0: 1, 1: 80}   \n",
       "\n",
       "    param_Bagging__base_estimator__max_depth  \\\n",
       "0                                          5   \n",
       "1                                          5   \n",
       "2                                          5   \n",
       "3                                          5   \n",
       "4                                          5   \n",
       "..                                       ...   \n",
       "507                                       40   \n",
       "508                                       40   \n",
       "509                                       40   \n",
       "510                                       40   \n",
       "511                                       40   \n",
       "\n",
       "    param_Bagging__base_estimator__min_samples_leaf  \\\n",
       "0                                                 5   \n",
       "1                                                 5   \n",
       "2                                                 5   \n",
       "3                                                 5   \n",
       "4                                                 5   \n",
       "..                                              ...   \n",
       "507                                              40   \n",
       "508                                              40   \n",
       "509                                              40   \n",
       "510                                              40   \n",
       "511                                              40   \n",
       "\n",
       "    param_Bagging__base_estimator__min_samples_split  \\\n",
       "0                                                  5   \n",
       "1                                                  5   \n",
       "2                                                 15   \n",
       "3                                                 15   \n",
       "4                                                 20   \n",
       "..                                               ...   \n",
       "507                                               15   \n",
       "508                                               20   \n",
       "509                                               20   \n",
       "510                                               40   \n",
       "511                                               40   \n",
       "\n",
       "    param_Bagging__max_features param_Bagging__n_estimators  ...  \\\n",
       "0                            10                         200  ...   \n",
       "1                            20                         200  ...   \n",
       "2                            10                         200  ...   \n",
       "3                            20                         200  ...   \n",
       "4                            10                         200  ...   \n",
       "..                          ...                         ...  ...   \n",
       "507                          20                         200  ...   \n",
       "508                          10                         200  ...   \n",
       "509                          20                         200  ...   \n",
       "510                          10                         200  ...   \n",
       "511                          20                         200  ...   \n",
       "\n",
       "    split4_test_score  split5_test_score  split6_test_score  \\\n",
       "0             49600.0            49100.0            56200.0   \n",
       "1             59100.0            51500.0            56800.0   \n",
       "2             59400.0            49400.0            57900.0   \n",
       "3             59900.0            51300.0            57500.0   \n",
       "4             60200.0            51800.0            55700.0   \n",
       "..                ...                ...                ...   \n",
       "507           13800.0            17100.0            21400.0   \n",
       "508           14600.0            11800.0            10000.0   \n",
       "509           15700.0            22700.0            18800.0   \n",
       "510           14000.0             8800.0            11500.0   \n",
       "511           26200.0            21500.0            17900.0   \n",
       "\n",
       "     split7_test_score  split8_test_score  split9_test_score  mean_test_score  \\\n",
       "0              52100.0            46600.0            41100.0     50620.218851   \n",
       "1              52200.0            46800.0            43100.0     52290.234684   \n",
       "2              50800.0            48100.0            41000.0     51620.194591   \n",
       "3              52300.0            47600.0            42400.0     52130.196123   \n",
       "4              50900.0            46200.0            44500.0     51620.195868   \n",
       "..                 ...                ...                ...              ...   \n",
       "507            21600.0            15200.0            15500.0     18210.092188   \n",
       "508             8100.0             6300.0            11100.0      9700.089379   \n",
       "509            14200.0            14700.0            13300.0     17270.239281   \n",
       "510             6100.0             7500.0             8400.0      9510.111341   \n",
       "511            16300.0            17800.0            16700.0     19030.068439   \n",
       "\n",
       "     std_test_score  rank_test_score  test_set_financial_score  \n",
       "0       4839.989016               55                     59700  \n",
       "1       4885.523173                5                     59700  \n",
       "2       5377.809385               19                     59700  \n",
       "3       4965.402839               13                     59700  \n",
       "4       4615.751411               18                     59700  \n",
       "..              ...              ...                       ...  \n",
       "507     4468.529896              324                     59700  \n",
       "508     3823.746968              485                     59700  \n",
       "509     5354.073519              337                     59700  \n",
       "510     3076.906838              488                     59700  \n",
       "511     3858.088573              309                     59700  \n",
       "\n",
       "[512 rows x 25 columns]"
      ]
     },
     "execution_count": 69,
     "metadata": {},
     "output_type": "execute_result"
    }
   ],
   "source": [
    "best_results[1]"
   ]
  },
  {
   "cell_type": "code",
   "execution_count": 70,
   "metadata": {},
   "outputs": [
    {
     "data": {
      "text/plain": [
       "{'base_estimator__class_weight': {0: 1, 1: 1},\n",
       " 'base_estimator__criterion': 'gini',\n",
       " 'base_estimator__max_depth': 5,\n",
       " 'base_estimator__max_features': None,\n",
       " 'base_estimator__max_leaf_nodes': None,\n",
       " 'base_estimator__min_impurity_decrease': 0.0,\n",
       " 'base_estimator__min_impurity_split': None,\n",
       " 'base_estimator__min_samples_leaf': 15,\n",
       " 'base_estimator__min_samples_split': 40,\n",
       " 'base_estimator__min_weight_fraction_leaf': 0.0,\n",
       " 'base_estimator__presort': False,\n",
       " 'base_estimator__random_state': None,\n",
       " 'base_estimator__splitter': 'best',\n",
       " 'base_estimator': DecisionTreeClassifier(class_weight={0: 1, 1: 1}, criterion='gini', max_depth=5,\n",
       "                        max_features=None, max_leaf_nodes=None,\n",
       "                        min_impurity_decrease=0.0, min_impurity_split=None,\n",
       "                        min_samples_leaf=15, min_samples_split=40,\n",
       "                        min_weight_fraction_leaf=0.0, presort=False,\n",
       "                        random_state=None, splitter='best'),\n",
       " 'bootstrap': True,\n",
       " 'bootstrap_features': False,\n",
       " 'max_features': 20,\n",
       " 'max_samples': 0.7,\n",
       " 'n_estimators': 200,\n",
       " 'n_jobs': None,\n",
       " 'oob_score': False,\n",
       " 'random_state': None,\n",
       " 'verbose': 0,\n",
       " 'warm_start': False}"
      ]
     },
     "execution_count": 70,
     "metadata": {},
     "output_type": "execute_result"
    }
   ],
   "source": [
    "best_models[1][0].get_params()"
   ]
  },
  {
   "cell_type": "markdown",
   "metadata": {},
   "source": [
    "#### Best LogisticRegression model"
   ]
  },
  {
   "cell_type": "code",
   "execution_count": 87,
   "metadata": {},
   "outputs": [],
   "source": [
    "lr_params = best_models[0][0].get_params()"
   ]
  },
  {
   "cell_type": "code",
   "execution_count": 89,
   "metadata": {},
   "outputs": [
    {
     "data": {
      "text/plain": [
       "LogisticRegression(C=10, class_weight={0: 1, 1: 1}, dual=False,\n",
       "                   fit_intercept=True, intercept_scaling=1, l1_ratio=None,\n",
       "                   max_iter=100, multi_class='warn', n_jobs=None, penalty='l1',\n",
       "                   random_state=None, solver='warn', tol=0.0001, verbose=0,\n",
       "                   warm_start=False)"
      ]
     },
     "execution_count": 89,
     "metadata": {},
     "output_type": "execute_result"
    }
   ],
   "source": [
    "best_gs_model = LogisticRegression(**lr_params)\n",
    "best_gs_model.fit(X_train, y_train)"
   ]
  },
  {
   "cell_type": "markdown",
   "metadata": {},
   "source": [
    "Train set results"
   ]
  },
  {
   "cell_type": "code",
   "execution_count": 90,
   "metadata": {},
   "outputs": [],
   "source": [
    "y_pred_proba_train_gs = best_gs_model.predict_proba(X_train)[:, 1]"
   ]
  },
  {
   "cell_type": "code",
   "execution_count": 91,
   "metadata": {},
   "outputs": [
    {
     "name": "stdout",
     "output_type": "stream",
     "text": [
      "Max F1 score: 0.5880 for threshold: 0.3166\n"
     ]
    }
   ],
   "source": [
    "threshold_f1 = get_best_threshold_for_F1(y_train, y_pred_proba_train_gs)\n",
    "f1 = f1_score(y_train, (y_pred_proba_train_gs > threshold_f1))\n",
    "print('Max F1 score: {:.4f} for threshold: {:.4f}'.format(f1, threshold_f1))"
   ]
  },
  {
   "cell_type": "code",
   "execution_count": 92,
   "metadata": {},
   "outputs": [
    {
     "name": "stdout",
     "output_type": "stream",
     "text": [
      "Max profit: 517900 PLN for threshold: 0.1222\n"
     ]
    }
   ],
   "source": [
    "threshold_profit = get_best_threshold_for_profit(y_train, y_pred_proba_train_gs)\n",
    "profit = financial_score(y_train, (y_pred_proba_train_gs > threshold_profit))\n",
    "print('Max profit: {} PLN for threshold: {:.4f}'.format(profit, threshold_profit))"
   ]
  },
  {
   "cell_type": "code",
   "execution_count": 93,
   "metadata": {},
   "outputs": [
    {
     "data": {
      "image/png": "[encoded data removed]",
      "text/plain": [
       "<Figure size 432x288 with 1 Axes>"
      ]
     },
     "metadata": {
      "needs_background": "light"
     },
     "output_type": "display_data"
    }
   ],
   "source": [
    "plot_distributions_and_thresholds(y_pred_proba_train_gs, \n",
    "                                  y_train, \n",
    "                                  threshold_profit, \n",
    "                                  threshold_f1,\n",
    "                                  'Chosen thresholds for train set')"
   ]
  },
  {
   "cell_type": "markdown",
   "metadata": {},
   "source": [
    "Test set results"
   ]
  },
  {
   "cell_type": "code",
   "execution_count": 94,
   "metadata": {},
   "outputs": [],
   "source": [
    "y_pred_proba_test_gs = best_gs_model.predict_proba(X_test)[:, 1]"
   ]
  },
  {
   "cell_type": "code",
   "execution_count": 95,
   "metadata": {},
   "outputs": [
    {
     "data": {
      "image/png": "[encoded data removed]",
      "text/plain": [
       "<Figure size 432x432 with 1 Axes>"
      ]
     },
     "metadata": {
      "needs_background": "light"
     },
     "output_type": "display_data"
    }
   ],
   "source": [
    "plot_roc_curve(y_test, y_pred_proba_test_gs)"
   ]
  },
  {
   "cell_type": "code",
   "execution_count": 96,
   "metadata": {},
   "outputs": [
    {
     "name": "stdout",
     "output_type": "stream",
     "text": [
      "Max F1 score: 0.6119 for threshold: 0.2605\n"
     ]
    }
   ],
   "source": [
    "threshold_f1 = get_best_threshold_for_F1(y_test, y_pred_proba_test_gs)\n",
    "f1 = f1_score(y_test, (y_pred_proba_test_gs > threshold_f1))\n",
    "print('Max F1 score: {:.4f} for threshold: {:.4f}'.format(f1, threshold_f1))"
   ]
  },
  {
   "cell_type": "code",
   "execution_count": 97,
   "metadata": {},
   "outputs": [
    {
     "name": "stdout",
     "output_type": "stream",
     "text": [
      "Max profit: 59700 PLN for threshold: 0.1142\n"
     ]
    }
   ],
   "source": [
    "threshold_profit = get_best_threshold_for_profit(y_test, y_pred_proba_test_gs)\n",
    "profit = financial_score(y_test, (y_pred_proba_test_gs > threshold_profit))\n",
    "print('Max profit: {} PLN for threshold: {:.4f}'.format(profit, threshold_profit))"
   ]
  },
  {
   "cell_type": "code",
   "execution_count": 98,
   "metadata": {},
   "outputs": [
    {
     "data": {
      "image/png": "[encoded data removed]",
      "text/plain": [
       "<Figure size 432x288 with 1 Axes>"
      ]
     },
     "metadata": {
      "needs_background": "light"
     },
     "output_type": "display_data"
    }
   ],
   "source": [
    "plot_distributions_and_thresholds(y_pred_proba_test_gs, \n",
    "                                  y_test, \n",
    "                                  threshold_profit, \n",
    "                                  threshold_f1,\n",
    "                                  'Chosen thresholds for test set')"
   ]
  },
  {
   "cell_type": "markdown",
   "metadata": {},
   "source": [
    "#### Best BaggingClasifier model"
   ]
  },
  {
   "cell_type": "code",
   "execution_count": 74,
   "metadata": {},
   "outputs": [
    {
     "data": {
      "text/plain": [
       "BaggingClassifier(base_estimator=DecisionTreeClassifier(class_weight={0: 1,\n",
       "                                                                      1: 1},\n",
       "                                                        criterion='gini',\n",
       "                                                        max_depth=5,\n",
       "                                                        max_features=None,\n",
       "                                                        max_leaf_nodes=None,\n",
       "                                                        min_impurity_decrease=0.0,\n",
       "                                                        min_impurity_split=None,\n",
       "                                                        min_samples_leaf=15,\n",
       "                                                        min_samples_split=40,\n",
       "                                                        min_weight_fraction_leaf=0.0,\n",
       "                                                        presort=False,\n",
       "                                                        random_state=None,\n",
       "                                                        splitter='best'),\n",
       "                  bootstrap=True, bootstrap_features=False, max_features=20,\n",
       "                  max_samples=1.0, n_estimators=200, n_jobs=None,\n",
       "                  oob_score=False, random_state=None, verbose=0,\n",
       "                  warm_start=False)"
      ]
     },
     "execution_count": 74,
     "metadata": {},
     "output_type": "execute_result"
    }
   ],
   "source": [
    "bc_params = best_models[1][0].get_params()\n",
    "best_gs_model = BaggingClassifier(base_estimator=bc_params['base_estimator'],\n",
    "                 max_features=bc_params['max_features'],\n",
    "                 n_estimators=bc_params['n_estimators'])\n",
    "best_gs_model.fit(X_train, y_train)"
   ]
  },
  {
   "cell_type": "markdown",
   "metadata": {},
   "source": [
    "Train set results"
   ]
  },
  {
   "cell_type": "code",
   "execution_count": 75,
   "metadata": {},
   "outputs": [],
   "source": [
    "y_pred_proba_train_gs = best_gs_model.predict_proba(X_train)[:, 1]"
   ]
  },
  {
   "cell_type": "code",
   "execution_count": 76,
   "metadata": {},
   "outputs": [
    {
     "name": "stdout",
     "output_type": "stream",
     "text": [
      "Max F1 score: 0.5998 for threshold: 0.0942\n"
     ]
    }
   ],
   "source": [
    "threshold_f1 = get_best_threshold_for_F1(y_train, y_pred_proba_train_gs)\n",
    "f1 = f1_score(y_train, (y_pred_proba_train_gs > threshold_f1))\n",
    "print('Max F1 score: {:.4f} for threshold: {:.4f}'.format(f1, threshold_f1))"
   ]
  },
  {
   "cell_type": "code",
   "execution_count": 77,
   "metadata": {},
   "outputs": [
    {
     "name": "stdout",
     "output_type": "stream",
     "text": [
      "Max profit: 529900 PLN for threshold: 0.0521\n"
     ]
    }
   ],
   "source": [
    "threshold_profit = get_best_threshold_for_profit(y_train, y_pred_proba_train_gs)\n",
    "profit = financial_score(y_train, (y_pred_proba_train_gs > threshold_profit))\n",
    "print('Max profit: {} PLN for threshold: {:.4f}'.format(profit, threshold_profit))"
   ]
  },
  {
   "cell_type": "code",
   "execution_count": 78,
   "metadata": {},
   "outputs": [
    {
     "data": {
      "image/png": "[encoded data removed]",
      "text/plain": [
       "<Figure size 432x288 with 1 Axes>"
      ]
     },
     "metadata": {
      "needs_background": "light"
     },
     "output_type": "display_data"
    }
   ],
   "source": [
    "plot_distributions_and_thresholds(y_pred_proba_train_gs, \n",
    "                                  y_train, \n",
    "                                  threshold_profit, \n",
    "                                  threshold_f1,\n",
    "                                  'Chosen thresholds for train set')"
   ]
  },
  {
   "cell_type": "markdown",
   "metadata": {},
   "source": [
    "Test set results"
   ]
  },
  {
   "cell_type": "code",
   "execution_count": 79,
   "metadata": {},
   "outputs": [],
   "source": [
    "y_pred_proba_test_gs = best_gs_model.predict_proba(X_test)[:, 1]"
   ]
  },
  {
   "cell_type": "code",
   "execution_count": 80,
   "metadata": {},
   "outputs": [
    {
     "data": {
      "image/png": "[encoded data removed]",
      "text/plain": [
       "<Figure size 432x432 with 1 Axes>"
      ]
     },
     "metadata": {
      "needs_background": "light"
     },
     "output_type": "display_data"
    }
   ],
   "source": [
    "plot_roc_curve(y_test, y_pred_proba_test_gs)"
   ]
  },
  {
   "cell_type": "code",
   "execution_count": 81,
   "metadata": {},
   "outputs": [
    {
     "name": "stdout",
     "output_type": "stream",
     "text": [
      "Max F1 score: 0.6140 for threshold: 0.0842\n"
     ]
    }
   ],
   "source": [
    "threshold_f1 = get_best_threshold_for_F1(y_test, y_pred_proba_test_gs)\n",
    "f1 = f1_score(y_test, (y_pred_proba_test_gs > threshold_f1))\n",
    "print('Max F1 score: {:.4f} for threshold: {:.4f}'.format(f1, threshold_f1))"
   ]
  },
  {
   "cell_type": "code",
   "execution_count": 82,
   "metadata": {},
   "outputs": [
    {
     "name": "stdout",
     "output_type": "stream",
     "text": [
      "Max profit: 59900 PLN for threshold: 0.0501\n"
     ]
    }
   ],
   "source": [
    "threshold_profit = get_best_threshold_for_profit(y_test, y_pred_proba_test_gs)\n",
    "profit = financial_score(y_test, (y_pred_proba_test_gs > threshold_profit))\n",
    "print('Max profit: {} PLN for threshold: {:.4f}'.format(profit, threshold_profit))"
   ]
  },
  {
   "cell_type": "code",
   "execution_count": 84,
   "metadata": {},
   "outputs": [
    {
     "data": {
      "image/png": "[encoded data removed]",
      "text/plain": [
       "<Figure size 432x288 with 1 Axes>"
      ]
     },
     "metadata": {
      "needs_background": "light"
     },
     "output_type": "display_data"
    }
   ],
   "source": [
    "plot_distributions_and_thresholds(y_pred_proba_test_gs, \n",
    "                                  y_test, \n",
    "                                  threshold_profit, \n",
    "                                  threshold_f1,\n",
    "                                  'Chosen thresholds for test set')"
   ]
  },
  {
   "cell_type": "markdown",
   "metadata": {},
   "source": [
    "## 7. Cross validation undersampling"
   ]
  },
  {
   "cell_type": "code",
   "execution_count": 49,
   "metadata": {},
   "outputs": [],
   "source": [
    "from copy import deepcopy\n",
    "\n",
    "def cv_repeated_undersampling(X, \n",
    "                              y, \n",
    "                              model, \n",
    "                              size=1, \n",
    "                              n_estimators=20, \n",
    "                              cv=StratifiedKFold(5)):\n",
    "    \n",
    "    y_pred_proba = []\n",
    "    y_true = []\n",
    "    \n",
    "    for train_idx, test_idx in cv.split(X, y):\n",
    "        \n",
    "        X_train, X_test = X[train_idx, :], X[test_idx, :]\n",
    "        y_train, y_test = y[train_idx], y[test_idx]\n",
    "        \n",
    "        class_0_indexes = np.where(y_train==0)[0]\n",
    "        class_1_amount = np.sum((y_train==1).astype(int))\n",
    "        class_0_indexes_number = int(size * class_1_amount)\n",
    "        \n",
    "        y_pred_proba_cv = np.zeros((n_estimators, len(y_test)))\n",
    "        \n",
    "        for i in range(n_estimators):\n",
    "        \n",
    "            idx0 = np.random.choice(class_0_indexes, class_0_indexes_number, replace=False)\n",
    "            idx1 = np.where(y_train==1)[0]\n",
    "            idx_all = np.r_[idx0, idx1]\n",
    "\n",
    "            X_train_sub = X_train[idx_all, :]\n",
    "            y_train_sub = y_train[idx_all]\n",
    "\n",
    "            model_tmp = deepcopy(model)\n",
    "            model_tmp.fit(X_train_sub, y_train_sub)\n",
    "            y_prob = model_tmp.predict_proba(X_test)[:, 1]\n",
    "            y_pred_proba_cv[i,:] = y_prob\n",
    "        \n",
    "        y_pred_proba_cv_mean = y_pred_proba_cv.mean(0)\n",
    "        \n",
    "        y_pred_proba.extend(y_pred_proba_cv_mean.tolist())\n",
    "        y_true.extend(y_test.tolist())\n",
    "        \n",
    "    return np.array(y_pred_proba), np.array(y_true)"
   ]
  },
  {
   "cell_type": "code",
   "execution_count": 50,
   "metadata": {},
   "outputs": [],
   "source": [
    "def predict_with_repeated_undersampling(X_train, \n",
    "                                        y_train, \n",
    "                                        X_test, \n",
    "                                        model, \n",
    "                                        size=1, \n",
    "                                        n_estimators=20):    \n",
    "        \n",
    "    y_pred_proba_matrix = np.zeros((n_estimators, X_test.shape[0]))\n",
    "\n",
    "    for i in range(n_estimators):\n",
    "        class_0_indexes = np.where(y_train==0)[0]\n",
    "        class_1_amount = np.sum((y_train==1).astype(int))\n",
    "        class_0_indexes_number = int(size * class_1_amount)\n",
    "\n",
    "        idx0 = np.random.choice(class_0_indexes, class_0_indexes_number, replace=False)\n",
    "        idx1 = np.where(y_train==1)[0]\n",
    "        idx_all = np.r_[idx0, idx1]\n",
    "\n",
    "        X_train_sub = X_train[idx_all, :]\n",
    "        y_train_sub = y_train[idx_all]\n",
    "\n",
    "        model_tmp = deepcopy(model)\n",
    "        model_tmp.fit(X_train_sub, y_train_sub)\n",
    "        y_prob = model_tmp.predict_proba(X_test)[:, 1]\n",
    "        y_pred_proba_matrix[i,:] = y_prob\n",
    "\n",
    "    y_pred_proba_mean = y_pred_proba_matrix.mean(0)\n",
    "        \n",
    "    return y_pred_proba_mean"
   ]
  },
  {
   "cell_type": "code",
   "execution_count": 63,
   "metadata": {},
   "outputs": [],
   "source": [
    "from sklearn.model_selection import ParameterGrid"
   ]
  },
  {
   "cell_type": "markdown",
   "metadata": {},
   "source": [
    "### 7.1. First iteration of undersampling grid search"
   ]
  },
  {
   "cell_type": "code",
   "execution_count": 64,
   "metadata": {},
   "outputs": [],
   "source": [
    "hyperparams = [\n",
    "    {\n",
    "       'model': LogisticRegression(),\n",
    "        'grid': {\n",
    "            'C': [0.001, 0.01, 0.1, 1, 10, 100], \n",
    "            'penalty': ['l1', 'l2']\n",
    "         }\n",
    "    },\n",
    "    {\n",
    "        'model': RandomForestClassifier(),\n",
    "        'grid': {\n",
    "            'n_estimators': [200], \n",
    "            'max_features': [10, 20],\n",
    "            'max_depth': [10, 20, 40],\n",
    "            'min_samples_leaf': [15, 20, 40],\n",
    "            'min_samples_split': [15, 20, 40]\n",
    "         }\n",
    "    }\n",
    "]"
   ]
  },
  {
   "cell_type": "code",
   "execution_count": 129,
   "metadata": {
    "scrolled": true
   },
   "outputs": [],
   "source": [
    "def undersampling_grid_search(hyperparams):\n",
    "    best_f1_score_models = []\n",
    "    best_profit_models = []\n",
    "    best_auc_models = []\n",
    "\n",
    "    for params in hyperparams:\n",
    "        pg = ParameterGrid(params['grid'])\n",
    "        models = []\n",
    "        f1_scores = []\n",
    "        profits = []\n",
    "        auc_scores = []\n",
    "        print('model: {}'.format(params['model'].__class__.__name__))\n",
    "        for idx, combination in enumerate(pg):\n",
    "            \n",
    "            model = params['model']\n",
    "            model.set_params(**combination)\n",
    "            y_pred_proba_cv_us, y_cv = cv_repeated_undersampling(X=X_train, \n",
    "                                                                 y=y_train, \n",
    "                                                                 model=model,\n",
    "                                                                 n_estimators=100, \n",
    "                                                                 size=2, \n",
    "                                                                 cv=StratifiedKFold(10))\n",
    "            y_pred_proba_test_us = predict_with_repeated_undersampling(X_train, \n",
    "                                                                       y_train, \n",
    "                                                                       X_test, \n",
    "                                                                       model=model, \n",
    "                                                                       n_estimators=100, \n",
    "                                                                       size=2)\n",
    "\n",
    "            threshold_f1 = get_best_threshold_for_F1(y_cv, y_pred_proba_cv_us)\n",
    "            threshold_profit = get_best_threshold_for_profit(y_cv, y_pred_proba_cv_us)\n",
    "\n",
    "            f1_scores.append(f1_score(y_test, (y_pred_proba_test_us > threshold_f1)))\n",
    "            profits.append(financial_score(y_test, (y_pred_proba_test_us > threshold_profit)))\n",
    "            auc_scores.append(roc_auc_score(y_test, y_pred_proba_test_us))\n",
    "\n",
    "            models.append(model)\n",
    "\n",
    "        best_f1_score_model_idx = np.argmax(np.array(f1_scores))\n",
    "        best_profit_model_idx = np.argmax(np.array(profits))\n",
    "        best_auc_model_idx = np.argmax(np.array(auc_scores))\n",
    "\n",
    "        best_f1_score_models.append({\n",
    "            'model': models[best_f1_score_model_idx],\n",
    "            'F1': f1_scores[best_f1_score_model_idx],\n",
    "            'profit': profits[best_f1_score_model_idx],\n",
    "            'AUC': auc_scores[best_f1_score_model_idx]\n",
    "        })\n",
    "        best_profit_models.append({\n",
    "            'model': models[best_profit_model_idx],\n",
    "            'F1': f1_scores[best_profit_model_idx],\n",
    "            'profit': profits[best_profit_model_idx],\n",
    "            'AUC': auc_scores[best_profit_model_idx]\n",
    "        })\n",
    "        best_auc_models.append({\n",
    "            'model': models[best_auc_model_idx],\n",
    "            'F1': f1_scores[best_auc_model_idx],\n",
    "            'profit': profits[best_auc_model_idx],\n",
    "            'AUC': auc_scores[best_auc_model_idx]\n",
    "        })\n",
    "    return best_f1_score_models, best_profit_models, best_auc_models"
   ]
  },
  {
   "cell_type": "code",
   "execution_count": null,
   "metadata": {},
   "outputs": [],
   "source": [
    "best_f1_score_models, best_profit_models, best_auc_models = undersampling_grid_search(hyperparams)"
   ]
  },
  {
   "cell_type": "code",
   "execution_count": 131,
   "metadata": {},
   "outputs": [
    {
     "data": {
      "text/plain": [
       "[{'model': LogisticRegression(C=100, class_weight=None, dual=False, fit_intercept=True,\n",
       "                     intercept_scaling=1, l1_ratio=None, max_iter=100,\n",
       "                     multi_class='warn', n_jobs=None, penalty='l2',\n",
       "                     random_state=None, solver='warn', tol=0.0001, verbose=0,\n",
       "                     warm_start=False),\n",
       "  'F1': 0.5991189427312776,\n",
       "  'profit': 60700,\n",
       "  'AUC': 0.9179568880420559},\n",
       " {'model': RandomForestClassifier(bootstrap=True, class_weight=None, criterion='gini',\n",
       "                         max_depth=40, max_features=20, max_leaf_nodes=None,\n",
       "                         min_impurity_decrease=0.0, min_impurity_split=None,\n",
       "                         min_samples_leaf=40, min_samples_split=40,\n",
       "                         min_weight_fraction_leaf=0.0, n_estimators=200,\n",
       "                         n_jobs=None, oob_score=False, random_state=None,\n",
       "                         verbose=0, warm_start=False),\n",
       "  'F1': 0.5898617511520737,\n",
       "  'profit': 56900,\n",
       "  'AUC': 0.9142306191317922}]"
      ]
     },
     "execution_count": 131,
     "metadata": {},
     "output_type": "execute_result"
    }
   ],
   "source": [
    "best_profit_models"
   ]
  },
  {
   "cell_type": "markdown",
   "metadata": {},
   "source": [
    "Chosen hiperparameter values lie on boundaires of given space, therefore hiperparameters space should be broaden durning next iterarion. Nevertheless, best models and their performance are shown below."
   ]
  },
  {
   "cell_type": "markdown",
   "metadata": {},
   "source": [
    "#### Best LogisticRegression model for profit"
   ]
  },
  {
   "cell_type": "code",
   "execution_count": 132,
   "metadata": {},
   "outputs": [
    {
     "data": {
      "text/plain": [
       "{'C': 100,\n",
       " 'class_weight': None,\n",
       " 'dual': False,\n",
       " 'fit_intercept': True,\n",
       " 'intercept_scaling': 1,\n",
       " 'l1_ratio': None,\n",
       " 'max_iter': 100,\n",
       " 'multi_class': 'warn',\n",
       " 'n_jobs': None,\n",
       " 'penalty': 'l2',\n",
       " 'random_state': None,\n",
       " 'solver': 'warn',\n",
       " 'tol': 0.0001,\n",
       " 'verbose': 0,\n",
       " 'warm_start': False}"
      ]
     },
     "execution_count": 132,
     "metadata": {},
     "output_type": "execute_result"
    }
   ],
   "source": [
    "us_params = best_profit_models[0]['model'].get_params()\n",
    "us_params"
   ]
  },
  {
   "cell_type": "code",
   "execution_count": 135,
   "metadata": {},
   "outputs": [],
   "source": [
    "best_us_model = LogisticRegression(**us_params)"
   ]
  },
  {
   "cell_type": "markdown",
   "metadata": {},
   "source": [
    "Train set results"
   ]
  },
  {
   "cell_type": "code",
   "execution_count": 137,
   "metadata": {},
   "outputs": [],
   "source": [
    "y_pred_proba_train_us = predict_with_repeated_undersampling(X_train, \n",
    "                                                            y_train, \n",
    "                                                            X_train, \n",
    "                                                            model=best_us_model,\n",
    "                                                            n_estimators=100,\n",
    "                                                            size=2)"
   ]
  },
  {
   "cell_type": "code",
   "execution_count": 138,
   "metadata": {},
   "outputs": [
    {
     "name": "stdout",
     "output_type": "stream",
     "text": [
      "Max F1 score: 0.5830 for threshold: 0.9218\n"
     ]
    }
   ],
   "source": [
    "threshold_f1 = get_best_threshold_for_F1(y_train, y_pred_proba_train_us)\n",
    "f1 = f1_score(y_train, (y_pred_proba_train_us > threshold_f1))\n",
    "print('Max F1 score: {:.4f} for threshold: {:.4f}'.format(f1, threshold_f1))"
   ]
  },
  {
   "cell_type": "code",
   "execution_count": 139,
   "metadata": {},
   "outputs": [
    {
     "name": "stdout",
     "output_type": "stream",
     "text": [
      "Max profit: 516500 PLN for threshold: 0.8357\n"
     ]
    }
   ],
   "source": [
    "threshold_profit = get_best_threshold_for_profit(y_train, y_pred_proba_train_us)\n",
    "profit = financial_score(y_train, (y_pred_proba_train_us > threshold_profit))\n",
    "print('Max profit: {} PLN for threshold: {:.4f}'.format(profit, threshold_profit))"
   ]
  },
  {
   "cell_type": "code",
   "execution_count": 140,
   "metadata": {},
   "outputs": [
    {
     "data": {
      "image/png": "[encoded data removed]",
      "text/plain": [
       "<Figure size 432x288 with 1 Axes>"
      ]
     },
     "metadata": {
      "needs_background": "light"
     },
     "output_type": "display_data"
    }
   ],
   "source": [
    "plot_distributions_and_thresholds(y_pred_proba_train_us, \n",
    "                                  y_train, \n",
    "                                  threshold_profit, \n",
    "                                  threshold_f1,\n",
    "                                  'Chosen thresholds for train set')"
   ]
  },
  {
   "cell_type": "markdown",
   "metadata": {},
   "source": [
    "Test set results"
   ]
  },
  {
   "cell_type": "code",
   "execution_count": 141,
   "metadata": {},
   "outputs": [],
   "source": [
    "y_pred_proba_test_us = predict_with_repeated_undersampling(X_train, \n",
    "                                                           y_train, \n",
    "                                                           X_test,\n",
    "                                                           model=best_us_model,\n",
    "                                                           n_estimators=100,\n",
    "                                                           size=2)"
   ]
  },
  {
   "cell_type": "code",
   "execution_count": 142,
   "metadata": {},
   "outputs": [
    {
     "data": {
      "image/png": "[encoded data removed]",
      "text/plain": [
       "<Figure size 432x432 with 1 Axes>"
      ]
     },
     "metadata": {
      "needs_background": "light"
     },
     "output_type": "display_data"
    }
   ],
   "source": [
    "plot_roc_curve(y_test, y_pred_proba_test_us)"
   ]
  },
  {
   "cell_type": "code",
   "execution_count": 143,
   "metadata": {},
   "outputs": [
    {
     "name": "stdout",
     "output_type": "stream",
     "text": [
      "Max F1 score: 0.6154 for threshold: 0.9359\n"
     ]
    }
   ],
   "source": [
    "threshold_f1 = get_best_threshold_for_F1(y_test, y_pred_proba_test_us)\n",
    "f1 = f1_score(y_test, (y_pred_proba_test_us > threshold_f1))\n",
    "print('Max F1 score: {:.4f} for threshold: {:.4f}'.format(f1, threshold_f1))"
   ]
  },
  {
   "cell_type": "code",
   "execution_count": 144,
   "metadata": {},
   "outputs": [
    {
     "name": "stdout",
     "output_type": "stream",
     "text": [
      "Max profit: 61000 PLN for threshold: 0.8377\n"
     ]
    }
   ],
   "source": [
    "threshold_profit = get_best_threshold_for_profit(y_test, y_pred_proba_test_us)\n",
    "profit = financial_score(y_test, (y_pred_proba_test_us > threshold_profit))\n",
    "print('Max profit: {} PLN for threshold: {:.4f}'.format(profit, threshold_profit))"
   ]
  },
  {
   "cell_type": "code",
   "execution_count": 145,
   "metadata": {},
   "outputs": [
    {
     "data": {
      "image/png": "[encoded data removed]",
      "text/plain": [
       "<Figure size 432x288 with 1 Axes>"
      ]
     },
     "metadata": {
      "needs_background": "light"
     },
     "output_type": "display_data"
    }
   ],
   "source": [
    "plot_distributions_and_thresholds(y_pred_proba_test_us, \n",
    "                                  y_test, \n",
    "                                  threshold_profit, \n",
    "                                  threshold_f1,\n",
    "                                  'Chosen thresholds for test set')"
   ]
  },
  {
   "cell_type": "markdown",
   "metadata": {},
   "source": [
    "#### Best RandomForestClassifier model for profit"
   ]
  },
  {
   "cell_type": "code",
   "execution_count": 146,
   "metadata": {},
   "outputs": [
    {
     "data": {
      "text/plain": [
       "{'bootstrap': True,\n",
       " 'class_weight': None,\n",
       " 'criterion': 'gini',\n",
       " 'max_depth': 40,\n",
       " 'max_features': 20,\n",
       " 'max_leaf_nodes': None,\n",
       " 'min_impurity_decrease': 0.0,\n",
       " 'min_impurity_split': None,\n",
       " 'min_samples_leaf': 40,\n",
       " 'min_samples_split': 40,\n",
       " 'min_weight_fraction_leaf': 0.0,\n",
       " 'n_estimators': 200,\n",
       " 'n_jobs': None,\n",
       " 'oob_score': False,\n",
       " 'random_state': None,\n",
       " 'verbose': 0,\n",
       " 'warm_start': False}"
      ]
     },
     "execution_count": 146,
     "metadata": {},
     "output_type": "execute_result"
    }
   ],
   "source": [
    "us_params = best_profit_models[1]['model'].get_params()\n",
    "us_params"
   ]
  },
  {
   "cell_type": "code",
   "execution_count": 147,
   "metadata": {},
   "outputs": [],
   "source": [
    "best_us_model = RandomForestClassifier(**us_params)"
   ]
  },
  {
   "cell_type": "markdown",
   "metadata": {},
   "source": [
    "Train set results"
   ]
  },
  {
   "cell_type": "code",
   "execution_count": 149,
   "metadata": {},
   "outputs": [],
   "source": [
    "y_pred_proba_train_us = predict_with_repeated_undersampling(X_train, \n",
    "                                                            y_train, \n",
    "                                                            X_train,\n",
    "                                                            model=best_us_model,\n",
    "                                                            n_estimators=100,\n",
    "                                                            size=2)"
   ]
  },
  {
   "cell_type": "code",
   "execution_count": 150,
   "metadata": {},
   "outputs": [
    {
     "name": "stdout",
     "output_type": "stream",
     "text": [
      "Max F1 score: 0.5287 for threshold: 0.6874\n"
     ]
    }
   ],
   "source": [
    "threshold_f1 = get_best_threshold_for_F1(y_train, y_pred_proba_train_us)\n",
    "f1 = f1_score(y_train, (y_pred_proba_train_us > threshold_f1))\n",
    "print('Max F1 score: {:.4f} for threshold: {:.4f}'.format(f1, threshold_f1))"
   ]
  },
  {
   "cell_type": "code",
   "execution_count": 151,
   "metadata": {},
   "outputs": [
    {
     "name": "stdout",
     "output_type": "stream",
     "text": [
      "Max profit: 441200 PLN for threshold: 0.5691\n"
     ]
    }
   ],
   "source": [
    "threshold_profit = get_best_threshold_for_profit(y_train, y_pred_proba_train_us)\n",
    "profit = financial_score(y_train, (y_pred_proba_train_us > threshold_profit))\n",
    "print('Max profit: {} PLN for threshold: {:.4f}'.format(profit, threshold_profit))"
   ]
  },
  {
   "cell_type": "code",
   "execution_count": 152,
   "metadata": {},
   "outputs": [
    {
     "data": {
      "image/png": "[encoded data removed]",
      "text/plain": [
       "<Figure size 432x288 with 1 Axes>"
      ]
     },
     "metadata": {
      "needs_background": "light"
     },
     "output_type": "display_data"
    }
   ],
   "source": [
    "plot_distributions_and_thresholds(y_pred_proba_train_us, \n",
    "                                  y_train, \n",
    "                                  threshold_profit, \n",
    "                                  threshold_f1,\n",
    "                                  'Chosen thresholds for train set')"
   ]
  },
  {
   "cell_type": "markdown",
   "metadata": {},
   "source": [
    "Test set results"
   ]
  },
  {
   "cell_type": "code",
   "execution_count": 153,
   "metadata": {},
   "outputs": [],
   "source": [
    "y_pred_proba_test_us = predict_with_repeated_undersampling(X_train, \n",
    "                                                           y_train, \n",
    "                                                           X_test,\n",
    "                                                           model=best_us_model,\n",
    "                                                           n_estimators=100,\n",
    "                                                           size=2)"
   ]
  },
  {
   "cell_type": "code",
   "execution_count": 154,
   "metadata": {},
   "outputs": [
    {
     "data": {
      "image/png": "[encoded data removed]",
      "text/plain": [
       "<Figure size 432x432 with 1 Axes>"
      ]
     },
     "metadata": {
      "needs_background": "light"
     },
     "output_type": "display_data"
    }
   ],
   "source": [
    "plot_roc_curve(y_test, y_pred_proba_test_us)"
   ]
  },
  {
   "cell_type": "code",
   "execution_count": 155,
   "metadata": {},
   "outputs": [
    {
     "name": "stdout",
     "output_type": "stream",
     "text": [
      "Max F1 score: 0.5622 for threshold: 0.7054\n"
     ]
    }
   ],
   "source": [
    "threshold_f1 = get_best_threshold_for_F1(y_test, y_pred_proba_test_us)\n",
    "f1 = f1_score(y_test, (y_pred_proba_test_us > threshold_f1))\n",
    "print('Max F1 score: {:.4f} for threshold: {:.4f}'.format(f1, threshold_f1))"
   ]
  },
  {
   "cell_type": "code",
   "execution_count": 156,
   "metadata": {},
   "outputs": [
    {
     "name": "stdout",
     "output_type": "stream",
     "text": [
      "Max profit: 52200 PLN for threshold: 0.6132\n"
     ]
    }
   ],
   "source": [
    "threshold_profit = get_best_threshold_for_profit(y_test, y_pred_proba_test_us)\n",
    "profit = financial_score(y_test, (y_pred_proba_test_us > threshold_profit))\n",
    "print('Max profit: {} PLN for threshold: {:.4f}'.format(profit, threshold_profit))"
   ]
  },
  {
   "cell_type": "code",
   "execution_count": 157,
   "metadata": {},
   "outputs": [
    {
     "data": {
      "image/png": "[encoded data removed]",
      "text/plain": [
       "<Figure size 432x288 with 1 Axes>"
      ]
     },
     "metadata": {
      "needs_background": "light"
     },
     "output_type": "display_data"
    }
   ],
   "source": [
    "plot_distributions_and_thresholds(y_pred_proba_test_us, \n",
    "                                  y_test, \n",
    "                                  threshold_profit, \n",
    "                                  threshold_f1,\n",
    "                                  'Chosen thresholds for test set')"
   ]
  },
  {
   "cell_type": "markdown",
   "metadata": {},
   "source": [
    "### 7.2. Second iteration of undersampling grid search"
   ]
  },
  {
   "cell_type": "code",
   "execution_count": 158,
   "metadata": {},
   "outputs": [],
   "source": [
    "hyperparams = [\n",
    "    {\n",
    "       'model': LogisticRegression(),\n",
    "        'grid': {\n",
    "            'C': [10, 100, 150, 200, 300], \n",
    "            'penalty': ['l1', 'l2']\n",
    "         }\n",
    "    },\n",
    "    {\n",
    "        'model': RandomForestClassifier(),\n",
    "        'grid': {\n",
    "            'n_estimators': [200], \n",
    "            'max_features': [20],\n",
    "            'max_depth': [30, 40, 50, 70, 100],\n",
    "            'min_samples_leaf': [30, 40, 50, 100],\n",
    "            'min_samples_split': [30, 40, 50, 100]\n",
    "         }\n",
    "    }\n",
    "]"
   ]
  },
  {
   "cell_type": "code",
   "execution_count": 159,
   "metadata": {},
   "outputs": [
    {
     "name": "stdout",
     "output_type": "stream",
     "text": [
      "model: LogisticRegression\n",
      "model: RandomForestClassifier\n"
     ]
    }
   ],
   "source": [
    "best_f1_score_models, best_profit_models, best_auc_models = undersampling_grid_search(hyperparams)"
   ]
  },
  {
   "cell_type": "code",
   "execution_count": 160,
   "metadata": {},
   "outputs": [
    {
     "data": {
      "text/plain": [
       "[{'model': LogisticRegression(C=300, class_weight=None, dual=False, fit_intercept=True,\n",
       "                     intercept_scaling=1, l1_ratio=None, max_iter=100,\n",
       "                     multi_class='warn', n_jobs=None, penalty='l2',\n",
       "                     random_state=None, solver='warn', tol=0.0001, verbose=0,\n",
       "                     warm_start=False),\n",
       "  'F1': 0.593886462882096,\n",
       "  'profit': 60700,\n",
       "  'AUC': 0.917026698193338},\n",
       " {'model': RandomForestClassifier(bootstrap=True, class_weight=None, criterion='gini',\n",
       "                         max_depth=100, max_features=20, max_leaf_nodes=None,\n",
       "                         min_impurity_decrease=0.0, min_impurity_split=None,\n",
       "                         min_samples_leaf=100, min_samples_split=100,\n",
       "                         min_weight_fraction_leaf=0.0, n_estimators=200,\n",
       "                         n_jobs=None, oob_score=False, random_state=None,\n",
       "                         verbose=0, warm_start=False),\n",
       "  'F1': 0.5742574257425743,\n",
       "  'profit': 53000,\n",
       "  'AUC': 0.908485112830284}]"
      ]
     },
     "execution_count": 160,
     "metadata": {},
     "output_type": "execute_result"
    }
   ],
   "source": [
    "best_profit_models"
   ]
  },
  {
   "cell_type": "markdown",
   "metadata": {},
   "source": [
    "#### Best LogisticRegression model for profit"
   ]
  },
  {
   "cell_type": "code",
   "execution_count": 161,
   "metadata": {},
   "outputs": [
    {
     "data": {
      "text/plain": [
       "{'C': 300,\n",
       " 'class_weight': None,\n",
       " 'dual': False,\n",
       " 'fit_intercept': True,\n",
       " 'intercept_scaling': 1,\n",
       " 'l1_ratio': None,\n",
       " 'max_iter': 100,\n",
       " 'multi_class': 'warn',\n",
       " 'n_jobs': None,\n",
       " 'penalty': 'l2',\n",
       " 'random_state': None,\n",
       " 'solver': 'warn',\n",
       " 'tol': 0.0001,\n",
       " 'verbose': 0,\n",
       " 'warm_start': False}"
      ]
     },
     "execution_count": 161,
     "metadata": {},
     "output_type": "execute_result"
    }
   ],
   "source": [
    "us_params = best_profit_models[0]['model'].get_params()\n",
    "us_params"
   ]
  },
  {
   "cell_type": "code",
   "execution_count": 162,
   "metadata": {},
   "outputs": [],
   "source": [
    "best_us_model = LogisticRegression(**us_params)"
   ]
  },
  {
   "cell_type": "markdown",
   "metadata": {},
   "source": [
    "Train set results"
   ]
  },
  {
   "cell_type": "code",
   "execution_count": 163,
   "metadata": {},
   "outputs": [],
   "source": [
    "y_pred_proba_train_us = predict_with_repeated_undersampling(X_train, \n",
    "                                                            y_train, \n",
    "                                                            X_train,\n",
    "                                                            model=best_us_model,\n",
    "                                                            n_estimators=100,\n",
    "                                                            size=2)"
   ]
  },
  {
   "cell_type": "code",
   "execution_count": 164,
   "metadata": {},
   "outputs": [
    {
     "name": "stdout",
     "output_type": "stream",
     "text": [
      "Max F1 score: 0.5841 for threshold: 0.9238\n"
     ]
    }
   ],
   "source": [
    "threshold_f1 = get_best_threshold_for_F1(y_train, y_pred_proba_train_us)\n",
    "f1 = f1_score(y_train, (y_pred_proba_train_us > threshold_f1))\n",
    "print('Max F1 score: {:.4f} for threshold: {:.4f}'.format(f1, threshold_f1))"
   ]
  },
  {
   "cell_type": "code",
   "execution_count": 165,
   "metadata": {},
   "outputs": [
    {
     "name": "stdout",
     "output_type": "stream",
     "text": [
      "Max profit: 516400 PLN for threshold: 0.8277\n"
     ]
    }
   ],
   "source": [
    "threshold_profit = get_best_threshold_for_profit(y_train, y_pred_proba_train_us)\n",
    "profit = financial_score(y_train, (y_pred_proba_train_us > threshold_profit))\n",
    "print('Max profit: {} PLN for threshold: {:.4f}'.format(profit, threshold_profit))"
   ]
  },
  {
   "cell_type": "code",
   "execution_count": 166,
   "metadata": {},
   "outputs": [
    {
     "data": {
      "image/png": "[encoded data removed]",
      "text/plain": [
       "<Figure size 432x288 with 1 Axes>"
      ]
     },
     "metadata": {
      "needs_background": "light"
     },
     "output_type": "display_data"
    }
   ],
   "source": [
    "plot_distributions_and_thresholds(y_pred_proba_train_us, \n",
    "                                  y_train, \n",
    "                                  threshold_profit, \n",
    "                                  threshold_f1,\n",
    "                                  'Chosen thresholds for train set')"
   ]
  },
  {
   "cell_type": "markdown",
   "metadata": {},
   "source": [
    "Test set results"
   ]
  },
  {
   "cell_type": "code",
   "execution_count": 167,
   "metadata": {},
   "outputs": [],
   "source": [
    "y_pred_proba_test_us = predict_with_repeated_undersampling(X_train, \n",
    "                                                           y_train, \n",
    "                                                           X_test,\n",
    "                                                           model=best_us_model,\n",
    "                                                           n_estimators=100,\n",
    "                                                           size=2)"
   ]
  },
  {
   "cell_type": "code",
   "execution_count": 168,
   "metadata": {},
   "outputs": [
    {
     "data": {
      "image/png": "[encoded data removed]",
      "text/plain": [
       "<Figure size 432x432 with 1 Axes>"
      ]
     },
     "metadata": {
      "needs_background": "light"
     },
     "output_type": "display_data"
    }
   ],
   "source": [
    "plot_roc_curve(y_test, y_pred_proba_test_us)"
   ]
  },
  {
   "cell_type": "code",
   "execution_count": 169,
   "metadata": {},
   "outputs": [
    {
     "name": "stdout",
     "output_type": "stream",
     "text": [
      "Max F1 score: 0.6147 for threshold: 0.9399\n"
     ]
    }
   ],
   "source": [
    "threshold_f1 = get_best_threshold_for_F1(y_test, y_pred_proba_test_us)\n",
    "f1 = f1_score(y_test, (y_pred_proba_test_us > threshold_f1))\n",
    "print('Max F1 score: {:.4f} for threshold: {:.4f}'.format(f1, threshold_f1))"
   ]
  },
  {
   "cell_type": "code",
   "execution_count": 170,
   "metadata": {},
   "outputs": [
    {
     "name": "stdout",
     "output_type": "stream",
     "text": [
      "Max profit: 61100 PLN for threshold: 0.8317\n"
     ]
    }
   ],
   "source": [
    "threshold_profit = get_best_threshold_for_profit(y_test, y_pred_proba_test_us)\n",
    "profit = financial_score(y_test, (y_pred_proba_test_us > threshold_profit))\n",
    "print('Max profit: {} PLN for threshold: {:.4f}'.format(profit, threshold_profit))"
   ]
  },
  {
   "cell_type": "code",
   "execution_count": 171,
   "metadata": {},
   "outputs": [
    {
     "data": {
      "image/png": "[encoded data removed]",
      "text/plain": [
       "<Figure size 432x288 with 1 Axes>"
      ]
     },
     "metadata": {
      "needs_background": "light"
     },
     "output_type": "display_data"
    }
   ],
   "source": [
    "plot_distributions_and_thresholds(y_pred_proba_test_us, \n",
    "                                  y_test, \n",
    "                                  threshold_profit, \n",
    "                                  threshold_f1,\n",
    "                                  'Chosen thresholds for test set')"
   ]
  },
  {
   "cell_type": "markdown",
   "metadata": {},
   "source": [
    "#### Best RandomForestClassifier model for profit"
   ]
  },
  {
   "cell_type": "code",
   "execution_count": 172,
   "metadata": {},
   "outputs": [
    {
     "data": {
      "text/plain": [
       "{'bootstrap': True,\n",
       " 'class_weight': None,\n",
       " 'criterion': 'gini',\n",
       " 'max_depth': 100,\n",
       " 'max_features': 20,\n",
       " 'max_leaf_nodes': None,\n",
       " 'min_impurity_decrease': 0.0,\n",
       " 'min_impurity_split': None,\n",
       " 'min_samples_leaf': 100,\n",
       " 'min_samples_split': 100,\n",
       " 'min_weight_fraction_leaf': 0.0,\n",
       " 'n_estimators': 200,\n",
       " 'n_jobs': None,\n",
       " 'oob_score': False,\n",
       " 'random_state': None,\n",
       " 'verbose': 0,\n",
       " 'warm_start': False}"
      ]
     },
     "execution_count": 172,
     "metadata": {},
     "output_type": "execute_result"
    }
   ],
   "source": [
    "us_params = best_profit_models[1]['model'].get_params()\n",
    "us_params"
   ]
  },
  {
   "cell_type": "code",
   "execution_count": 173,
   "metadata": {},
   "outputs": [],
   "source": [
    "best_us_model = RandomForestClassifier(**us_params)"
   ]
  },
  {
   "cell_type": "markdown",
   "metadata": {},
   "source": [
    "Train set results"
   ]
  },
  {
   "cell_type": "code",
   "execution_count": 174,
   "metadata": {},
   "outputs": [],
   "source": [
    "y_pred_proba_train_us = predict_with_repeated_undersampling(X_train, \n",
    "                                                            y_train, \n",
    "                                                            X_train,\n",
    "                                                            model=best_us_model,\n",
    "                                                            n_estimators=100,\n",
    "                                                            size=2)"
   ]
  },
  {
   "cell_type": "code",
   "execution_count": 175,
   "metadata": {},
   "outputs": [
    {
     "name": "stdout",
     "output_type": "stream",
     "text": [
      "Max F1 score: 0.3795 for threshold: 0.6593\n"
     ]
    }
   ],
   "source": [
    "threshold_f1 = get_best_threshold_for_F1(y_train, y_pred_proba_train_us)\n",
    "f1 = f1_score(y_train, (y_pred_proba_train_us > threshold_f1))\n",
    "print('Max F1 score: {:.4f} for threshold: {:.4f}'.format(f1, threshold_f1))"
   ]
  },
  {
   "cell_type": "code",
   "execution_count": 176,
   "metadata": {},
   "outputs": [
    {
     "name": "stdout",
     "output_type": "stream",
     "text": [
      "Max profit: 272600 PLN for threshold: 0.6273\n"
     ]
    }
   ],
   "source": [
    "threshold_profit = get_best_threshold_for_profit(y_train, y_pred_proba_train_us)\n",
    "profit = financial_score(y_train, (y_pred_proba_train_us > threshold_profit))\n",
    "print('Max profit: {} PLN for threshold: {:.4f}'.format(profit, threshold_profit))"
   ]
  },
  {
   "cell_type": "code",
   "execution_count": 177,
   "metadata": {},
   "outputs": [
    {
     "data": {
      "image/png": "[encoded data removed]",
      "text/plain": [
       "<Figure size 432x288 with 1 Axes>"
      ]
     },
     "metadata": {
      "needs_background": "light"
     },
     "output_type": "display_data"
    }
   ],
   "source": [
    "plot_distributions_and_thresholds(y_pred_proba_train_us, \n",
    "                                  y_train, \n",
    "                                  threshold_profit, \n",
    "                                  threshold_f1,\n",
    "                                  'Chosen thresholds for train set')"
   ]
  },
  {
   "cell_type": "markdown",
   "metadata": {},
   "source": [
    "Test set results"
   ]
  },
  {
   "cell_type": "code",
   "execution_count": 178,
   "metadata": {},
   "outputs": [],
   "source": [
    "y_pred_proba_test_us = predict_with_repeated_undersampling(X_train, \n",
    "                                                           y_train, \n",
    "                                                           X_test,\n",
    "                                                           model=best_us_model,\n",
    "                                                           n_estimators=100,\n",
    "                                                           size=2)"
   ]
  },
  {
   "cell_type": "code",
   "execution_count": 179,
   "metadata": {},
   "outputs": [
    {
     "data": {
      "image/png": "[encoded data removed]",
      "text/plain": [
       "<Figure size 432x432 with 1 Axes>"
      ]
     },
     "metadata": {
      "needs_background": "light"
     },
     "output_type": "display_data"
    }
   ],
   "source": [
    "plot_roc_curve(y_test, y_pred_proba_test_us)"
   ]
  },
  {
   "cell_type": "code",
   "execution_count": 180,
   "metadata": {},
   "outputs": [
    {
     "name": "stdout",
     "output_type": "stream",
     "text": [
      "Max F1 score: 0.4023 for threshold: 0.6573\n"
     ]
    }
   ],
   "source": [
    "threshold_f1 = get_best_threshold_for_F1(y_test, y_pred_proba_test_us)\n",
    "f1 = f1_score(y_test, (y_pred_proba_test_us > threshold_f1))\n",
    "print('Max F1 score: {:.4f} for threshold: {:.4f}'.format(f1, threshold_f1))"
   ]
  },
  {
   "cell_type": "code",
   "execution_count": 181,
   "metadata": {},
   "outputs": [
    {
     "name": "stdout",
     "output_type": "stream",
     "text": [
      "Max profit: 32800 PLN for threshold: 0.5932\n"
     ]
    }
   ],
   "source": [
    "threshold_profit = get_best_threshold_for_profit(y_test, y_pred_proba_test_us)\n",
    "profit = financial_score(y_test, (y_pred_proba_test_us > threshold_profit))\n",
    "print('Max profit: {} PLN for threshold: {:.4f}'.format(profit, threshold_profit))"
   ]
  },
  {
   "cell_type": "code",
   "execution_count": 182,
   "metadata": {},
   "outputs": [
    {
     "data": {
      "image/png": "[encoded data removed]",
      "text/plain": [
       "<Figure size 432x288 with 1 Axes>"
      ]
     },
     "metadata": {
      "needs_background": "light"
     },
     "output_type": "display_data"
    }
   ],
   "source": [
    "plot_distributions_and_thresholds(y_pred_proba_test_us, \n",
    "                                  y_test, \n",
    "                                  threshold_profit, \n",
    "                                  threshold_f1,\n",
    "                                  'Chosen thresholds for test set')"
   ]
  },
  {
   "cell_type": "code",
   "execution_count": null,
   "metadata": {},
   "outputs": [],
   "source": []
  },
  {
   "cell_type": "code",
   "execution_count": null,
   "metadata": {},
   "outputs": [],
   "source": []
  },
  {
   "cell_type": "code",
   "execution_count": null,
   "metadata": {},
   "outputs": [],
   "source": []
  }
 ],
 "metadata": {
  "kernelspec": {
   "display_name": "Python 3",
   "language": "python",
   "name": "python3"
  },
  "language_info": {
   "codemirror_mode": {
    "name": "ipython",
    "version": 3
   },
   "file_extension": ".py",
   "mimetype": "text/x-python",
   "name": "python",
   "nbconvert_exporter": "python",
   "pygments_lexer": "ipython3",
   "version": "3.7.4"
  }
 },
 "nbformat": 4,
 "nbformat_minor": 2
}
